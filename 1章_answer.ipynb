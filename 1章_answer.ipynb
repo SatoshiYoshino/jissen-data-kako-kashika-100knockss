{
  "nbformat": 4,
  "nbformat_minor": 0,
  "metadata": {
    "kernelspec": {
      "display_name": "Python 3",
      "language": "python",
      "name": "python3"
    },
    "language_info": {
      "codemirror_mode": {
        "name": "ipython",
        "version": 3
      },
      "file_extension": ".py",
      "mimetype": "text/x-python",
      "name": "python",
      "nbconvert_exporter": "python",
      "pygments_lexer": "ipython3",
      "version": "3.6.9"
    },
    "colab": {
      "name": "1章_answer.ipynb",
      "provenance": [],
      "collapsed_sections": [],
      "include_colab_link": true
    }
  },
  "cells": [
    {
      "cell_type": "markdown",
      "metadata": {
        "id": "view-in-github",
        "colab_type": "text"
      },
      "source": [
        "<a href=\"https://colab.research.google.com/github/SatoshiYoshino/jissen-data-kako-kashika-100knockss/blob/master/1%E7%AB%A0_answer.ipynb\" target=\"_parent\"><img src=\"https://colab.research.google.com/assets/colab-badge.svg\" alt=\"Open In Colab\"/></a>"
      ]
    },
    {
      "cell_type": "code",
      "metadata": {
        "id": "HB3mviwv25Jc",
        "colab": {
          "base_uri": "https://localhost:8080/"
        },
        "outputId": "17c53743-ba27-4586-8593-776aea13d6c9"
      },
      "source": [
        "# 下記セルを実行すると、authorization codeの入力を求められます。\n",
        "# 出力されたリンク先をクリックし、Googleアカウントにログインし、\n",
        "# authorization codeをコピーし、貼り付けをおこなってください。\n",
        "from google.colab import drive\n",
        "drive.mount('/content/drive')"
      ],
      "execution_count": 2,
      "outputs": [
        {
          "output_type": "stream",
          "name": "stdout",
          "text": [
            "Mounted at /content/drive\n"
          ]
        }
      ]
    },
    {
      "cell_type": "code",
      "metadata": {
        "id": "HcOU_u4l25Jd"
      },
      "source": [
        "# カレントディレクトリを変更（移動）: os.chdir()\n",
        "\n",
        "import os \n",
        "project = '100knock-process-visualization'\n",
        "chapter = 1\n",
        "os.chdir(f'/content/drive/MyDrive/python/{project}/chapter-{chapter}/')\n",
        "\n",
        "import os \n",
        "project = '100knock-process-visualization'\n",
        "chapter = 1\n",
        "os.chdir(f'/content/drive/MyDrive/python/{project}/chapter-{chapter}/')"
      ],
      "execution_count": 3,
      "outputs": []
    },
    {
      "cell_type": "code",
      "metadata": {
        "colab": {
          "base_uri": "https://localhost:8080/",
          "height": 35
        },
        "id": "q3TV_YVVQMen",
        "outputId": "d41a9102-b740-47d3-b748-af0c29a86a60"
      },
      "source": [
        "#カレントディレクトリを取得・確認: os.getcwd()\n",
        "os.getcwd()"
      ],
      "execution_count": 4,
      "outputs": [
        {
          "output_type": "execute_result",
          "data": {
            "application/vnd.google.colaboratory.intrinsic+json": {
              "type": "string"
            },
            "text/plain": [
              "'/content/drive/MyDrive/python/100knock-process-visualization/chapter-1'"
            ]
          },
          "metadata": {},
          "execution_count": 4
        }
      ]
    },
    {
      "cell_type": "code",
      "metadata": {
        "id": "ZYecGf_yQSOB"
      },
      "source": [
        "# カレントの移動 　chapter = 2に移動する\n",
        "import os \n",
        "project = '100knock-process-visualization'\n",
        "chapter = 2\n",
        "os.chdir(f'/content/drive/MyDrive/python/{project}/chapter-{chapter}/')\n"
      ],
      "execution_count": 5,
      "outputs": []
    },
    {
      "cell_type": "code",
      "metadata": {
        "colab": {
          "base_uri": "https://localhost:8080/",
          "height": 35
        },
        "id": "KYlyD6_5QkFS",
        "outputId": "9afc8c39-6b93-4b0c-9d38-2b1df73fa9e5"
      },
      "source": [
        "#カレントディレクトリを取得・確認: os.getcwd()\n",
        "os.getcwd()"
      ],
      "execution_count": 6,
      "outputs": [
        {
          "output_type": "execute_result",
          "data": {
            "application/vnd.google.colaboratory.intrinsic+json": {
              "type": "string"
            },
            "text/plain": [
              "'/content/drive/MyDrive/python/100knock-process-visualization/chapter-2'"
            ]
          },
          "metadata": {},
          "execution_count": 6
        }
      ]
    },
    {
      "cell_type": "code",
      "metadata": {
        "id": "R8yOnHsIQnVu"
      },
      "source": [
        "# カレントの移動が成功したことが確認できたのでchapter１に戻す\n",
        "# カレントの移動 　chapter = 2に移動する\n",
        "import os \n",
        "project = '100knock-process-visualization'\n",
        "chapter = 1\n",
        "os.chdir(f'/content/drive/MyDrive/python/{project}/chapter-{chapter}/')"
      ],
      "execution_count": 7,
      "outputs": []
    },
    {
      "cell_type": "code",
      "metadata": {
        "colab": {
          "base_uri": "https://localhost:8080/",
          "height": 35
        },
        "id": "5VKC-n1oQ1Qc",
        "outputId": "7eb7039a-c699-425e-9c44-f2c3ab097013"
      },
      "source": [
        "#カレントディレクトリを取得・確認\n",
        "os.getcwd()"
      ],
      "execution_count": 8,
      "outputs": [
        {
          "output_type": "execute_result",
          "data": {
            "application/vnd.google.colaboratory.intrinsic+json": {
              "type": "string"
            },
            "text/plain": [
              "'/content/drive/MyDrive/python/100knock-process-visualization/chapter-1'"
            ]
          },
          "metadata": {},
          "execution_count": 8
        }
      ]
    },
    {
      "cell_type": "markdown",
      "metadata": {
        "id": "pCbOP-x725Jd"
      },
      "source": [
        "# １章 システムデータの加工・可視化を行う２０本ノック"
      ]
    },
    {
      "cell_type": "markdown",
      "metadata": {
        "id": "OrJw1o3ZAf2z"
      },
      "source": [
        "## ノック１：法人情報データを読み込んでみよう"
      ]
    },
    {
      "cell_type": "code",
      "metadata": {
        "id": "Kxb1fvmCv_4a",
        "colab": {
          "base_uri": "https://localhost:8080/",
          "height": 402
        },
        "outputId": "17e57e90-67fc-4b0b-f094-20ac325a5a2d"
      },
      "source": [
        "import pandas as pd\n",
        "data = pd.read_csv('data/22_shizuoka_all_20210331.csv')"
      ],
      "execution_count": 9,
      "outputs": [
        {
          "output_type": "error",
          "ename": "UnicodeDecodeError",
          "evalue": "ignored",
          "traceback": [
            "\u001b[0;31m---------------------------------------------------------------------------\u001b[0m",
            "\u001b[0;31mUnicodeDecodeError\u001b[0m                        Traceback (most recent call last)",
            "\u001b[0;32m<ipython-input-9-c63bff9f2bf6>\u001b[0m in \u001b[0;36m<module>\u001b[0;34m()\u001b[0m\n\u001b[1;32m      1\u001b[0m \u001b[0;32mimport\u001b[0m \u001b[0mpandas\u001b[0m \u001b[0;32mas\u001b[0m \u001b[0mpd\u001b[0m\u001b[0;34m\u001b[0m\u001b[0;34m\u001b[0m\u001b[0m\n\u001b[0;32m----> 2\u001b[0;31m \u001b[0mdata\u001b[0m \u001b[0;34m=\u001b[0m \u001b[0mpd\u001b[0m\u001b[0;34m.\u001b[0m\u001b[0mread_csv\u001b[0m\u001b[0;34m(\u001b[0m\u001b[0;34m'data/22_shizuoka_all_20210331.csv'\u001b[0m\u001b[0;34m)\u001b[0m\u001b[0;34m\u001b[0m\u001b[0;34m\u001b[0m\u001b[0m\n\u001b[0m",
            "\u001b[0;32m/usr/local/lib/python3.7/dist-packages/pandas/io/parsers.py\u001b[0m in \u001b[0;36mread_csv\u001b[0;34m(filepath_or_buffer, sep, delimiter, header, names, index_col, usecols, squeeze, prefix, mangle_dupe_cols, dtype, engine, converters, true_values, false_values, skipinitialspace, skiprows, skipfooter, nrows, na_values, keep_default_na, na_filter, verbose, skip_blank_lines, parse_dates, infer_datetime_format, keep_date_col, date_parser, dayfirst, cache_dates, iterator, chunksize, compression, thousands, decimal, lineterminator, quotechar, quoting, doublequote, escapechar, comment, encoding, dialect, error_bad_lines, warn_bad_lines, delim_whitespace, low_memory, memory_map, float_precision)\u001b[0m\n\u001b[1;32m    686\u001b[0m     )\n\u001b[1;32m    687\u001b[0m \u001b[0;34m\u001b[0m\u001b[0m\n\u001b[0;32m--> 688\u001b[0;31m     \u001b[0;32mreturn\u001b[0m \u001b[0m_read\u001b[0m\u001b[0;34m(\u001b[0m\u001b[0mfilepath_or_buffer\u001b[0m\u001b[0;34m,\u001b[0m \u001b[0mkwds\u001b[0m\u001b[0;34m)\u001b[0m\u001b[0;34m\u001b[0m\u001b[0;34m\u001b[0m\u001b[0m\n\u001b[0m\u001b[1;32m    689\u001b[0m \u001b[0;34m\u001b[0m\u001b[0m\n\u001b[1;32m    690\u001b[0m \u001b[0;34m\u001b[0m\u001b[0m\n",
            "\u001b[0;32m/usr/local/lib/python3.7/dist-packages/pandas/io/parsers.py\u001b[0m in \u001b[0;36m_read\u001b[0;34m(filepath_or_buffer, kwds)\u001b[0m\n\u001b[1;32m    452\u001b[0m \u001b[0;34m\u001b[0m\u001b[0m\n\u001b[1;32m    453\u001b[0m     \u001b[0;31m# Create the parser.\u001b[0m\u001b[0;34m\u001b[0m\u001b[0;34m\u001b[0m\u001b[0;34m\u001b[0m\u001b[0m\n\u001b[0;32m--> 454\u001b[0;31m     \u001b[0mparser\u001b[0m \u001b[0;34m=\u001b[0m \u001b[0mTextFileReader\u001b[0m\u001b[0;34m(\u001b[0m\u001b[0mfp_or_buf\u001b[0m\u001b[0;34m,\u001b[0m \u001b[0;34m**\u001b[0m\u001b[0mkwds\u001b[0m\u001b[0;34m)\u001b[0m\u001b[0;34m\u001b[0m\u001b[0;34m\u001b[0m\u001b[0m\n\u001b[0m\u001b[1;32m    455\u001b[0m \u001b[0;34m\u001b[0m\u001b[0m\n\u001b[1;32m    456\u001b[0m     \u001b[0;32mif\u001b[0m \u001b[0mchunksize\u001b[0m \u001b[0;32mor\u001b[0m \u001b[0miterator\u001b[0m\u001b[0;34m:\u001b[0m\u001b[0;34m\u001b[0m\u001b[0;34m\u001b[0m\u001b[0m\n",
            "\u001b[0;32m/usr/local/lib/python3.7/dist-packages/pandas/io/parsers.py\u001b[0m in \u001b[0;36m__init__\u001b[0;34m(self, f, engine, **kwds)\u001b[0m\n\u001b[1;32m    946\u001b[0m             \u001b[0mself\u001b[0m\u001b[0;34m.\u001b[0m\u001b[0moptions\u001b[0m\u001b[0;34m[\u001b[0m\u001b[0;34m\"has_index_names\"\u001b[0m\u001b[0;34m]\u001b[0m \u001b[0;34m=\u001b[0m \u001b[0mkwds\u001b[0m\u001b[0;34m[\u001b[0m\u001b[0;34m\"has_index_names\"\u001b[0m\u001b[0;34m]\u001b[0m\u001b[0;34m\u001b[0m\u001b[0;34m\u001b[0m\u001b[0m\n\u001b[1;32m    947\u001b[0m \u001b[0;34m\u001b[0m\u001b[0m\n\u001b[0;32m--> 948\u001b[0;31m         \u001b[0mself\u001b[0m\u001b[0;34m.\u001b[0m\u001b[0m_make_engine\u001b[0m\u001b[0;34m(\u001b[0m\u001b[0mself\u001b[0m\u001b[0;34m.\u001b[0m\u001b[0mengine\u001b[0m\u001b[0;34m)\u001b[0m\u001b[0;34m\u001b[0m\u001b[0;34m\u001b[0m\u001b[0m\n\u001b[0m\u001b[1;32m    949\u001b[0m \u001b[0;34m\u001b[0m\u001b[0m\n\u001b[1;32m    950\u001b[0m     \u001b[0;32mdef\u001b[0m \u001b[0mclose\u001b[0m\u001b[0;34m(\u001b[0m\u001b[0mself\u001b[0m\u001b[0;34m)\u001b[0m\u001b[0;34m:\u001b[0m\u001b[0;34m\u001b[0m\u001b[0;34m\u001b[0m\u001b[0m\n",
            "\u001b[0;32m/usr/local/lib/python3.7/dist-packages/pandas/io/parsers.py\u001b[0m in \u001b[0;36m_make_engine\u001b[0;34m(self, engine)\u001b[0m\n\u001b[1;32m   1178\u001b[0m     \u001b[0;32mdef\u001b[0m \u001b[0m_make_engine\u001b[0m\u001b[0;34m(\u001b[0m\u001b[0mself\u001b[0m\u001b[0;34m,\u001b[0m \u001b[0mengine\u001b[0m\u001b[0;34m=\u001b[0m\u001b[0;34m\"c\"\u001b[0m\u001b[0;34m)\u001b[0m\u001b[0;34m:\u001b[0m\u001b[0;34m\u001b[0m\u001b[0;34m\u001b[0m\u001b[0m\n\u001b[1;32m   1179\u001b[0m         \u001b[0;32mif\u001b[0m \u001b[0mengine\u001b[0m \u001b[0;34m==\u001b[0m \u001b[0;34m\"c\"\u001b[0m\u001b[0;34m:\u001b[0m\u001b[0;34m\u001b[0m\u001b[0;34m\u001b[0m\u001b[0m\n\u001b[0;32m-> 1180\u001b[0;31m             \u001b[0mself\u001b[0m\u001b[0;34m.\u001b[0m\u001b[0m_engine\u001b[0m \u001b[0;34m=\u001b[0m \u001b[0mCParserWrapper\u001b[0m\u001b[0;34m(\u001b[0m\u001b[0mself\u001b[0m\u001b[0;34m.\u001b[0m\u001b[0mf\u001b[0m\u001b[0;34m,\u001b[0m \u001b[0;34m**\u001b[0m\u001b[0mself\u001b[0m\u001b[0;34m.\u001b[0m\u001b[0moptions\u001b[0m\u001b[0;34m)\u001b[0m\u001b[0;34m\u001b[0m\u001b[0;34m\u001b[0m\u001b[0m\n\u001b[0m\u001b[1;32m   1181\u001b[0m         \u001b[0;32melse\u001b[0m\u001b[0;34m:\u001b[0m\u001b[0;34m\u001b[0m\u001b[0;34m\u001b[0m\u001b[0m\n\u001b[1;32m   1182\u001b[0m             \u001b[0;32mif\u001b[0m \u001b[0mengine\u001b[0m \u001b[0;34m==\u001b[0m \u001b[0;34m\"python\"\u001b[0m\u001b[0;34m:\u001b[0m\u001b[0;34m\u001b[0m\u001b[0;34m\u001b[0m\u001b[0m\n",
            "\u001b[0;32m/usr/local/lib/python3.7/dist-packages/pandas/io/parsers.py\u001b[0m in \u001b[0;36m__init__\u001b[0;34m(self, src, **kwds)\u001b[0m\n\u001b[1;32m   2008\u001b[0m         \u001b[0mkwds\u001b[0m\u001b[0;34m[\u001b[0m\u001b[0;34m\"usecols\"\u001b[0m\u001b[0;34m]\u001b[0m \u001b[0;34m=\u001b[0m \u001b[0mself\u001b[0m\u001b[0;34m.\u001b[0m\u001b[0musecols\u001b[0m\u001b[0;34m\u001b[0m\u001b[0;34m\u001b[0m\u001b[0m\n\u001b[1;32m   2009\u001b[0m \u001b[0;34m\u001b[0m\u001b[0m\n\u001b[0;32m-> 2010\u001b[0;31m         \u001b[0mself\u001b[0m\u001b[0;34m.\u001b[0m\u001b[0m_reader\u001b[0m \u001b[0;34m=\u001b[0m \u001b[0mparsers\u001b[0m\u001b[0;34m.\u001b[0m\u001b[0mTextReader\u001b[0m\u001b[0;34m(\u001b[0m\u001b[0msrc\u001b[0m\u001b[0;34m,\u001b[0m \u001b[0;34m**\u001b[0m\u001b[0mkwds\u001b[0m\u001b[0;34m)\u001b[0m\u001b[0;34m\u001b[0m\u001b[0;34m\u001b[0m\u001b[0m\n\u001b[0m\u001b[1;32m   2011\u001b[0m         \u001b[0mself\u001b[0m\u001b[0;34m.\u001b[0m\u001b[0munnamed_cols\u001b[0m \u001b[0;34m=\u001b[0m \u001b[0mself\u001b[0m\u001b[0;34m.\u001b[0m\u001b[0m_reader\u001b[0m\u001b[0;34m.\u001b[0m\u001b[0munnamed_cols\u001b[0m\u001b[0;34m\u001b[0m\u001b[0;34m\u001b[0m\u001b[0m\n\u001b[1;32m   2012\u001b[0m \u001b[0;34m\u001b[0m\u001b[0m\n",
            "\u001b[0;32mpandas/_libs/parsers.pyx\u001b[0m in \u001b[0;36mpandas._libs.parsers.TextReader.__cinit__\u001b[0;34m()\u001b[0m\n",
            "\u001b[0;32mpandas/_libs/parsers.pyx\u001b[0m in \u001b[0;36mpandas._libs.parsers.TextReader._get_header\u001b[0;34m()\u001b[0m\n",
            "\u001b[0;31mUnicodeDecodeError\u001b[0m: 'utf-8' codec can't decode byte 0x90 in position 0: invalid start byte"
          ]
        }
      ]
    },
    {
      "cell_type": "code",
      "metadata": {
        "id": "Do5DBjX5O1gS"
      },
      "source": [
        "# 文字コードのエラーが発生したので修正　文字コードにshift-JIS形式を指定して読み込み"
      ],
      "execution_count": null,
      "outputs": []
    },
    {
      "cell_type": "code",
      "metadata": {
        "id": "Vn9gtsmwv_9u"
      },
      "source": [
        "data = pd.read_csv('data/22_shizuoka_all_20210331.csv', encoding='shift-jis')"
      ],
      "execution_count": 10,
      "outputs": []
    },
    {
      "cell_type": "code",
      "metadata": {
        "id": "QvwXkOiQxWjP",
        "colab": {
          "base_uri": "https://localhost:8080/",
          "height": 1000
        },
        "outputId": "f528bc16-f7c7-4e72-c569-fb4233afdbd4"
      },
      "source": [
        "data.head()"
      ],
      "execution_count": 11,
      "outputs": [
        {
          "output_type": "execute_result",
          "data": {
            "text/html": [
              "<div>\n",
              "<style scoped>\n",
              "    .dataframe tbody tr th:only-of-type {\n",
              "        vertical-align: middle;\n",
              "    }\n",
              "\n",
              "    .dataframe tbody tr th {\n",
              "        vertical-align: top;\n",
              "    }\n",
              "\n",
              "    .dataframe thead th {\n",
              "        text-align: right;\n",
              "    }\n",
              "</style>\n",
              "<table border=\"1\" class=\"dataframe\">\n",
              "  <thead>\n",
              "    <tr style=\"text-align: right;\">\n",
              "      <th></th>\n",
              "      <th>1</th>\n",
              "      <th>1000013040008</th>\n",
              "      <th>01</th>\n",
              "      <th>1.1</th>\n",
              "      <th>2018-04-02</th>\n",
              "      <th>2015-10-05</th>\n",
              "      <th>静岡家庭裁判所</th>\n",
              "      <th>Unnamed: 7</th>\n",
              "      <th>101</th>\n",
              "      <th>静岡県</th>\n",
              "      <th>静岡市葵区</th>\n",
              "      <th>城内町１−２０</th>\n",
              "      <th>Unnamed: 12</th>\n",
              "      <th>22</th>\n",
              "      <th>101.1</th>\n",
              "      <th>4200854</th>\n",
              "      <th>Unnamed: 16</th>\n",
              "      <th>Unnamed: 17</th>\n",
              "      <th>Unnamed: 18</th>\n",
              "      <th>Unnamed: 19</th>\n",
              "      <th>Unnamed: 20</th>\n",
              "      <th>Unnamed: 21</th>\n",
              "      <th>2015-10-05.1</th>\n",
              "      <th>1.2</th>\n",
              "      <th>Shizuoka Family Court</th>\n",
              "      <th>Shizuoka</th>\n",
              "      <th>1-20, Jonaicho, Aoi ku, Shizuoka shi</th>\n",
              "      <th>Unnamed: 27</th>\n",
              "      <th>シズオカカテイサイバンショ</th>\n",
              "      <th>0</th>\n",
              "    </tr>\n",
              "  </thead>\n",
              "  <tbody>\n",
              "    <tr>\n",
              "      <th>0</th>\n",
              "      <td>2</td>\n",
              "      <td>1000013050072</td>\n",
              "      <td>1</td>\n",
              "      <td>1</td>\n",
              "      <td>2018-04-02</td>\n",
              "      <td>2015-10-05</td>\n",
              "      <td>清水簡易裁判所</td>\n",
              "      <td>NaN</td>\n",
              "      <td>101</td>\n",
              "      <td>静岡県</td>\n",
              "      <td>静岡市清水区</td>\n",
              "      <td>天神１丁目６−１５</td>\n",
              "      <td>NaN</td>\n",
              "      <td>22</td>\n",
              "      <td>103</td>\n",
              "      <td>4240809.0</td>\n",
              "      <td>NaN</td>\n",
              "      <td>NaN</td>\n",
              "      <td>NaN</td>\n",
              "      <td>NaN</td>\n",
              "      <td>NaN</td>\n",
              "      <td>NaN</td>\n",
              "      <td>2015-10-05</td>\n",
              "      <td>1</td>\n",
              "      <td>Shimizu Summary Court</td>\n",
              "      <td>Shizuoka</td>\n",
              "      <td>1-6-15, Tenjin, Shimizu ku, Shizuoka shi</td>\n",
              "      <td>NaN</td>\n",
              "      <td>シミズカンイサイバンショ</td>\n",
              "      <td>0</td>\n",
              "    </tr>\n",
              "    <tr>\n",
              "      <th>1</th>\n",
              "      <td>3</td>\n",
              "      <td>1000013050080</td>\n",
              "      <td>1</td>\n",
              "      <td>1</td>\n",
              "      <td>2018-04-02</td>\n",
              "      <td>2015-10-05</td>\n",
              "      <td>浜松簡易裁判所</td>\n",
              "      <td>NaN</td>\n",
              "      <td>101</td>\n",
              "      <td>静岡県</td>\n",
              "      <td>浜松市中区</td>\n",
              "      <td>中央１丁目１２−５</td>\n",
              "      <td>NaN</td>\n",
              "      <td>22</td>\n",
              "      <td>131</td>\n",
              "      <td>4300929.0</td>\n",
              "      <td>NaN</td>\n",
              "      <td>NaN</td>\n",
              "      <td>NaN</td>\n",
              "      <td>NaN</td>\n",
              "      <td>NaN</td>\n",
              "      <td>NaN</td>\n",
              "      <td>2015-10-05</td>\n",
              "      <td>1</td>\n",
              "      <td>Hamamatsu Summary Court</td>\n",
              "      <td>Shizuoka</td>\n",
              "      <td>1-12-5, Chuo, Naka ku, Hamamatsu shi</td>\n",
              "      <td>NaN</td>\n",
              "      <td>ハママツカンイサイバンショ</td>\n",
              "      <td>0</td>\n",
              "    </tr>\n",
              "    <tr>\n",
              "      <th>2</th>\n",
              "      <td>4</td>\n",
              "      <td>1000020222119</td>\n",
              "      <td>1</td>\n",
              "      <td>1</td>\n",
              "      <td>2018-04-05</td>\n",
              "      <td>2015-10-05</td>\n",
              "      <td>磐田市</td>\n",
              "      <td>NaN</td>\n",
              "      <td>201</td>\n",
              "      <td>静岡県</td>\n",
              "      <td>磐田市</td>\n",
              "      <td>国府台３−１</td>\n",
              "      <td>NaN</td>\n",
              "      <td>22</td>\n",
              "      <td>211</td>\n",
              "      <td>4380077.0</td>\n",
              "      <td>NaN</td>\n",
              "      <td>NaN</td>\n",
              "      <td>NaN</td>\n",
              "      <td>NaN</td>\n",
              "      <td>NaN</td>\n",
              "      <td>NaN</td>\n",
              "      <td>2015-10-05</td>\n",
              "      <td>1</td>\n",
              "      <td>Iwata City</td>\n",
              "      <td>Shizuoka</td>\n",
              "      <td>3-1,Kounodai, Iwata shi</td>\n",
              "      <td>NaN</td>\n",
              "      <td>イワタシ</td>\n",
              "      <td>0</td>\n",
              "    </tr>\n",
              "    <tr>\n",
              "      <th>3</th>\n",
              "      <td>5</td>\n",
              "      <td>1000020222127</td>\n",
              "      <td>1</td>\n",
              "      <td>1</td>\n",
              "      <td>2018-04-05</td>\n",
              "      <td>2015-10-05</td>\n",
              "      <td>焼津市</td>\n",
              "      <td>NaN</td>\n",
              "      <td>201</td>\n",
              "      <td>静岡県</td>\n",
              "      <td>焼津市</td>\n",
              "      <td>本町２丁目１６−３２</td>\n",
              "      <td>NaN</td>\n",
              "      <td>22</td>\n",
              "      <td>212</td>\n",
              "      <td>4250022.0</td>\n",
              "      <td>NaN</td>\n",
              "      <td>NaN</td>\n",
              "      <td>NaN</td>\n",
              "      <td>NaN</td>\n",
              "      <td>NaN</td>\n",
              "      <td>NaN</td>\n",
              "      <td>2015-10-05</td>\n",
              "      <td>1</td>\n",
              "      <td>Yaizu city</td>\n",
              "      <td>Shizuoka</td>\n",
              "      <td>2-16-32 Honmachi, Yaizu shi</td>\n",
              "      <td>NaN</td>\n",
              "      <td>ヤイヅシ</td>\n",
              "      <td>0</td>\n",
              "    </tr>\n",
              "    <tr>\n",
              "      <th>4</th>\n",
              "      <td>6</td>\n",
              "      <td>1000020222135</td>\n",
              "      <td>1</td>\n",
              "      <td>1</td>\n",
              "      <td>2020-09-29</td>\n",
              "      <td>2015-10-05</td>\n",
              "      <td>掛川市</td>\n",
              "      <td>NaN</td>\n",
              "      <td>201</td>\n",
              "      <td>静岡県</td>\n",
              "      <td>掛川市</td>\n",
              "      <td>長谷１丁目１番地の１</td>\n",
              "      <td>NaN</td>\n",
              "      <td>22</td>\n",
              "      <td>213</td>\n",
              "      <td>4360047.0</td>\n",
              "      <td>NaN</td>\n",
              "      <td>NaN</td>\n",
              "      <td>NaN</td>\n",
              "      <td>NaN</td>\n",
              "      <td>NaN</td>\n",
              "      <td>NaN</td>\n",
              "      <td>2015-10-05</td>\n",
              "      <td>1</td>\n",
              "      <td>Kakegawa City</td>\n",
              "      <td>Shizuoka</td>\n",
              "      <td>1-1-1 Nagaya, Kakegawa shi</td>\n",
              "      <td>NaN</td>\n",
              "      <td>カケガワシ</td>\n",
              "      <td>0</td>\n",
              "    </tr>\n",
              "  </tbody>\n",
              "</table>\n",
              "</div>"
            ],
            "text/plain": [
              "   1  1000013040008  01  ...  Unnamed: 27  シズオカカテイサイバンショ  0\n",
              "0  2  1000013050072   1  ...          NaN   シミズカンイサイバンショ  0\n",
              "1  3  1000013050080   1  ...          NaN  ハママツカンイサイバンショ  0\n",
              "2  4  1000020222119   1  ...          NaN           イワタシ  0\n",
              "3  5  1000020222127   1  ...          NaN           ヤイヅシ  0\n",
              "4  6  1000020222135   1  ...          NaN          カケガワシ  0\n",
              "\n",
              "[5 rows x 30 columns]"
            ]
          },
          "metadata": {},
          "execution_count": 11
        }
      ]
    },
    {
      "cell_type": "code",
      "metadata": {
        "id": "4_tpsKnw4nr1",
        "colab": {
          "base_uri": "https://localhost:8080/"
        },
        "outputId": "40b69e01-e7fa-4984-c206-6cf3331523e5"
      },
      "source": [
        "#　データ数\n",
        "len(data)"
      ],
      "execution_count": 12,
      "outputs": [
        {
          "output_type": "execute_result",
          "data": {
            "text/plain": [
              "114612"
            ]
          },
          "metadata": {},
          "execution_count": 12
        }
      ]
    },
    {
      "cell_type": "code",
      "metadata": {
        "id": "XKjiB1s94qf8"
      },
      "source": [
        "# へッダーなしで再度読み込み\n",
        "data = pd.read_csv('data/22_shizuoka_all_20210331.csv', encoding='shift-jis', header=None)"
      ],
      "execution_count": 13,
      "outputs": []
    },
    {
      "cell_type": "code",
      "metadata": {
        "id": "KPKVCG9U4qmB",
        "colab": {
          "base_uri": "https://localhost:8080/",
          "height": 1000
        },
        "outputId": "bbd3611b-da78-48db-f432-caddcb503ab8"
      },
      "source": [
        "data.head()"
      ],
      "execution_count": 14,
      "outputs": [
        {
          "output_type": "execute_result",
          "data": {
            "text/html": [
              "<div>\n",
              "<style scoped>\n",
              "    .dataframe tbody tr th:only-of-type {\n",
              "        vertical-align: middle;\n",
              "    }\n",
              "\n",
              "    .dataframe tbody tr th {\n",
              "        vertical-align: top;\n",
              "    }\n",
              "\n",
              "    .dataframe thead th {\n",
              "        text-align: right;\n",
              "    }\n",
              "</style>\n",
              "<table border=\"1\" class=\"dataframe\">\n",
              "  <thead>\n",
              "    <tr style=\"text-align: right;\">\n",
              "      <th></th>\n",
              "      <th>0</th>\n",
              "      <th>1</th>\n",
              "      <th>2</th>\n",
              "      <th>3</th>\n",
              "      <th>4</th>\n",
              "      <th>5</th>\n",
              "      <th>6</th>\n",
              "      <th>7</th>\n",
              "      <th>8</th>\n",
              "      <th>9</th>\n",
              "      <th>10</th>\n",
              "      <th>11</th>\n",
              "      <th>12</th>\n",
              "      <th>13</th>\n",
              "      <th>14</th>\n",
              "      <th>15</th>\n",
              "      <th>16</th>\n",
              "      <th>17</th>\n",
              "      <th>18</th>\n",
              "      <th>19</th>\n",
              "      <th>20</th>\n",
              "      <th>21</th>\n",
              "      <th>22</th>\n",
              "      <th>23</th>\n",
              "      <th>24</th>\n",
              "      <th>25</th>\n",
              "      <th>26</th>\n",
              "      <th>27</th>\n",
              "      <th>28</th>\n",
              "      <th>29</th>\n",
              "    </tr>\n",
              "  </thead>\n",
              "  <tbody>\n",
              "    <tr>\n",
              "      <th>0</th>\n",
              "      <td>1</td>\n",
              "      <td>1000013040008</td>\n",
              "      <td>1</td>\n",
              "      <td>1</td>\n",
              "      <td>2018-04-02</td>\n",
              "      <td>2015-10-05</td>\n",
              "      <td>静岡家庭裁判所</td>\n",
              "      <td>NaN</td>\n",
              "      <td>101</td>\n",
              "      <td>静岡県</td>\n",
              "      <td>静岡市葵区</td>\n",
              "      <td>城内町１−２０</td>\n",
              "      <td>NaN</td>\n",
              "      <td>22</td>\n",
              "      <td>101</td>\n",
              "      <td>4200854.0</td>\n",
              "      <td>NaN</td>\n",
              "      <td>NaN</td>\n",
              "      <td>NaN</td>\n",
              "      <td>NaN</td>\n",
              "      <td>NaN</td>\n",
              "      <td>NaN</td>\n",
              "      <td>2015-10-05</td>\n",
              "      <td>1</td>\n",
              "      <td>Shizuoka Family Court</td>\n",
              "      <td>Shizuoka</td>\n",
              "      <td>1-20, Jonaicho, Aoi ku, Shizuoka shi</td>\n",
              "      <td>NaN</td>\n",
              "      <td>シズオカカテイサイバンショ</td>\n",
              "      <td>0</td>\n",
              "    </tr>\n",
              "    <tr>\n",
              "      <th>1</th>\n",
              "      <td>2</td>\n",
              "      <td>1000013050072</td>\n",
              "      <td>1</td>\n",
              "      <td>1</td>\n",
              "      <td>2018-04-02</td>\n",
              "      <td>2015-10-05</td>\n",
              "      <td>清水簡易裁判所</td>\n",
              "      <td>NaN</td>\n",
              "      <td>101</td>\n",
              "      <td>静岡県</td>\n",
              "      <td>静岡市清水区</td>\n",
              "      <td>天神１丁目６−１５</td>\n",
              "      <td>NaN</td>\n",
              "      <td>22</td>\n",
              "      <td>103</td>\n",
              "      <td>4240809.0</td>\n",
              "      <td>NaN</td>\n",
              "      <td>NaN</td>\n",
              "      <td>NaN</td>\n",
              "      <td>NaN</td>\n",
              "      <td>NaN</td>\n",
              "      <td>NaN</td>\n",
              "      <td>2015-10-05</td>\n",
              "      <td>1</td>\n",
              "      <td>Shimizu Summary Court</td>\n",
              "      <td>Shizuoka</td>\n",
              "      <td>1-6-15, Tenjin, Shimizu ku, Shizuoka shi</td>\n",
              "      <td>NaN</td>\n",
              "      <td>シミズカンイサイバンショ</td>\n",
              "      <td>0</td>\n",
              "    </tr>\n",
              "    <tr>\n",
              "      <th>2</th>\n",
              "      <td>3</td>\n",
              "      <td>1000013050080</td>\n",
              "      <td>1</td>\n",
              "      <td>1</td>\n",
              "      <td>2018-04-02</td>\n",
              "      <td>2015-10-05</td>\n",
              "      <td>浜松簡易裁判所</td>\n",
              "      <td>NaN</td>\n",
              "      <td>101</td>\n",
              "      <td>静岡県</td>\n",
              "      <td>浜松市中区</td>\n",
              "      <td>中央１丁目１２−５</td>\n",
              "      <td>NaN</td>\n",
              "      <td>22</td>\n",
              "      <td>131</td>\n",
              "      <td>4300929.0</td>\n",
              "      <td>NaN</td>\n",
              "      <td>NaN</td>\n",
              "      <td>NaN</td>\n",
              "      <td>NaN</td>\n",
              "      <td>NaN</td>\n",
              "      <td>NaN</td>\n",
              "      <td>2015-10-05</td>\n",
              "      <td>1</td>\n",
              "      <td>Hamamatsu Summary Court</td>\n",
              "      <td>Shizuoka</td>\n",
              "      <td>1-12-5, Chuo, Naka ku, Hamamatsu shi</td>\n",
              "      <td>NaN</td>\n",
              "      <td>ハママツカンイサイバンショ</td>\n",
              "      <td>0</td>\n",
              "    </tr>\n",
              "    <tr>\n",
              "      <th>3</th>\n",
              "      <td>4</td>\n",
              "      <td>1000020222119</td>\n",
              "      <td>1</td>\n",
              "      <td>1</td>\n",
              "      <td>2018-04-05</td>\n",
              "      <td>2015-10-05</td>\n",
              "      <td>磐田市</td>\n",
              "      <td>NaN</td>\n",
              "      <td>201</td>\n",
              "      <td>静岡県</td>\n",
              "      <td>磐田市</td>\n",
              "      <td>国府台３−１</td>\n",
              "      <td>NaN</td>\n",
              "      <td>22</td>\n",
              "      <td>211</td>\n",
              "      <td>4380077.0</td>\n",
              "      <td>NaN</td>\n",
              "      <td>NaN</td>\n",
              "      <td>NaN</td>\n",
              "      <td>NaN</td>\n",
              "      <td>NaN</td>\n",
              "      <td>NaN</td>\n",
              "      <td>2015-10-05</td>\n",
              "      <td>1</td>\n",
              "      <td>Iwata City</td>\n",
              "      <td>Shizuoka</td>\n",
              "      <td>3-1,Kounodai, Iwata shi</td>\n",
              "      <td>NaN</td>\n",
              "      <td>イワタシ</td>\n",
              "      <td>0</td>\n",
              "    </tr>\n",
              "    <tr>\n",
              "      <th>4</th>\n",
              "      <td>5</td>\n",
              "      <td>1000020222127</td>\n",
              "      <td>1</td>\n",
              "      <td>1</td>\n",
              "      <td>2018-04-05</td>\n",
              "      <td>2015-10-05</td>\n",
              "      <td>焼津市</td>\n",
              "      <td>NaN</td>\n",
              "      <td>201</td>\n",
              "      <td>静岡県</td>\n",
              "      <td>焼津市</td>\n",
              "      <td>本町２丁目１６−３２</td>\n",
              "      <td>NaN</td>\n",
              "      <td>22</td>\n",
              "      <td>212</td>\n",
              "      <td>4250022.0</td>\n",
              "      <td>NaN</td>\n",
              "      <td>NaN</td>\n",
              "      <td>NaN</td>\n",
              "      <td>NaN</td>\n",
              "      <td>NaN</td>\n",
              "      <td>NaN</td>\n",
              "      <td>2015-10-05</td>\n",
              "      <td>1</td>\n",
              "      <td>Yaizu city</td>\n",
              "      <td>Shizuoka</td>\n",
              "      <td>2-16-32 Honmachi, Yaizu shi</td>\n",
              "      <td>NaN</td>\n",
              "      <td>ヤイヅシ</td>\n",
              "      <td>0</td>\n",
              "    </tr>\n",
              "  </tbody>\n",
              "</table>\n",
              "</div>"
            ],
            "text/plain": [
              "   0              1   2   ...  27             28 29\n",
              "0   1  1000013040008   1  ... NaN  シズオカカテイサイバンショ  0\n",
              "1   2  1000013050072   1  ... NaN   シミズカンイサイバンショ  0\n",
              "2   3  1000013050080   1  ... NaN  ハママツカンイサイバンショ  0\n",
              "3   4  1000020222119   1  ... NaN           イワタシ  0\n",
              "4   5  1000020222127   1  ... NaN           ヤイヅシ  0\n",
              "\n",
              "[5 rows x 30 columns]"
            ]
          },
          "metadata": {},
          "execution_count": 14
        }
      ]
    },
    {
      "cell_type": "code",
      "metadata": {
        "id": "287m2voK4qi0",
        "colab": {
          "base_uri": "https://localhost:8080/"
        },
        "outputId": "513ae0e9-600b-421b-f350-c1eebff7b342"
      },
      "source": [
        "len(data)"
      ],
      "execution_count": 15,
      "outputs": [
        {
          "output_type": "execute_result",
          "data": {
            "text/plain": [
              "114613"
            ]
          },
          "metadata": {},
          "execution_count": 15
        }
      ]
    },
    {
      "cell_type": "markdown",
      "metadata": {
        "id": "0FrKeZvUrFKn"
      },
      "source": [
        "## ノック２：読み込んだデータを確認しよう"
      ]
    },
    {
      "cell_type": "code",
      "metadata": {
        "id": "dQeuZrhAROgy",
        "colab": {
          "base_uri": "https://localhost:8080/"
        },
        "outputId": "af064552-633d-4377-9bda-0c798ccf00f4"
      },
      "source": [
        "# データ型を確認\n",
        "data.columns"
      ],
      "execution_count": 16,
      "outputs": [
        {
          "output_type": "execute_result",
          "data": {
            "text/plain": [
              "Int64Index([ 0,  1,  2,  3,  4,  5,  6,  7,  8,  9, 10, 11, 12, 13, 14, 15, 16,\n",
              "            17, 18, 19, 20, 21, 22, 23, 24, 25, 26, 27, 28, 29],\n",
              "           dtype='int64')"
            ]
          },
          "metadata": {},
          "execution_count": 16
        }
      ]
    },
    {
      "cell_type": "code",
      "metadata": {
        "id": "QkP4J0i5wuUQ",
        "colab": {
          "base_uri": "https://localhost:8080/"
        },
        "outputId": "801f1ca1-5cfd-4daf-d422-fbb66a4bbc94"
      },
      "source": [
        "# カラム（項目）の数を確認\n",
        "len(data.columns)"
      ],
      "execution_count": 17,
      "outputs": [
        {
          "output_type": "execute_result",
          "data": {
            "text/plain": [
              "30"
            ]
          },
          "metadata": {},
          "execution_count": 17
        }
      ]
    },
    {
      "cell_type": "code",
      "metadata": {
        "id": "YjsTahEfUOPh",
        "colab": {
          "base_uri": "https://localhost:8080/",
          "height": 1000
        },
        "outputId": "476ac8cf-a32f-4716-8f79-f9433c554b6a"
      },
      "source": [
        "data"
      ],
      "execution_count": 18,
      "outputs": [
        {
          "output_type": "execute_result",
          "data": {
            "text/html": [
              "<div>\n",
              "<style scoped>\n",
              "    .dataframe tbody tr th:only-of-type {\n",
              "        vertical-align: middle;\n",
              "    }\n",
              "\n",
              "    .dataframe tbody tr th {\n",
              "        vertical-align: top;\n",
              "    }\n",
              "\n",
              "    .dataframe thead th {\n",
              "        text-align: right;\n",
              "    }\n",
              "</style>\n",
              "<table border=\"1\" class=\"dataframe\">\n",
              "  <thead>\n",
              "    <tr style=\"text-align: right;\">\n",
              "      <th></th>\n",
              "      <th>0</th>\n",
              "      <th>1</th>\n",
              "      <th>2</th>\n",
              "      <th>3</th>\n",
              "      <th>4</th>\n",
              "      <th>5</th>\n",
              "      <th>6</th>\n",
              "      <th>7</th>\n",
              "      <th>8</th>\n",
              "      <th>9</th>\n",
              "      <th>10</th>\n",
              "      <th>11</th>\n",
              "      <th>12</th>\n",
              "      <th>13</th>\n",
              "      <th>14</th>\n",
              "      <th>15</th>\n",
              "      <th>16</th>\n",
              "      <th>17</th>\n",
              "      <th>18</th>\n",
              "      <th>19</th>\n",
              "      <th>20</th>\n",
              "      <th>21</th>\n",
              "      <th>22</th>\n",
              "      <th>23</th>\n",
              "      <th>24</th>\n",
              "      <th>25</th>\n",
              "      <th>26</th>\n",
              "      <th>27</th>\n",
              "      <th>28</th>\n",
              "      <th>29</th>\n",
              "    </tr>\n",
              "  </thead>\n",
              "  <tbody>\n",
              "    <tr>\n",
              "      <th>0</th>\n",
              "      <td>1</td>\n",
              "      <td>1000013040008</td>\n",
              "      <td>1</td>\n",
              "      <td>1</td>\n",
              "      <td>2018-04-02</td>\n",
              "      <td>2015-10-05</td>\n",
              "      <td>静岡家庭裁判所</td>\n",
              "      <td>NaN</td>\n",
              "      <td>101</td>\n",
              "      <td>静岡県</td>\n",
              "      <td>静岡市葵区</td>\n",
              "      <td>城内町１−２０</td>\n",
              "      <td>NaN</td>\n",
              "      <td>22</td>\n",
              "      <td>101</td>\n",
              "      <td>4200854.0</td>\n",
              "      <td>NaN</td>\n",
              "      <td>NaN</td>\n",
              "      <td>NaN</td>\n",
              "      <td>NaN</td>\n",
              "      <td>NaN</td>\n",
              "      <td>NaN</td>\n",
              "      <td>2015-10-05</td>\n",
              "      <td>1</td>\n",
              "      <td>Shizuoka Family Court</td>\n",
              "      <td>Shizuoka</td>\n",
              "      <td>1-20, Jonaicho, Aoi ku, Shizuoka shi</td>\n",
              "      <td>NaN</td>\n",
              "      <td>シズオカカテイサイバンショ</td>\n",
              "      <td>0</td>\n",
              "    </tr>\n",
              "    <tr>\n",
              "      <th>1</th>\n",
              "      <td>2</td>\n",
              "      <td>1000013050072</td>\n",
              "      <td>1</td>\n",
              "      <td>1</td>\n",
              "      <td>2018-04-02</td>\n",
              "      <td>2015-10-05</td>\n",
              "      <td>清水簡易裁判所</td>\n",
              "      <td>NaN</td>\n",
              "      <td>101</td>\n",
              "      <td>静岡県</td>\n",
              "      <td>静岡市清水区</td>\n",
              "      <td>天神１丁目６−１５</td>\n",
              "      <td>NaN</td>\n",
              "      <td>22</td>\n",
              "      <td>103</td>\n",
              "      <td>4240809.0</td>\n",
              "      <td>NaN</td>\n",
              "      <td>NaN</td>\n",
              "      <td>NaN</td>\n",
              "      <td>NaN</td>\n",
              "      <td>NaN</td>\n",
              "      <td>NaN</td>\n",
              "      <td>2015-10-05</td>\n",
              "      <td>1</td>\n",
              "      <td>Shimizu Summary Court</td>\n",
              "      <td>Shizuoka</td>\n",
              "      <td>1-6-15, Tenjin, Shimizu ku, Shizuoka shi</td>\n",
              "      <td>NaN</td>\n",
              "      <td>シミズカンイサイバンショ</td>\n",
              "      <td>0</td>\n",
              "    </tr>\n",
              "    <tr>\n",
              "      <th>2</th>\n",
              "      <td>3</td>\n",
              "      <td>1000013050080</td>\n",
              "      <td>1</td>\n",
              "      <td>1</td>\n",
              "      <td>2018-04-02</td>\n",
              "      <td>2015-10-05</td>\n",
              "      <td>浜松簡易裁判所</td>\n",
              "      <td>NaN</td>\n",
              "      <td>101</td>\n",
              "      <td>静岡県</td>\n",
              "      <td>浜松市中区</td>\n",
              "      <td>中央１丁目１２−５</td>\n",
              "      <td>NaN</td>\n",
              "      <td>22</td>\n",
              "      <td>131</td>\n",
              "      <td>4300929.0</td>\n",
              "      <td>NaN</td>\n",
              "      <td>NaN</td>\n",
              "      <td>NaN</td>\n",
              "      <td>NaN</td>\n",
              "      <td>NaN</td>\n",
              "      <td>NaN</td>\n",
              "      <td>2015-10-05</td>\n",
              "      <td>1</td>\n",
              "      <td>Hamamatsu Summary Court</td>\n",
              "      <td>Shizuoka</td>\n",
              "      <td>1-12-5, Chuo, Naka ku, Hamamatsu shi</td>\n",
              "      <td>NaN</td>\n",
              "      <td>ハママツカンイサイバンショ</td>\n",
              "      <td>0</td>\n",
              "    </tr>\n",
              "    <tr>\n",
              "      <th>3</th>\n",
              "      <td>4</td>\n",
              "      <td>1000020222119</td>\n",
              "      <td>1</td>\n",
              "      <td>1</td>\n",
              "      <td>2018-04-05</td>\n",
              "      <td>2015-10-05</td>\n",
              "      <td>磐田市</td>\n",
              "      <td>NaN</td>\n",
              "      <td>201</td>\n",
              "      <td>静岡県</td>\n",
              "      <td>磐田市</td>\n",
              "      <td>国府台３−１</td>\n",
              "      <td>NaN</td>\n",
              "      <td>22</td>\n",
              "      <td>211</td>\n",
              "      <td>4380077.0</td>\n",
              "      <td>NaN</td>\n",
              "      <td>NaN</td>\n",
              "      <td>NaN</td>\n",
              "      <td>NaN</td>\n",
              "      <td>NaN</td>\n",
              "      <td>NaN</td>\n",
              "      <td>2015-10-05</td>\n",
              "      <td>1</td>\n",
              "      <td>Iwata City</td>\n",
              "      <td>Shizuoka</td>\n",
              "      <td>3-1,Kounodai, Iwata shi</td>\n",
              "      <td>NaN</td>\n",
              "      <td>イワタシ</td>\n",
              "      <td>0</td>\n",
              "    </tr>\n",
              "    <tr>\n",
              "      <th>4</th>\n",
              "      <td>5</td>\n",
              "      <td>1000020222127</td>\n",
              "      <td>1</td>\n",
              "      <td>1</td>\n",
              "      <td>2018-04-05</td>\n",
              "      <td>2015-10-05</td>\n",
              "      <td>焼津市</td>\n",
              "      <td>NaN</td>\n",
              "      <td>201</td>\n",
              "      <td>静岡県</td>\n",
              "      <td>焼津市</td>\n",
              "      <td>本町２丁目１６−３２</td>\n",
              "      <td>NaN</td>\n",
              "      <td>22</td>\n",
              "      <td>212</td>\n",
              "      <td>4250022.0</td>\n",
              "      <td>NaN</td>\n",
              "      <td>NaN</td>\n",
              "      <td>NaN</td>\n",
              "      <td>NaN</td>\n",
              "      <td>NaN</td>\n",
              "      <td>NaN</td>\n",
              "      <td>2015-10-05</td>\n",
              "      <td>1</td>\n",
              "      <td>Yaizu city</td>\n",
              "      <td>Shizuoka</td>\n",
              "      <td>2-16-32 Honmachi, Yaizu shi</td>\n",
              "      <td>NaN</td>\n",
              "      <td>ヤイヅシ</td>\n",
              "      <td>0</td>\n",
              "    </tr>\n",
              "    <tr>\n",
              "      <th>...</th>\n",
              "      <td>...</td>\n",
              "      <td>...</td>\n",
              "      <td>...</td>\n",
              "      <td>...</td>\n",
              "      <td>...</td>\n",
              "      <td>...</td>\n",
              "      <td>...</td>\n",
              "      <td>...</td>\n",
              "      <td>...</td>\n",
              "      <td>...</td>\n",
              "      <td>...</td>\n",
              "      <td>...</td>\n",
              "      <td>...</td>\n",
              "      <td>...</td>\n",
              "      <td>...</td>\n",
              "      <td>...</td>\n",
              "      <td>...</td>\n",
              "      <td>...</td>\n",
              "      <td>...</td>\n",
              "      <td>...</td>\n",
              "      <td>...</td>\n",
              "      <td>...</td>\n",
              "      <td>...</td>\n",
              "      <td>...</td>\n",
              "      <td>...</td>\n",
              "      <td>...</td>\n",
              "      <td>...</td>\n",
              "      <td>...</td>\n",
              "      <td>...</td>\n",
              "      <td>...</td>\n",
              "    </tr>\n",
              "    <tr>\n",
              "      <th>114608</th>\n",
              "      <td>114609</td>\n",
              "      <td>9700150095744</td>\n",
              "      <td>1</td>\n",
              "      <td>0</td>\n",
              "      <td>2019-09-27</td>\n",
              "      <td>2019-08-22</td>\n",
              "      <td>久根共有財産管理委員会</td>\n",
              "      <td>NaN</td>\n",
              "      <td>499</td>\n",
              "      <td>静岡県</td>\n",
              "      <td>裾野市</td>\n",
              "      <td>久根３３８−２</td>\n",
              "      <td>NaN</td>\n",
              "      <td>22</td>\n",
              "      <td>220</td>\n",
              "      <td>4101111.0</td>\n",
              "      <td>NaN</td>\n",
              "      <td>NaN</td>\n",
              "      <td>NaN</td>\n",
              "      <td>NaN</td>\n",
              "      <td>NaN</td>\n",
              "      <td>NaN</td>\n",
              "      <td>2019-08-22</td>\n",
              "      <td>1</td>\n",
              "      <td>NaN</td>\n",
              "      <td>NaN</td>\n",
              "      <td>NaN</td>\n",
              "      <td>NaN</td>\n",
              "      <td>クネキヨウユウザイサンカンリイインカイ</td>\n",
              "      <td>0</td>\n",
              "    </tr>\n",
              "    <tr>\n",
              "      <th>114609</th>\n",
              "      <td>114610</td>\n",
              "      <td>9700150097253</td>\n",
              "      <td>1</td>\n",
              "      <td>0</td>\n",
              "      <td>2020-01-24</td>\n",
              "      <td>2019-12-26</td>\n",
              "      <td>静岡小児感染症研究会</td>\n",
              "      <td>NaN</td>\n",
              "      <td>499</td>\n",
              "      <td>静岡県</td>\n",
              "      <td>静岡市葵区</td>\n",
              "      <td>追手町２−１２静岡安藤ハザマビル４階　みな司法書士法人内</td>\n",
              "      <td>NaN</td>\n",
              "      <td>22</td>\n",
              "      <td>101</td>\n",
              "      <td>4200853.0</td>\n",
              "      <td>NaN</td>\n",
              "      <td>NaN</td>\n",
              "      <td>NaN</td>\n",
              "      <td>NaN</td>\n",
              "      <td>NaN</td>\n",
              "      <td>NaN</td>\n",
              "      <td>2019-12-26</td>\n",
              "      <td>1</td>\n",
              "      <td>NaN</td>\n",
              "      <td>NaN</td>\n",
              "      <td>NaN</td>\n",
              "      <td>NaN</td>\n",
              "      <td>シズオカシヨウニカンセンシヨウケンキユウカイ</td>\n",
              "      <td>0</td>\n",
              "    </tr>\n",
              "    <tr>\n",
              "      <th>114610</th>\n",
              "      <td>114611</td>\n",
              "      <td>9700150099530</td>\n",
              "      <td>1</td>\n",
              "      <td>0</td>\n",
              "      <td>2020-07-13</td>\n",
              "      <td>2020-06-23</td>\n",
              "      <td>北方領土返還要求静岡県民会議</td>\n",
              "      <td>NaN</td>\n",
              "      <td>499</td>\n",
              "      <td>静岡県</td>\n",
              "      <td>静岡市葵区</td>\n",
              "      <td>追手町９−１８静岡中央ビル６Ｆ</td>\n",
              "      <td>NaN</td>\n",
              "      <td>22</td>\n",
              "      <td>101</td>\n",
              "      <td>4200853.0</td>\n",
              "      <td>NaN</td>\n",
              "      <td>NaN</td>\n",
              "      <td>NaN</td>\n",
              "      <td>NaN</td>\n",
              "      <td>NaN</td>\n",
              "      <td>NaN</td>\n",
              "      <td>2020-06-23</td>\n",
              "      <td>1</td>\n",
              "      <td>NaN</td>\n",
              "      <td>NaN</td>\n",
              "      <td>NaN</td>\n",
              "      <td>NaN</td>\n",
              "      <td>ホツポウリヨウドヘンカンヨウキユウシズオカケンミンカイギ</td>\n",
              "      <td>0</td>\n",
              "    </tr>\n",
              "    <tr>\n",
              "      <th>114611</th>\n",
              "      <td>114612</td>\n",
              "      <td>9700150099852</td>\n",
              "      <td>1</td>\n",
              "      <td>0</td>\n",
              "      <td>2020-08-20</td>\n",
              "      <td>2020-07-22</td>\n",
              "      <td>両河内児童クラブ</td>\n",
              "      <td>NaN</td>\n",
              "      <td>499</td>\n",
              "      <td>静岡県</td>\n",
              "      <td>静岡市清水区</td>\n",
              "      <td>和田島６１１</td>\n",
              "      <td>NaN</td>\n",
              "      <td>22</td>\n",
              "      <td>103</td>\n",
              "      <td>4240403.0</td>\n",
              "      <td>NaN</td>\n",
              "      <td>NaN</td>\n",
              "      <td>NaN</td>\n",
              "      <td>NaN</td>\n",
              "      <td>NaN</td>\n",
              "      <td>NaN</td>\n",
              "      <td>2020-07-22</td>\n",
              "      <td>1</td>\n",
              "      <td>NaN</td>\n",
              "      <td>NaN</td>\n",
              "      <td>NaN</td>\n",
              "      <td>NaN</td>\n",
              "      <td>リヨウゴウチジドウクラブ</td>\n",
              "      <td>0</td>\n",
              "    </tr>\n",
              "    <tr>\n",
              "      <th>114612</th>\n",
              "      <td>114613</td>\n",
              "      <td>9700150101659</td>\n",
              "      <td>1</td>\n",
              "      <td>0</td>\n",
              "      <td>2021-01-26</td>\n",
              "      <td>2021-01-14</td>\n",
              "      <td>静岡市茶業振興協議会</td>\n",
              "      <td>NaN</td>\n",
              "      <td>499</td>\n",
              "      <td>静岡県</td>\n",
              "      <td>静岡市清水区</td>\n",
              "      <td>旭町６−８</td>\n",
              "      <td>NaN</td>\n",
              "      <td>22</td>\n",
              "      <td>103</td>\n",
              "      <td>4240822.0</td>\n",
              "      <td>NaN</td>\n",
              "      <td>NaN</td>\n",
              "      <td>NaN</td>\n",
              "      <td>NaN</td>\n",
              "      <td>NaN</td>\n",
              "      <td>NaN</td>\n",
              "      <td>2021-01-14</td>\n",
              "      <td>1</td>\n",
              "      <td>NaN</td>\n",
              "      <td>NaN</td>\n",
              "      <td>NaN</td>\n",
              "      <td>NaN</td>\n",
              "      <td>シズオカシチヤギヨウシンコウキヨウギカイ</td>\n",
              "      <td>0</td>\n",
              "    </tr>\n",
              "  </tbody>\n",
              "</table>\n",
              "<p>114613 rows × 30 columns</p>\n",
              "</div>"
            ],
            "text/plain": [
              "            0              1   2   ...  27                            28 29\n",
              "0            1  1000013040008   1  ... NaN                 シズオカカテイサイバンショ  0\n",
              "1            2  1000013050072   1  ... NaN                  シミズカンイサイバンショ  0\n",
              "2            3  1000013050080   1  ... NaN                 ハママツカンイサイバンショ  0\n",
              "3            4  1000020222119   1  ... NaN                          イワタシ  0\n",
              "4            5  1000020222127   1  ... NaN                          ヤイヅシ  0\n",
              "...        ...            ...  ..  ...  ..                           ... ..\n",
              "114608  114609  9700150095744   1  ... NaN           クネキヨウユウザイサンカンリイインカイ  0\n",
              "114609  114610  9700150097253   1  ... NaN        シズオカシヨウニカンセンシヨウケンキユウカイ  0\n",
              "114610  114611  9700150099530   1  ... NaN  ホツポウリヨウドヘンカンヨウキユウシズオカケンミンカイギ  0\n",
              "114611  114612  9700150099852   1  ... NaN                  リヨウゴウチジドウクラブ  0\n",
              "114612  114613  9700150101659   1  ... NaN          シズオカシチヤギヨウシンコウキヨウギカイ  0\n",
              "\n",
              "[114613 rows x 30 columns]"
            ]
          },
          "metadata": {},
          "execution_count": 18
        }
      ]
    },
    {
      "cell_type": "code",
      "metadata": {
        "id": "4cFKuOBExPI_",
        "colab": {
          "base_uri": "https://localhost:8080/"
        },
        "outputId": "912201eb-ff05-41f5-cd58-e0d5f26e06e2"
      },
      "source": [
        "# データの型を確認\n",
        "data.dtypes"
      ],
      "execution_count": 19,
      "outputs": [
        {
          "output_type": "execute_result",
          "data": {
            "text/plain": [
              "0       int64\n",
              "1       int64\n",
              "2       int64\n",
              "3       int64\n",
              "4      object\n",
              "5      object\n",
              "6      object\n",
              "7     float64\n",
              "8       int64\n",
              "9      object\n",
              "10     object\n",
              "11     object\n",
              "12    float64\n",
              "13      int64\n",
              "14      int64\n",
              "15    float64\n",
              "16    float64\n",
              "17    float64\n",
              "18     object\n",
              "19    float64\n",
              "20    float64\n",
              "21     object\n",
              "22     object\n",
              "23      int64\n",
              "24     object\n",
              "25     object\n",
              "26     object\n",
              "27    float64\n",
              "28     object\n",
              "29      int64\n",
              "dtype: object"
            ]
          },
          "metadata": {},
          "execution_count": 19
        }
      ]
    },
    {
      "cell_type": "code",
      "metadata": {
        "id": "9Ei4rMoXYsDI"
      },
      "source": [
        "# データが自動的に違った変換をする場合がある。こちらからデータ型を指定して読み直す。例としては01が数値型になり1となってしまっている。0の数字を残したい場合。\n",
        "data = pd.read_csv('data/22_shizuoka_all_20210331.csv', encoding='shift-jis', header=None, dtype=object)"
      ],
      "execution_count": 20,
      "outputs": []
    },
    {
      "cell_type": "code",
      "metadata": {
        "id": "Y06igshtZutV",
        "colab": {
          "base_uri": "https://localhost:8080/",
          "height": 1000
        },
        "outputId": "58398a6c-58f7-4edb-db91-407588da6b94"
      },
      "source": [
        "# 列番号２が０１と表示されている\n",
        "data.head()"
      ],
      "execution_count": 21,
      "outputs": [
        {
          "output_type": "execute_result",
          "data": {
            "text/html": [
              "<div>\n",
              "<style scoped>\n",
              "    .dataframe tbody tr th:only-of-type {\n",
              "        vertical-align: middle;\n",
              "    }\n",
              "\n",
              "    .dataframe tbody tr th {\n",
              "        vertical-align: top;\n",
              "    }\n",
              "\n",
              "    .dataframe thead th {\n",
              "        text-align: right;\n",
              "    }\n",
              "</style>\n",
              "<table border=\"1\" class=\"dataframe\">\n",
              "  <thead>\n",
              "    <tr style=\"text-align: right;\">\n",
              "      <th></th>\n",
              "      <th>0</th>\n",
              "      <th>1</th>\n",
              "      <th>2</th>\n",
              "      <th>3</th>\n",
              "      <th>4</th>\n",
              "      <th>5</th>\n",
              "      <th>6</th>\n",
              "      <th>7</th>\n",
              "      <th>8</th>\n",
              "      <th>9</th>\n",
              "      <th>10</th>\n",
              "      <th>11</th>\n",
              "      <th>12</th>\n",
              "      <th>13</th>\n",
              "      <th>14</th>\n",
              "      <th>15</th>\n",
              "      <th>16</th>\n",
              "      <th>17</th>\n",
              "      <th>18</th>\n",
              "      <th>19</th>\n",
              "      <th>20</th>\n",
              "      <th>21</th>\n",
              "      <th>22</th>\n",
              "      <th>23</th>\n",
              "      <th>24</th>\n",
              "      <th>25</th>\n",
              "      <th>26</th>\n",
              "      <th>27</th>\n",
              "      <th>28</th>\n",
              "      <th>29</th>\n",
              "    </tr>\n",
              "  </thead>\n",
              "  <tbody>\n",
              "    <tr>\n",
              "      <th>0</th>\n",
              "      <td>1</td>\n",
              "      <td>1000013040008</td>\n",
              "      <td>01</td>\n",
              "      <td>1</td>\n",
              "      <td>2018-04-02</td>\n",
              "      <td>2015-10-05</td>\n",
              "      <td>静岡家庭裁判所</td>\n",
              "      <td>NaN</td>\n",
              "      <td>101</td>\n",
              "      <td>静岡県</td>\n",
              "      <td>静岡市葵区</td>\n",
              "      <td>城内町１−２０</td>\n",
              "      <td>NaN</td>\n",
              "      <td>22</td>\n",
              "      <td>101</td>\n",
              "      <td>4200854</td>\n",
              "      <td>NaN</td>\n",
              "      <td>NaN</td>\n",
              "      <td>NaN</td>\n",
              "      <td>NaN</td>\n",
              "      <td>NaN</td>\n",
              "      <td>NaN</td>\n",
              "      <td>2015-10-05</td>\n",
              "      <td>1</td>\n",
              "      <td>Shizuoka Family Court</td>\n",
              "      <td>Shizuoka</td>\n",
              "      <td>1-20, Jonaicho, Aoi ku, Shizuoka shi</td>\n",
              "      <td>NaN</td>\n",
              "      <td>シズオカカテイサイバンショ</td>\n",
              "      <td>0</td>\n",
              "    </tr>\n",
              "    <tr>\n",
              "      <th>1</th>\n",
              "      <td>2</td>\n",
              "      <td>1000013050072</td>\n",
              "      <td>01</td>\n",
              "      <td>1</td>\n",
              "      <td>2018-04-02</td>\n",
              "      <td>2015-10-05</td>\n",
              "      <td>清水簡易裁判所</td>\n",
              "      <td>NaN</td>\n",
              "      <td>101</td>\n",
              "      <td>静岡県</td>\n",
              "      <td>静岡市清水区</td>\n",
              "      <td>天神１丁目６−１５</td>\n",
              "      <td>NaN</td>\n",
              "      <td>22</td>\n",
              "      <td>103</td>\n",
              "      <td>4240809</td>\n",
              "      <td>NaN</td>\n",
              "      <td>NaN</td>\n",
              "      <td>NaN</td>\n",
              "      <td>NaN</td>\n",
              "      <td>NaN</td>\n",
              "      <td>NaN</td>\n",
              "      <td>2015-10-05</td>\n",
              "      <td>1</td>\n",
              "      <td>Shimizu Summary Court</td>\n",
              "      <td>Shizuoka</td>\n",
              "      <td>1-6-15, Tenjin, Shimizu ku, Shizuoka shi</td>\n",
              "      <td>NaN</td>\n",
              "      <td>シミズカンイサイバンショ</td>\n",
              "      <td>0</td>\n",
              "    </tr>\n",
              "    <tr>\n",
              "      <th>2</th>\n",
              "      <td>3</td>\n",
              "      <td>1000013050080</td>\n",
              "      <td>01</td>\n",
              "      <td>1</td>\n",
              "      <td>2018-04-02</td>\n",
              "      <td>2015-10-05</td>\n",
              "      <td>浜松簡易裁判所</td>\n",
              "      <td>NaN</td>\n",
              "      <td>101</td>\n",
              "      <td>静岡県</td>\n",
              "      <td>浜松市中区</td>\n",
              "      <td>中央１丁目１２−５</td>\n",
              "      <td>NaN</td>\n",
              "      <td>22</td>\n",
              "      <td>131</td>\n",
              "      <td>4300929</td>\n",
              "      <td>NaN</td>\n",
              "      <td>NaN</td>\n",
              "      <td>NaN</td>\n",
              "      <td>NaN</td>\n",
              "      <td>NaN</td>\n",
              "      <td>NaN</td>\n",
              "      <td>2015-10-05</td>\n",
              "      <td>1</td>\n",
              "      <td>Hamamatsu Summary Court</td>\n",
              "      <td>Shizuoka</td>\n",
              "      <td>1-12-5, Chuo, Naka ku, Hamamatsu shi</td>\n",
              "      <td>NaN</td>\n",
              "      <td>ハママツカンイサイバンショ</td>\n",
              "      <td>0</td>\n",
              "    </tr>\n",
              "    <tr>\n",
              "      <th>3</th>\n",
              "      <td>4</td>\n",
              "      <td>1000020222119</td>\n",
              "      <td>01</td>\n",
              "      <td>1</td>\n",
              "      <td>2018-04-05</td>\n",
              "      <td>2015-10-05</td>\n",
              "      <td>磐田市</td>\n",
              "      <td>NaN</td>\n",
              "      <td>201</td>\n",
              "      <td>静岡県</td>\n",
              "      <td>磐田市</td>\n",
              "      <td>国府台３−１</td>\n",
              "      <td>NaN</td>\n",
              "      <td>22</td>\n",
              "      <td>211</td>\n",
              "      <td>4380077</td>\n",
              "      <td>NaN</td>\n",
              "      <td>NaN</td>\n",
              "      <td>NaN</td>\n",
              "      <td>NaN</td>\n",
              "      <td>NaN</td>\n",
              "      <td>NaN</td>\n",
              "      <td>2015-10-05</td>\n",
              "      <td>1</td>\n",
              "      <td>Iwata City</td>\n",
              "      <td>Shizuoka</td>\n",
              "      <td>3-1,Kounodai, Iwata shi</td>\n",
              "      <td>NaN</td>\n",
              "      <td>イワタシ</td>\n",
              "      <td>0</td>\n",
              "    </tr>\n",
              "    <tr>\n",
              "      <th>4</th>\n",
              "      <td>5</td>\n",
              "      <td>1000020222127</td>\n",
              "      <td>01</td>\n",
              "      <td>1</td>\n",
              "      <td>2018-04-05</td>\n",
              "      <td>2015-10-05</td>\n",
              "      <td>焼津市</td>\n",
              "      <td>NaN</td>\n",
              "      <td>201</td>\n",
              "      <td>静岡県</td>\n",
              "      <td>焼津市</td>\n",
              "      <td>本町２丁目１６−３２</td>\n",
              "      <td>NaN</td>\n",
              "      <td>22</td>\n",
              "      <td>212</td>\n",
              "      <td>4250022</td>\n",
              "      <td>NaN</td>\n",
              "      <td>NaN</td>\n",
              "      <td>NaN</td>\n",
              "      <td>NaN</td>\n",
              "      <td>NaN</td>\n",
              "      <td>NaN</td>\n",
              "      <td>2015-10-05</td>\n",
              "      <td>1</td>\n",
              "      <td>Yaizu city</td>\n",
              "      <td>Shizuoka</td>\n",
              "      <td>2-16-32 Honmachi, Yaizu shi</td>\n",
              "      <td>NaN</td>\n",
              "      <td>ヤイヅシ</td>\n",
              "      <td>0</td>\n",
              "    </tr>\n",
              "  </tbody>\n",
              "</table>\n",
              "</div>"
            ],
            "text/plain": [
              "  0              1   2   ...   27             28 29\n",
              "0  1  1000013040008  01  ...  NaN  シズオカカテイサイバンショ  0\n",
              "1  2  1000013050072  01  ...  NaN   シミズカンイサイバンショ  0\n",
              "2  3  1000013050080  01  ...  NaN  ハママツカンイサイバンショ  0\n",
              "3  4  1000020222119  01  ...  NaN           イワタシ  0\n",
              "4  5  1000020222127  01  ...  NaN           ヤイヅシ  0\n",
              "\n",
              "[5 rows x 30 columns]"
            ]
          },
          "metadata": {},
          "execution_count": 21
        }
      ]
    },
    {
      "cell_type": "code",
      "metadata": {
        "id": "B5RI6J3OZNR9",
        "colab": {
          "base_uri": "https://localhost:8080/"
        },
        "outputId": "eb522d7f-7b72-4c61-8433-eb32fa266be2"
      },
      "source": [
        "data.dtypes"
      ],
      "execution_count": 22,
      "outputs": [
        {
          "output_type": "execute_result",
          "data": {
            "text/plain": [
              "0     object\n",
              "1     object\n",
              "2     object\n",
              "3     object\n",
              "4     object\n",
              "5     object\n",
              "6     object\n",
              "7     object\n",
              "8     object\n",
              "9     object\n",
              "10    object\n",
              "11    object\n",
              "12    object\n",
              "13    object\n",
              "14    object\n",
              "15    object\n",
              "16    object\n",
              "17    object\n",
              "18    object\n",
              "19    object\n",
              "20    object\n",
              "21    object\n",
              "22    object\n",
              "23    object\n",
              "24    object\n",
              "25    object\n",
              "26    object\n",
              "27    object\n",
              "28    object\n",
              "29    object\n",
              "dtype: object"
            ]
          },
          "metadata": {},
          "execution_count": 22
        }
      ]
    },
    {
      "cell_type": "markdown",
      "metadata": {
        "id": "M4by1Jywr4G2"
      },
      "source": [
        "## ノック３：ヘッダ用のテキストファイルを読み込もう"
      ]
    },
    {
      "cell_type": "code",
      "metadata": {
        "id": "7ogDQr2Kya4I",
        "colab": {
          "base_uri": "https://localhost:8080/",
          "height": 206
        },
        "outputId": "803fa6ee-1067-46d5-882c-65b83961b25f"
      },
      "source": [
        "mst = pd.read_csv('data/mst_column_name.txt', encoding='shift-jis')\n",
        "mst.head()"
      ],
      "execution_count": 23,
      "outputs": [
        {
          "output_type": "execute_result",
          "data": {
            "text/html": [
              "<div>\n",
              "<style scoped>\n",
              "    .dataframe tbody tr th:only-of-type {\n",
              "        vertical-align: middle;\n",
              "    }\n",
              "\n",
              "    .dataframe tbody tr th {\n",
              "        vertical-align: top;\n",
              "    }\n",
              "\n",
              "    .dataframe thead th {\n",
              "        text-align: right;\n",
              "    }\n",
              "</style>\n",
              "<table border=\"1\" class=\"dataframe\">\n",
              "  <thead>\n",
              "    <tr style=\"text-align: right;\">\n",
              "      <th></th>\n",
              "      <th>column_id\\tcolumn_name_ja\\tcolumn_name_en</th>\n",
              "    </tr>\n",
              "  </thead>\n",
              "  <tbody>\n",
              "    <tr>\n",
              "      <th>0</th>\n",
              "      <td>1\\t一連番号\\tsequenceNumber</td>\n",
              "    </tr>\n",
              "    <tr>\n",
              "      <th>1</th>\n",
              "      <td>2\\t法人番号\\tcorporateNumber</td>\n",
              "    </tr>\n",
              "    <tr>\n",
              "      <th>2</th>\n",
              "      <td>3\\t処理区分\\tprocess</td>\n",
              "    </tr>\n",
              "    <tr>\n",
              "      <th>3</th>\n",
              "      <td>4\\t訂正区分\\tcorrect</td>\n",
              "    </tr>\n",
              "    <tr>\n",
              "      <th>4</th>\n",
              "      <td>5\\t更新年月日\\tupdateDate</td>\n",
              "    </tr>\n",
              "  </tbody>\n",
              "</table>\n",
              "</div>"
            ],
            "text/plain": [
              "  column_id\\tcolumn_name_ja\\tcolumn_name_en\n",
              "0                   1\\t一連番号\\tsequenceNumber\n",
              "1                  2\\t法人番号\\tcorporateNumber\n",
              "2                          3\\t処理区分\\tprocess\n",
              "3                          4\\t訂正区分\\tcorrect\n",
              "4                      5\\t更新年月日\\tupdateDate"
            ]
          },
          "metadata": {},
          "execution_count": 23
        }
      ]
    },
    {
      "cell_type": "code",
      "metadata": {
        "id": "gG1lNXn-ya65",
        "colab": {
          "base_uri": "https://localhost:8080/",
          "height": 206
        },
        "outputId": "b8bbddcc-36b2-43b7-fa21-ac97a8941bb8"
      },
      "source": [
        "# sep='\\t'を追加することでタブ区切りのところで文字が区切られる\n",
        "mst = pd.read_csv('data/mst_column_name.txt', encoding='shift-jis', sep='\\t')\n",
        "mst.head()"
      ],
      "execution_count": 24,
      "outputs": [
        {
          "output_type": "execute_result",
          "data": {
            "text/html": [
              "<div>\n",
              "<style scoped>\n",
              "    .dataframe tbody tr th:only-of-type {\n",
              "        vertical-align: middle;\n",
              "    }\n",
              "\n",
              "    .dataframe tbody tr th {\n",
              "        vertical-align: top;\n",
              "    }\n",
              "\n",
              "    .dataframe thead th {\n",
              "        text-align: right;\n",
              "    }\n",
              "</style>\n",
              "<table border=\"1\" class=\"dataframe\">\n",
              "  <thead>\n",
              "    <tr style=\"text-align: right;\">\n",
              "      <th></th>\n",
              "      <th>column_id</th>\n",
              "      <th>column_name_ja</th>\n",
              "      <th>column_name_en</th>\n",
              "    </tr>\n",
              "  </thead>\n",
              "  <tbody>\n",
              "    <tr>\n",
              "      <th>0</th>\n",
              "      <td>1</td>\n",
              "      <td>一連番号</td>\n",
              "      <td>sequenceNumber</td>\n",
              "    </tr>\n",
              "    <tr>\n",
              "      <th>1</th>\n",
              "      <td>2</td>\n",
              "      <td>法人番号</td>\n",
              "      <td>corporateNumber</td>\n",
              "    </tr>\n",
              "    <tr>\n",
              "      <th>2</th>\n",
              "      <td>3</td>\n",
              "      <td>処理区分</td>\n",
              "      <td>process</td>\n",
              "    </tr>\n",
              "    <tr>\n",
              "      <th>3</th>\n",
              "      <td>4</td>\n",
              "      <td>訂正区分</td>\n",
              "      <td>correct</td>\n",
              "    </tr>\n",
              "    <tr>\n",
              "      <th>4</th>\n",
              "      <td>5</td>\n",
              "      <td>更新年月日</td>\n",
              "      <td>updateDate</td>\n",
              "    </tr>\n",
              "  </tbody>\n",
              "</table>\n",
              "</div>"
            ],
            "text/plain": [
              "   column_id column_name_ja   column_name_en\n",
              "0          1           一連番号   sequenceNumber\n",
              "1          2           法人番号  corporateNumber\n",
              "2          3           処理区分          process\n",
              "3          4           訂正区分          correct\n",
              "4          5          更新年月日       updateDate"
            ]
          },
          "metadata": {},
          "execution_count": 24
        }
      ]
    },
    {
      "cell_type": "code",
      "metadata": {
        "id": "Z5be3u4kz5iH",
        "colab": {
          "base_uri": "https://localhost:8080/"
        },
        "outputId": "331c942e-110d-4ba1-ba71-d2316be53d66"
      },
      "source": [
        "len(mst)"
      ],
      "execution_count": 25,
      "outputs": [
        {
          "output_type": "execute_result",
          "data": {
            "text/plain": [
              "30"
            ]
          },
          "metadata": {},
          "execution_count": 25
        }
      ]
    },
    {
      "cell_type": "code",
      "metadata": {
        "id": "l00v3lF_PM8k",
        "colab": {
          "base_uri": "https://localhost:8080/"
        },
        "outputId": "251dc6ef-3b85-44cb-d1e5-cf072a2495d1"
      },
      "source": [
        "# 今回のヘッダーデータの件数と上記のデータのカラム数が一致しているか確認。左は今回のカラムデータ数。右は上記のデータの項目数。を比較している\n",
        "len(mst) == len(data.columns)"
      ],
      "execution_count": 26,
      "outputs": [
        {
          "output_type": "execute_result",
          "data": {
            "text/plain": [
              "True"
            ]
          },
          "metadata": {},
          "execution_count": 26
        }
      ]
    },
    {
      "cell_type": "markdown",
      "metadata": {
        "id": "XueV-vtPwMY7"
      },
      "source": [
        "## ノック４：ヘッダ行を追加しよう"
      ]
    },
    {
      "cell_type": "code",
      "metadata": {
        "id": "yl6UHFMX0Gvq"
      },
      "source": [
        "#mstのデータセットの中のcolumn_name_enの項目の値だけを選択してcolums変数に代入する\n",
        "columns = mst.column_name_en.values"
      ],
      "execution_count": 27,
      "outputs": []
    },
    {
      "cell_type": "code",
      "metadata": {
        "id": "IdQIr8vOG-14",
        "colab": {
          "base_uri": "https://localhost:8080/"
        },
        "outputId": "fe2bb86b-505b-4cd2-a5e2-31714e292758"
      },
      "source": [
        "columns"
      ],
      "execution_count": 28,
      "outputs": [
        {
          "output_type": "execute_result",
          "data": {
            "text/plain": [
              "array(['sequenceNumber', 'corporateNumber', 'process', 'correct',\n",
              "       'updateDate', 'changeDate', 'name', 'nameImageId', 'kind',\n",
              "       'prefectureName', 'cityName', 'streetNumber', 'addressImageId',\n",
              "       'prefectureCode', 'cityCode', 'postCode', 'addressOutside',\n",
              "       'addressOutsideImageId', 'closeDate', 'closeCause',\n",
              "       'successorCorporateNumber', 'changeCause', 'assignmentDate',\n",
              "       'latest', 'enName', 'enPrefectureName', 'enCityName',\n",
              "       'enAddressOutside', 'furigana', 'hihyoji'], dtype=object)"
            ]
          },
          "metadata": {},
          "execution_count": 28
        }
      ]
    },
    {
      "cell_type": "code",
      "metadata": {
        "id": "CKedAXnp0Jop",
        "colab": {
          "base_uri": "https://localhost:8080/",
          "height": 469
        },
        "outputId": "8a6d8073-be5e-4f3e-d294-009fc25a7177"
      },
      "source": [
        "# 左のdata.columnsに右のcolumnsのデータを代入。data.colomnsのcolomnsは、pandasの属性としてのcolomns、右側のcolomnsは、前段で設定したヘッダリスト。\n",
        "data.columns = columns\n",
        "data.head()"
      ],
      "execution_count": 29,
      "outputs": [
        {
          "output_type": "execute_result",
          "data": {
            "text/html": [
              "<div>\n",
              "<style scoped>\n",
              "    .dataframe tbody tr th:only-of-type {\n",
              "        vertical-align: middle;\n",
              "    }\n",
              "\n",
              "    .dataframe tbody tr th {\n",
              "        vertical-align: top;\n",
              "    }\n",
              "\n",
              "    .dataframe thead th {\n",
              "        text-align: right;\n",
              "    }\n",
              "</style>\n",
              "<table border=\"1\" class=\"dataframe\">\n",
              "  <thead>\n",
              "    <tr style=\"text-align: right;\">\n",
              "      <th></th>\n",
              "      <th>sequenceNumber</th>\n",
              "      <th>corporateNumber</th>\n",
              "      <th>process</th>\n",
              "      <th>correct</th>\n",
              "      <th>updateDate</th>\n",
              "      <th>changeDate</th>\n",
              "      <th>name</th>\n",
              "      <th>nameImageId</th>\n",
              "      <th>kind</th>\n",
              "      <th>prefectureName</th>\n",
              "      <th>cityName</th>\n",
              "      <th>streetNumber</th>\n",
              "      <th>addressImageId</th>\n",
              "      <th>prefectureCode</th>\n",
              "      <th>cityCode</th>\n",
              "      <th>postCode</th>\n",
              "      <th>addressOutside</th>\n",
              "      <th>addressOutsideImageId</th>\n",
              "      <th>closeDate</th>\n",
              "      <th>closeCause</th>\n",
              "      <th>successorCorporateNumber</th>\n",
              "      <th>changeCause</th>\n",
              "      <th>assignmentDate</th>\n",
              "      <th>latest</th>\n",
              "      <th>enName</th>\n",
              "      <th>enPrefectureName</th>\n",
              "      <th>enCityName</th>\n",
              "      <th>enAddressOutside</th>\n",
              "      <th>furigana</th>\n",
              "      <th>hihyoji</th>\n",
              "    </tr>\n",
              "  </thead>\n",
              "  <tbody>\n",
              "    <tr>\n",
              "      <th>0</th>\n",
              "      <td>1</td>\n",
              "      <td>1000013040008</td>\n",
              "      <td>01</td>\n",
              "      <td>1</td>\n",
              "      <td>2018-04-02</td>\n",
              "      <td>2015-10-05</td>\n",
              "      <td>静岡家庭裁判所</td>\n",
              "      <td>NaN</td>\n",
              "      <td>101</td>\n",
              "      <td>静岡県</td>\n",
              "      <td>静岡市葵区</td>\n",
              "      <td>城内町１−２０</td>\n",
              "      <td>NaN</td>\n",
              "      <td>22</td>\n",
              "      <td>101</td>\n",
              "      <td>4200854</td>\n",
              "      <td>NaN</td>\n",
              "      <td>NaN</td>\n",
              "      <td>NaN</td>\n",
              "      <td>NaN</td>\n",
              "      <td>NaN</td>\n",
              "      <td>NaN</td>\n",
              "      <td>2015-10-05</td>\n",
              "      <td>1</td>\n",
              "      <td>Shizuoka Family Court</td>\n",
              "      <td>Shizuoka</td>\n",
              "      <td>1-20, Jonaicho, Aoi ku, Shizuoka shi</td>\n",
              "      <td>NaN</td>\n",
              "      <td>シズオカカテイサイバンショ</td>\n",
              "      <td>0</td>\n",
              "    </tr>\n",
              "    <tr>\n",
              "      <th>1</th>\n",
              "      <td>2</td>\n",
              "      <td>1000013050072</td>\n",
              "      <td>01</td>\n",
              "      <td>1</td>\n",
              "      <td>2018-04-02</td>\n",
              "      <td>2015-10-05</td>\n",
              "      <td>清水簡易裁判所</td>\n",
              "      <td>NaN</td>\n",
              "      <td>101</td>\n",
              "      <td>静岡県</td>\n",
              "      <td>静岡市清水区</td>\n",
              "      <td>天神１丁目６−１５</td>\n",
              "      <td>NaN</td>\n",
              "      <td>22</td>\n",
              "      <td>103</td>\n",
              "      <td>4240809</td>\n",
              "      <td>NaN</td>\n",
              "      <td>NaN</td>\n",
              "      <td>NaN</td>\n",
              "      <td>NaN</td>\n",
              "      <td>NaN</td>\n",
              "      <td>NaN</td>\n",
              "      <td>2015-10-05</td>\n",
              "      <td>1</td>\n",
              "      <td>Shimizu Summary Court</td>\n",
              "      <td>Shizuoka</td>\n",
              "      <td>1-6-15, Tenjin, Shimizu ku, Shizuoka shi</td>\n",
              "      <td>NaN</td>\n",
              "      <td>シミズカンイサイバンショ</td>\n",
              "      <td>0</td>\n",
              "    </tr>\n",
              "    <tr>\n",
              "      <th>2</th>\n",
              "      <td>3</td>\n",
              "      <td>1000013050080</td>\n",
              "      <td>01</td>\n",
              "      <td>1</td>\n",
              "      <td>2018-04-02</td>\n",
              "      <td>2015-10-05</td>\n",
              "      <td>浜松簡易裁判所</td>\n",
              "      <td>NaN</td>\n",
              "      <td>101</td>\n",
              "      <td>静岡県</td>\n",
              "      <td>浜松市中区</td>\n",
              "      <td>中央１丁目１２−５</td>\n",
              "      <td>NaN</td>\n",
              "      <td>22</td>\n",
              "      <td>131</td>\n",
              "      <td>4300929</td>\n",
              "      <td>NaN</td>\n",
              "      <td>NaN</td>\n",
              "      <td>NaN</td>\n",
              "      <td>NaN</td>\n",
              "      <td>NaN</td>\n",
              "      <td>NaN</td>\n",
              "      <td>2015-10-05</td>\n",
              "      <td>1</td>\n",
              "      <td>Hamamatsu Summary Court</td>\n",
              "      <td>Shizuoka</td>\n",
              "      <td>1-12-5, Chuo, Naka ku, Hamamatsu shi</td>\n",
              "      <td>NaN</td>\n",
              "      <td>ハママツカンイサイバンショ</td>\n",
              "      <td>0</td>\n",
              "    </tr>\n",
              "    <tr>\n",
              "      <th>3</th>\n",
              "      <td>4</td>\n",
              "      <td>1000020222119</td>\n",
              "      <td>01</td>\n",
              "      <td>1</td>\n",
              "      <td>2018-04-05</td>\n",
              "      <td>2015-10-05</td>\n",
              "      <td>磐田市</td>\n",
              "      <td>NaN</td>\n",
              "      <td>201</td>\n",
              "      <td>静岡県</td>\n",
              "      <td>磐田市</td>\n",
              "      <td>国府台３−１</td>\n",
              "      <td>NaN</td>\n",
              "      <td>22</td>\n",
              "      <td>211</td>\n",
              "      <td>4380077</td>\n",
              "      <td>NaN</td>\n",
              "      <td>NaN</td>\n",
              "      <td>NaN</td>\n",
              "      <td>NaN</td>\n",
              "      <td>NaN</td>\n",
              "      <td>NaN</td>\n",
              "      <td>2015-10-05</td>\n",
              "      <td>1</td>\n",
              "      <td>Iwata City</td>\n",
              "      <td>Shizuoka</td>\n",
              "      <td>3-1,Kounodai, Iwata shi</td>\n",
              "      <td>NaN</td>\n",
              "      <td>イワタシ</td>\n",
              "      <td>0</td>\n",
              "    </tr>\n",
              "    <tr>\n",
              "      <th>4</th>\n",
              "      <td>5</td>\n",
              "      <td>1000020222127</td>\n",
              "      <td>01</td>\n",
              "      <td>1</td>\n",
              "      <td>2018-04-05</td>\n",
              "      <td>2015-10-05</td>\n",
              "      <td>焼津市</td>\n",
              "      <td>NaN</td>\n",
              "      <td>201</td>\n",
              "      <td>静岡県</td>\n",
              "      <td>焼津市</td>\n",
              "      <td>本町２丁目１６−３２</td>\n",
              "      <td>NaN</td>\n",
              "      <td>22</td>\n",
              "      <td>212</td>\n",
              "      <td>4250022</td>\n",
              "      <td>NaN</td>\n",
              "      <td>NaN</td>\n",
              "      <td>NaN</td>\n",
              "      <td>NaN</td>\n",
              "      <td>NaN</td>\n",
              "      <td>NaN</td>\n",
              "      <td>2015-10-05</td>\n",
              "      <td>1</td>\n",
              "      <td>Yaizu city</td>\n",
              "      <td>Shizuoka</td>\n",
              "      <td>2-16-32 Honmachi, Yaizu shi</td>\n",
              "      <td>NaN</td>\n",
              "      <td>ヤイヅシ</td>\n",
              "      <td>0</td>\n",
              "    </tr>\n",
              "  </tbody>\n",
              "</table>\n",
              "</div>"
            ],
            "text/plain": [
              "  sequenceNumber corporateNumber  ...       furigana hihyoji\n",
              "0              1   1000013040008  ...  シズオカカテイサイバンショ       0\n",
              "1              2   1000013050072  ...   シミズカンイサイバンショ       0\n",
              "2              3   1000013050080  ...  ハママツカンイサイバンショ       0\n",
              "3              4   1000020222119  ...           イワタシ       0\n",
              "4              5   1000020222127  ...           ヤイヅシ       0\n",
              "\n",
              "[5 rows x 30 columns]"
            ]
          },
          "metadata": {},
          "execution_count": 29
        }
      ]
    },
    {
      "cell_type": "markdown",
      "metadata": {
        "id": "nrlLRoaExgGP"
      },
      "source": [
        "## ノック５：統計量や欠損値を確認しよう"
      ]
    },
    {
      "cell_type": "code",
      "metadata": {
        "id": "zVoqN0NSxw2S",
        "colab": {
          "base_uri": "https://localhost:8080/",
          "height": 299
        },
        "outputId": "837f68f5-9a01-4e24-cc37-c064b5ff4dc4"
      },
      "source": [
        "# 統計量を表示\n",
        "# 統計データを見ることでデータの妥当性判断や数値の範囲などを確認できるので加工前に確認すると良い\n",
        "data.describe()"
      ],
      "execution_count": 30,
      "outputs": [
        {
          "output_type": "execute_result",
          "data": {
            "text/html": [
              "<div>\n",
              "<style scoped>\n",
              "    .dataframe tbody tr th:only-of-type {\n",
              "        vertical-align: middle;\n",
              "    }\n",
              "\n",
              "    .dataframe tbody tr th {\n",
              "        vertical-align: top;\n",
              "    }\n",
              "\n",
              "    .dataframe thead th {\n",
              "        text-align: right;\n",
              "    }\n",
              "</style>\n",
              "<table border=\"1\" class=\"dataframe\">\n",
              "  <thead>\n",
              "    <tr style=\"text-align: right;\">\n",
              "      <th></th>\n",
              "      <th>sequenceNumber</th>\n",
              "      <th>corporateNumber</th>\n",
              "      <th>process</th>\n",
              "      <th>correct</th>\n",
              "      <th>updateDate</th>\n",
              "      <th>changeDate</th>\n",
              "      <th>name</th>\n",
              "      <th>nameImageId</th>\n",
              "      <th>kind</th>\n",
              "      <th>prefectureName</th>\n",
              "      <th>cityName</th>\n",
              "      <th>streetNumber</th>\n",
              "      <th>addressImageId</th>\n",
              "      <th>prefectureCode</th>\n",
              "      <th>cityCode</th>\n",
              "      <th>postCode</th>\n",
              "      <th>addressOutside</th>\n",
              "      <th>addressOutsideImageId</th>\n",
              "      <th>closeDate</th>\n",
              "      <th>closeCause</th>\n",
              "      <th>successorCorporateNumber</th>\n",
              "      <th>changeCause</th>\n",
              "      <th>assignmentDate</th>\n",
              "      <th>latest</th>\n",
              "      <th>enName</th>\n",
              "      <th>enPrefectureName</th>\n",
              "      <th>enCityName</th>\n",
              "      <th>enAddressOutside</th>\n",
              "      <th>furigana</th>\n",
              "      <th>hihyoji</th>\n",
              "    </tr>\n",
              "  </thead>\n",
              "  <tbody>\n",
              "    <tr>\n",
              "      <th>count</th>\n",
              "      <td>114613</td>\n",
              "      <td>114613</td>\n",
              "      <td>114613</td>\n",
              "      <td>114613</td>\n",
              "      <td>114613</td>\n",
              "      <td>114613</td>\n",
              "      <td>114613</td>\n",
              "      <td>1243</td>\n",
              "      <td>114613</td>\n",
              "      <td>114613</td>\n",
              "      <td>114613</td>\n",
              "      <td>114596</td>\n",
              "      <td>1195</td>\n",
              "      <td>114613</td>\n",
              "      <td>114613</td>\n",
              "      <td>114440</td>\n",
              "      <td>0</td>\n",
              "      <td>0</td>\n",
              "      <td>10077</td>\n",
              "      <td>10077</td>\n",
              "      <td>666</td>\n",
              "      <td>1111</td>\n",
              "      <td>114613</td>\n",
              "      <td>114613</td>\n",
              "      <td>232</td>\n",
              "      <td>230</td>\n",
              "      <td>230</td>\n",
              "      <td>0</td>\n",
              "      <td>46620</td>\n",
              "      <td>114613</td>\n",
              "    </tr>\n",
              "    <tr>\n",
              "      <th>unique</th>\n",
              "      <td>114613</td>\n",
              "      <td>114613</td>\n",
              "      <td>6</td>\n",
              "      <td>2</td>\n",
              "      <td>1316</td>\n",
              "      <td>1344</td>\n",
              "      <td>105857</td>\n",
              "      <td>1243</td>\n",
              "      <td>9</td>\n",
              "      <td>1</td>\n",
              "      <td>46</td>\n",
              "      <td>99704</td>\n",
              "      <td>1195</td>\n",
              "      <td>1</td>\n",
              "      <td>48</td>\n",
              "      <td>2772</td>\n",
              "      <td>0</td>\n",
              "      <td>0</td>\n",
              "      <td>1331</td>\n",
              "      <td>4</td>\n",
              "      <td>572</td>\n",
              "      <td>1051</td>\n",
              "      <td>1328</td>\n",
              "      <td>1</td>\n",
              "      <td>231</td>\n",
              "      <td>1</td>\n",
              "      <td>129</td>\n",
              "      <td>0</td>\n",
              "      <td>41339</td>\n",
              "      <td>2</td>\n",
              "    </tr>\n",
              "    <tr>\n",
              "      <th>top</th>\n",
              "      <td>63308</td>\n",
              "      <td>4080402005321</td>\n",
              "      <td>01</td>\n",
              "      <td>0</td>\n",
              "      <td>2015-11-13</td>\n",
              "      <td>2015-10-05</td>\n",
              "      <td>八幡神社</td>\n",
              "      <td>00067749</td>\n",
              "      <td>301</td>\n",
              "      <td>静岡県</td>\n",
              "      <td>浜松市中区</td>\n",
              "      <td>新貝町２３９番地の１</td>\n",
              "      <td>00079687</td>\n",
              "      <td>22</td>\n",
              "      <td>131</td>\n",
              "      <td>4100022</td>\n",
              "      <td>NaN</td>\n",
              "      <td>NaN</td>\n",
              "      <td>2016-02-08</td>\n",
              "      <td>01</td>\n",
              "      <td>8080001004480</td>\n",
              "      <td>平成２９年１２月１日静岡市駿河区富士見台一丁目２１番２２号富士見工業株式会社（8080001...</td>\n",
              "      <td>2015-10-05</td>\n",
              "      <td>1</td>\n",
              "      <td>Kamiide financial ward</td>\n",
              "      <td>Shizuoka</td>\n",
              "      <td>2-1-1,oohara, Ito shi</td>\n",
              "      <td>NaN</td>\n",
              "      <td>ハチマングウ</td>\n",
              "      <td>0</td>\n",
              "    </tr>\n",
              "    <tr>\n",
              "      <th>freq</th>\n",
              "      <td>1</td>\n",
              "      <td>1</td>\n",
              "      <td>94126</td>\n",
              "      <td>80704</td>\n",
              "      <td>55969</td>\n",
              "      <td>83291</td>\n",
              "      <td>171</td>\n",
              "      <td>1</td>\n",
              "      <td>51229</td>\n",
              "      <td>114613</td>\n",
              "      <td>9978</td>\n",
              "      <td>51</td>\n",
              "      <td>1</td>\n",
              "      <td>114613</td>\n",
              "      <td>9978</td>\n",
              "      <td>732</td>\n",
              "      <td>NaN</td>\n",
              "      <td>NaN</td>\n",
              "      <td>509</td>\n",
              "      <td>7642</td>\n",
              "      <td>12</td>\n",
              "      <td>12</td>\n",
              "      <td>101316</td>\n",
              "      <td>114613</td>\n",
              "      <td>2</td>\n",
              "      <td>230</td>\n",
              "      <td>10</td>\n",
              "      <td>NaN</td>\n",
              "      <td>30</td>\n",
              "      <td>114388</td>\n",
              "    </tr>\n",
              "  </tbody>\n",
              "</table>\n",
              "</div>"
            ],
            "text/plain": [
              "       sequenceNumber corporateNumber process  ... enAddressOutside furigana hihyoji\n",
              "count          114613          114613  114613  ...                0    46620  114613\n",
              "unique         114613          114613       6  ...                0    41339       2\n",
              "top             63308   4080402005321      01  ...              NaN   ハチマングウ       0\n",
              "freq                1               1   94126  ...              NaN       30  114388\n",
              "\n",
              "[4 rows x 30 columns]"
            ]
          },
          "metadata": {},
          "execution_count": 30
        }
      ]
    },
    {
      "cell_type": "code",
      "metadata": {
        "id": "UPF1Inj8X3j5",
        "colab": {
          "base_uri": "https://localhost:8080/",
          "height": 444
        },
        "outputId": "908d82b2-773c-4d32-93c6-64db35e7e946"
      },
      "source": [
        "#　欠損値がある場合欠損値NaNかどうかを判定。NaNの場合はTrueと表示される\n",
        "data.isna()"
      ],
      "execution_count": 31,
      "outputs": [
        {
          "output_type": "execute_result",
          "data": {
            "text/html": [
              "<div>\n",
              "<style scoped>\n",
              "    .dataframe tbody tr th:only-of-type {\n",
              "        vertical-align: middle;\n",
              "    }\n",
              "\n",
              "    .dataframe tbody tr th {\n",
              "        vertical-align: top;\n",
              "    }\n",
              "\n",
              "    .dataframe thead th {\n",
              "        text-align: right;\n",
              "    }\n",
              "</style>\n",
              "<table border=\"1\" class=\"dataframe\">\n",
              "  <thead>\n",
              "    <tr style=\"text-align: right;\">\n",
              "      <th></th>\n",
              "      <th>sequenceNumber</th>\n",
              "      <th>corporateNumber</th>\n",
              "      <th>process</th>\n",
              "      <th>correct</th>\n",
              "      <th>updateDate</th>\n",
              "      <th>changeDate</th>\n",
              "      <th>name</th>\n",
              "      <th>nameImageId</th>\n",
              "      <th>kind</th>\n",
              "      <th>prefectureName</th>\n",
              "      <th>cityName</th>\n",
              "      <th>streetNumber</th>\n",
              "      <th>addressImageId</th>\n",
              "      <th>prefectureCode</th>\n",
              "      <th>cityCode</th>\n",
              "      <th>postCode</th>\n",
              "      <th>addressOutside</th>\n",
              "      <th>addressOutsideImageId</th>\n",
              "      <th>closeDate</th>\n",
              "      <th>closeCause</th>\n",
              "      <th>successorCorporateNumber</th>\n",
              "      <th>changeCause</th>\n",
              "      <th>assignmentDate</th>\n",
              "      <th>latest</th>\n",
              "      <th>enName</th>\n",
              "      <th>enPrefectureName</th>\n",
              "      <th>enCityName</th>\n",
              "      <th>enAddressOutside</th>\n",
              "      <th>furigana</th>\n",
              "      <th>hihyoji</th>\n",
              "    </tr>\n",
              "  </thead>\n",
              "  <tbody>\n",
              "    <tr>\n",
              "      <th>0</th>\n",
              "      <td>False</td>\n",
              "      <td>False</td>\n",
              "      <td>False</td>\n",
              "      <td>False</td>\n",
              "      <td>False</td>\n",
              "      <td>False</td>\n",
              "      <td>False</td>\n",
              "      <td>True</td>\n",
              "      <td>False</td>\n",
              "      <td>False</td>\n",
              "      <td>False</td>\n",
              "      <td>False</td>\n",
              "      <td>True</td>\n",
              "      <td>False</td>\n",
              "      <td>False</td>\n",
              "      <td>False</td>\n",
              "      <td>True</td>\n",
              "      <td>True</td>\n",
              "      <td>True</td>\n",
              "      <td>True</td>\n",
              "      <td>True</td>\n",
              "      <td>True</td>\n",
              "      <td>False</td>\n",
              "      <td>False</td>\n",
              "      <td>False</td>\n",
              "      <td>False</td>\n",
              "      <td>False</td>\n",
              "      <td>True</td>\n",
              "      <td>False</td>\n",
              "      <td>False</td>\n",
              "    </tr>\n",
              "    <tr>\n",
              "      <th>1</th>\n",
              "      <td>False</td>\n",
              "      <td>False</td>\n",
              "      <td>False</td>\n",
              "      <td>False</td>\n",
              "      <td>False</td>\n",
              "      <td>False</td>\n",
              "      <td>False</td>\n",
              "      <td>True</td>\n",
              "      <td>False</td>\n",
              "      <td>False</td>\n",
              "      <td>False</td>\n",
              "      <td>False</td>\n",
              "      <td>True</td>\n",
              "      <td>False</td>\n",
              "      <td>False</td>\n",
              "      <td>False</td>\n",
              "      <td>True</td>\n",
              "      <td>True</td>\n",
              "      <td>True</td>\n",
              "      <td>True</td>\n",
              "      <td>True</td>\n",
              "      <td>True</td>\n",
              "      <td>False</td>\n",
              "      <td>False</td>\n",
              "      <td>False</td>\n",
              "      <td>False</td>\n",
              "      <td>False</td>\n",
              "      <td>True</td>\n",
              "      <td>False</td>\n",
              "      <td>False</td>\n",
              "    </tr>\n",
              "    <tr>\n",
              "      <th>2</th>\n",
              "      <td>False</td>\n",
              "      <td>False</td>\n",
              "      <td>False</td>\n",
              "      <td>False</td>\n",
              "      <td>False</td>\n",
              "      <td>False</td>\n",
              "      <td>False</td>\n",
              "      <td>True</td>\n",
              "      <td>False</td>\n",
              "      <td>False</td>\n",
              "      <td>False</td>\n",
              "      <td>False</td>\n",
              "      <td>True</td>\n",
              "      <td>False</td>\n",
              "      <td>False</td>\n",
              "      <td>False</td>\n",
              "      <td>True</td>\n",
              "      <td>True</td>\n",
              "      <td>True</td>\n",
              "      <td>True</td>\n",
              "      <td>True</td>\n",
              "      <td>True</td>\n",
              "      <td>False</td>\n",
              "      <td>False</td>\n",
              "      <td>False</td>\n",
              "      <td>False</td>\n",
              "      <td>False</td>\n",
              "      <td>True</td>\n",
              "      <td>False</td>\n",
              "      <td>False</td>\n",
              "    </tr>\n",
              "    <tr>\n",
              "      <th>3</th>\n",
              "      <td>False</td>\n",
              "      <td>False</td>\n",
              "      <td>False</td>\n",
              "      <td>False</td>\n",
              "      <td>False</td>\n",
              "      <td>False</td>\n",
              "      <td>False</td>\n",
              "      <td>True</td>\n",
              "      <td>False</td>\n",
              "      <td>False</td>\n",
              "      <td>False</td>\n",
              "      <td>False</td>\n",
              "      <td>True</td>\n",
              "      <td>False</td>\n",
              "      <td>False</td>\n",
              "      <td>False</td>\n",
              "      <td>True</td>\n",
              "      <td>True</td>\n",
              "      <td>True</td>\n",
              "      <td>True</td>\n",
              "      <td>True</td>\n",
              "      <td>True</td>\n",
              "      <td>False</td>\n",
              "      <td>False</td>\n",
              "      <td>False</td>\n",
              "      <td>False</td>\n",
              "      <td>False</td>\n",
              "      <td>True</td>\n",
              "      <td>False</td>\n",
              "      <td>False</td>\n",
              "    </tr>\n",
              "    <tr>\n",
              "      <th>4</th>\n",
              "      <td>False</td>\n",
              "      <td>False</td>\n",
              "      <td>False</td>\n",
              "      <td>False</td>\n",
              "      <td>False</td>\n",
              "      <td>False</td>\n",
              "      <td>False</td>\n",
              "      <td>True</td>\n",
              "      <td>False</td>\n",
              "      <td>False</td>\n",
              "      <td>False</td>\n",
              "      <td>False</td>\n",
              "      <td>True</td>\n",
              "      <td>False</td>\n",
              "      <td>False</td>\n",
              "      <td>False</td>\n",
              "      <td>True</td>\n",
              "      <td>True</td>\n",
              "      <td>True</td>\n",
              "      <td>True</td>\n",
              "      <td>True</td>\n",
              "      <td>True</td>\n",
              "      <td>False</td>\n",
              "      <td>False</td>\n",
              "      <td>False</td>\n",
              "      <td>False</td>\n",
              "      <td>False</td>\n",
              "      <td>True</td>\n",
              "      <td>False</td>\n",
              "      <td>False</td>\n",
              "    </tr>\n",
              "    <tr>\n",
              "      <th>...</th>\n",
              "      <td>...</td>\n",
              "      <td>...</td>\n",
              "      <td>...</td>\n",
              "      <td>...</td>\n",
              "      <td>...</td>\n",
              "      <td>...</td>\n",
              "      <td>...</td>\n",
              "      <td>...</td>\n",
              "      <td>...</td>\n",
              "      <td>...</td>\n",
              "      <td>...</td>\n",
              "      <td>...</td>\n",
              "      <td>...</td>\n",
              "      <td>...</td>\n",
              "      <td>...</td>\n",
              "      <td>...</td>\n",
              "      <td>...</td>\n",
              "      <td>...</td>\n",
              "      <td>...</td>\n",
              "      <td>...</td>\n",
              "      <td>...</td>\n",
              "      <td>...</td>\n",
              "      <td>...</td>\n",
              "      <td>...</td>\n",
              "      <td>...</td>\n",
              "      <td>...</td>\n",
              "      <td>...</td>\n",
              "      <td>...</td>\n",
              "      <td>...</td>\n",
              "      <td>...</td>\n",
              "    </tr>\n",
              "    <tr>\n",
              "      <th>114608</th>\n",
              "      <td>False</td>\n",
              "      <td>False</td>\n",
              "      <td>False</td>\n",
              "      <td>False</td>\n",
              "      <td>False</td>\n",
              "      <td>False</td>\n",
              "      <td>False</td>\n",
              "      <td>True</td>\n",
              "      <td>False</td>\n",
              "      <td>False</td>\n",
              "      <td>False</td>\n",
              "      <td>False</td>\n",
              "      <td>True</td>\n",
              "      <td>False</td>\n",
              "      <td>False</td>\n",
              "      <td>False</td>\n",
              "      <td>True</td>\n",
              "      <td>True</td>\n",
              "      <td>True</td>\n",
              "      <td>True</td>\n",
              "      <td>True</td>\n",
              "      <td>True</td>\n",
              "      <td>False</td>\n",
              "      <td>False</td>\n",
              "      <td>True</td>\n",
              "      <td>True</td>\n",
              "      <td>True</td>\n",
              "      <td>True</td>\n",
              "      <td>False</td>\n",
              "      <td>False</td>\n",
              "    </tr>\n",
              "    <tr>\n",
              "      <th>114609</th>\n",
              "      <td>False</td>\n",
              "      <td>False</td>\n",
              "      <td>False</td>\n",
              "      <td>False</td>\n",
              "      <td>False</td>\n",
              "      <td>False</td>\n",
              "      <td>False</td>\n",
              "      <td>True</td>\n",
              "      <td>False</td>\n",
              "      <td>False</td>\n",
              "      <td>False</td>\n",
              "      <td>False</td>\n",
              "      <td>True</td>\n",
              "      <td>False</td>\n",
              "      <td>False</td>\n",
              "      <td>False</td>\n",
              "      <td>True</td>\n",
              "      <td>True</td>\n",
              "      <td>True</td>\n",
              "      <td>True</td>\n",
              "      <td>True</td>\n",
              "      <td>True</td>\n",
              "      <td>False</td>\n",
              "      <td>False</td>\n",
              "      <td>True</td>\n",
              "      <td>True</td>\n",
              "      <td>True</td>\n",
              "      <td>True</td>\n",
              "      <td>False</td>\n",
              "      <td>False</td>\n",
              "    </tr>\n",
              "    <tr>\n",
              "      <th>114610</th>\n",
              "      <td>False</td>\n",
              "      <td>False</td>\n",
              "      <td>False</td>\n",
              "      <td>False</td>\n",
              "      <td>False</td>\n",
              "      <td>False</td>\n",
              "      <td>False</td>\n",
              "      <td>True</td>\n",
              "      <td>False</td>\n",
              "      <td>False</td>\n",
              "      <td>False</td>\n",
              "      <td>False</td>\n",
              "      <td>True</td>\n",
              "      <td>False</td>\n",
              "      <td>False</td>\n",
              "      <td>False</td>\n",
              "      <td>True</td>\n",
              "      <td>True</td>\n",
              "      <td>True</td>\n",
              "      <td>True</td>\n",
              "      <td>True</td>\n",
              "      <td>True</td>\n",
              "      <td>False</td>\n",
              "      <td>False</td>\n",
              "      <td>True</td>\n",
              "      <td>True</td>\n",
              "      <td>True</td>\n",
              "      <td>True</td>\n",
              "      <td>False</td>\n",
              "      <td>False</td>\n",
              "    </tr>\n",
              "    <tr>\n",
              "      <th>114611</th>\n",
              "      <td>False</td>\n",
              "      <td>False</td>\n",
              "      <td>False</td>\n",
              "      <td>False</td>\n",
              "      <td>False</td>\n",
              "      <td>False</td>\n",
              "      <td>False</td>\n",
              "      <td>True</td>\n",
              "      <td>False</td>\n",
              "      <td>False</td>\n",
              "      <td>False</td>\n",
              "      <td>False</td>\n",
              "      <td>True</td>\n",
              "      <td>False</td>\n",
              "      <td>False</td>\n",
              "      <td>False</td>\n",
              "      <td>True</td>\n",
              "      <td>True</td>\n",
              "      <td>True</td>\n",
              "      <td>True</td>\n",
              "      <td>True</td>\n",
              "      <td>True</td>\n",
              "      <td>False</td>\n",
              "      <td>False</td>\n",
              "      <td>True</td>\n",
              "      <td>True</td>\n",
              "      <td>True</td>\n",
              "      <td>True</td>\n",
              "      <td>False</td>\n",
              "      <td>False</td>\n",
              "    </tr>\n",
              "    <tr>\n",
              "      <th>114612</th>\n",
              "      <td>False</td>\n",
              "      <td>False</td>\n",
              "      <td>False</td>\n",
              "      <td>False</td>\n",
              "      <td>False</td>\n",
              "      <td>False</td>\n",
              "      <td>False</td>\n",
              "      <td>True</td>\n",
              "      <td>False</td>\n",
              "      <td>False</td>\n",
              "      <td>False</td>\n",
              "      <td>False</td>\n",
              "      <td>True</td>\n",
              "      <td>False</td>\n",
              "      <td>False</td>\n",
              "      <td>False</td>\n",
              "      <td>True</td>\n",
              "      <td>True</td>\n",
              "      <td>True</td>\n",
              "      <td>True</td>\n",
              "      <td>True</td>\n",
              "      <td>True</td>\n",
              "      <td>False</td>\n",
              "      <td>False</td>\n",
              "      <td>True</td>\n",
              "      <td>True</td>\n",
              "      <td>True</td>\n",
              "      <td>True</td>\n",
              "      <td>False</td>\n",
              "      <td>False</td>\n",
              "    </tr>\n",
              "  </tbody>\n",
              "</table>\n",
              "<p>114613 rows × 30 columns</p>\n",
              "</div>"
            ],
            "text/plain": [
              "        sequenceNumber  corporateNumber  ...  furigana  hihyoji\n",
              "0                False            False  ...     False    False\n",
              "1                False            False  ...     False    False\n",
              "2                False            False  ...     False    False\n",
              "3                False            False  ...     False    False\n",
              "4                False            False  ...     False    False\n",
              "...                ...              ...  ...       ...      ...\n",
              "114608           False            False  ...     False    False\n",
              "114609           False            False  ...     False    False\n",
              "114610           False            False  ...     False    False\n",
              "114611           False            False  ...     False    False\n",
              "114612           False            False  ...     False    False\n",
              "\n",
              "[114613 rows x 30 columns]"
            ]
          },
          "metadata": {},
          "execution_count": 31
        }
      ]
    },
    {
      "cell_type": "code",
      "metadata": {
        "id": "BWJGrOBJxz1F",
        "colab": {
          "base_uri": "https://localhost:8080/"
        },
        "outputId": "d279cf6e-0f34-4a0b-9e45-045fae44f8ff"
      },
      "source": [
        "# sumを追加すると項目ごとのNaNの数が表示される。\n",
        "#今回郵便番号にNaNがあるので住所録を作る時は注意が必要\n",
        "data.isna().sum()"
      ],
      "execution_count": 32,
      "outputs": [
        {
          "output_type": "execute_result",
          "data": {
            "text/plain": [
              "sequenceNumber                   0\n",
              "corporateNumber                  0\n",
              "process                          0\n",
              "correct                          0\n",
              "updateDate                       0\n",
              "changeDate                       0\n",
              "name                             0\n",
              "nameImageId                 113370\n",
              "kind                             0\n",
              "prefectureName                   0\n",
              "cityName                         0\n",
              "streetNumber                    17\n",
              "addressImageId              113418\n",
              "prefectureCode                   0\n",
              "cityCode                         0\n",
              "postCode                       173\n",
              "addressOutside              114613\n",
              "addressOutsideImageId       114613\n",
              "closeDate                   104536\n",
              "closeCause                  104536\n",
              "successorCorporateNumber    113947\n",
              "changeCause                 113502\n",
              "assignmentDate                   0\n",
              "latest                           0\n",
              "enName                      114381\n",
              "enPrefectureName            114383\n",
              "enCityName                  114383\n",
              "enAddressOutside            114613\n",
              "furigana                     67993\n",
              "hihyoji                          0\n",
              "dtype: int64"
            ]
          },
          "metadata": {},
          "execution_count": 32
        }
      ]
    },
    {
      "cell_type": "markdown",
      "metadata": {
        "id": "1Z8rwT646g7X"
      },
      "source": [
        "## ノック６：データの追加（繰り返し・読込・抽出・結合）"
      ]
    },
    {
      "cell_type": "code",
      "metadata": {
        "id": "_6ESyddb0lha",
        "colab": {
          "base_uri": "https://localhost:8080/"
        },
        "outputId": "a592a2fc-12d9-47c9-eb74-2bf30244c6c4"
      },
      "source": [
        "# ライブラリのosをインポート。フォルダやファイルを操作するためのライブラリ\n",
        "# os.listdir('data')でフォルダの中身を確認\n",
        "\n",
        "import os\n",
        "os.listdir('data')"
      ],
      "execution_count": 33,
      "outputs": [
        {
          "output_type": "execute_result",
          "data": {
            "text/plain": [
              "['22_shizuoka_all_20210331.csv',\n",
              " 'diff_20210401.csv',\n",
              " 'diff_20210405.csv',\n",
              " 'diff_20210406.csv',\n",
              " 'diff_20210407.csv',\n",
              " 'diff_20210408.csv',\n",
              " 'diff_20210409.csv',\n",
              " 'mst_latest.csv',\n",
              " 'mst_process_kbn.csv',\n",
              " 'mst_closeCause.csv',\n",
              " 'mst_corp_kind.csv',\n",
              " 'mst_hihyoji.csv',\n",
              " 'mst_correct_kbn.csv',\n",
              " 'mst_column_name.txt']"
            ]
          },
          "metadata": {},
          "execution_count": 33
        }
      ]
    },
    {
      "cell_type": "code",
      "metadata": {
        "id": "lN3unz0ZNh4x",
        "colab": {
          "base_uri": "https://localhost:8080/"
        },
        "outputId": "5641bbab-8100-4933-d547-012487053158"
      },
      "source": [
        "# globは、あるパターンにマッチするかたまりを取得するライブラリ\n",
        "# *は、曖昧にして日付の違いがあっても抽出されるようにしている\n",
        "from glob import glob \n",
        "diff_files = glob('data/diff*.csv')\n",
        "diff_files"
      ],
      "execution_count": 34,
      "outputs": [
        {
          "output_type": "execute_result",
          "data": {
            "text/plain": [
              "['data/diff_20210401.csv',\n",
              " 'data/diff_20210405.csv',\n",
              " 'data/diff_20210406.csv',\n",
              " 'data/diff_20210407.csv',\n",
              " 'data/diff_20210408.csv',\n",
              " 'data/diff_20210409.csv']"
            ]
          },
          "metadata": {},
          "execution_count": 34
        }
      ]
    },
    {
      "cell_type": "code",
      "metadata": {
        "id": "oyzaHgbP0lxI",
        "colab": {
          "base_uri": "https://localhost:8080/"
        },
        "outputId": "d4e19c54-527a-4845-b8d9-425010b1fb4e"
      },
      "source": [
        "#ソートして日付順に並び替え\n",
        "# 1つ目のファイルを読み込む\n",
        "# まずは1つのファイルを扱ってみてからやりたいことができることを確認してそれからすべてのファイルを読み込む\n",
        "# 0番目から読み込みたいファイル番号を[ ]で選択する\n",
        "diff_files.sort()\n",
        "diff = pd.read_csv(diff_files[0], encoding='shift-jis', header=None, dtype=object)\n",
        "# 件数の確認\n",
        "print(len(diff))\n",
        "\n",
        "\n"
      ],
      "execution_count": 35,
      "outputs": [
        {
          "output_type": "stream",
          "name": "stdout",
          "text": [
            "2316\n"
          ]
        }
      ]
    },
    {
      "cell_type": "code",
      "metadata": {
        "colab": {
          "base_uri": "https://localhost:8080/",
          "height": 1000
        },
        "id": "i1S89Ii80yNg",
        "outputId": "3817c2dc-9bd5-4399-f733-f1167cc6282f"
      },
      "source": [
        "#中身の確認\n",
        "diff.head(3)"
      ],
      "execution_count": 36,
      "outputs": [
        {
          "output_type": "execute_result",
          "data": {
            "text/html": [
              "<div>\n",
              "<style scoped>\n",
              "    .dataframe tbody tr th:only-of-type {\n",
              "        vertical-align: middle;\n",
              "    }\n",
              "\n",
              "    .dataframe tbody tr th {\n",
              "        vertical-align: top;\n",
              "    }\n",
              "\n",
              "    .dataframe thead th {\n",
              "        text-align: right;\n",
              "    }\n",
              "</style>\n",
              "<table border=\"1\" class=\"dataframe\">\n",
              "  <thead>\n",
              "    <tr style=\"text-align: right;\">\n",
              "      <th></th>\n",
              "      <th>0</th>\n",
              "      <th>1</th>\n",
              "      <th>2</th>\n",
              "      <th>3</th>\n",
              "      <th>4</th>\n",
              "      <th>5</th>\n",
              "      <th>6</th>\n",
              "      <th>7</th>\n",
              "      <th>8</th>\n",
              "      <th>9</th>\n",
              "      <th>10</th>\n",
              "      <th>11</th>\n",
              "      <th>12</th>\n",
              "      <th>13</th>\n",
              "      <th>14</th>\n",
              "      <th>15</th>\n",
              "      <th>16</th>\n",
              "      <th>17</th>\n",
              "      <th>18</th>\n",
              "      <th>19</th>\n",
              "      <th>20</th>\n",
              "      <th>21</th>\n",
              "      <th>22</th>\n",
              "      <th>23</th>\n",
              "      <th>24</th>\n",
              "      <th>25</th>\n",
              "      <th>26</th>\n",
              "      <th>27</th>\n",
              "      <th>28</th>\n",
              "      <th>29</th>\n",
              "    </tr>\n",
              "  </thead>\n",
              "  <tbody>\n",
              "    <tr>\n",
              "      <th>0</th>\n",
              "      <td>1</td>\n",
              "      <td>1010001016019</td>\n",
              "      <td>71</td>\n",
              "      <td>0</td>\n",
              "      <td>2021-04-01</td>\n",
              "      <td>2021-03-01</td>\n",
              "      <td>株式会社国際漢方研究所</td>\n",
              "      <td>NaN</td>\n",
              "      <td>301</td>\n",
              "      <td>東京都</td>\n",
              "      <td>千代田区</td>\n",
              "      <td>内神田３丁目６番１号</td>\n",
              "      <td>NaN</td>\n",
              "      <td>13</td>\n",
              "      <td>101</td>\n",
              "      <td>1010047</td>\n",
              "      <td>NaN</td>\n",
              "      <td>NaN</td>\n",
              "      <td>NaN</td>\n",
              "      <td>NaN</td>\n",
              "      <td>NaN</td>\n",
              "      <td>令和３年３月１日東京都渋谷区千駄ヶ谷五丁目２９番１１号ナカニシビル６０２号室株式会社Ｉｎｔｅ...</td>\n",
              "      <td>2015-10-05</td>\n",
              "      <td>1</td>\n",
              "      <td>NaN</td>\n",
              "      <td>NaN</td>\n",
              "      <td>NaN</td>\n",
              "      <td>NaN</td>\n",
              "      <td>コクサイカンポウケンキュウショ</td>\n",
              "      <td>0</td>\n",
              "    </tr>\n",
              "    <tr>\n",
              "      <th>1</th>\n",
              "      <td>2</td>\n",
              "      <td>1010001092869</td>\n",
              "      <td>01</td>\n",
              "      <td>1</td>\n",
              "      <td>2021-04-01</td>\n",
              "      <td>2020-06-11</td>\n",
              "      <td>あさひ銀リテールファイナンス株式会社</td>\n",
              "      <td>NaN</td>\n",
              "      <td>301</td>\n",
              "      <td>東京都</td>\n",
              "      <td>千代田区</td>\n",
              "      <td>大手町１丁目１番２号りそな銀行内</td>\n",
              "      <td>NaN</td>\n",
              "      <td>13</td>\n",
              "      <td>101</td>\n",
              "      <td>1000004</td>\n",
              "      <td>NaN</td>\n",
              "      <td>NaN</td>\n",
              "      <td>NaN</td>\n",
              "      <td>NaN</td>\n",
              "      <td>NaN</td>\n",
              "      <td>NaN</td>\n",
              "      <td>2020-06-11</td>\n",
              "      <td>0</td>\n",
              "      <td>NaN</td>\n",
              "      <td>NaN</td>\n",
              "      <td>NaN</td>\n",
              "      <td>NaN</td>\n",
              "      <td>アサヒギンリテールファイナンス</td>\n",
              "      <td>0</td>\n",
              "    </tr>\n",
              "    <tr>\n",
              "      <th>2</th>\n",
              "      <td>3</td>\n",
              "      <td>1010001092869</td>\n",
              "      <td>21</td>\n",
              "      <td>0</td>\n",
              "      <td>2021-04-01</td>\n",
              "      <td>2021-03-22</td>\n",
              "      <td>あさひ銀リテールファイナンス株式会社</td>\n",
              "      <td>NaN</td>\n",
              "      <td>301</td>\n",
              "      <td>東京都</td>\n",
              "      <td>千代田区</td>\n",
              "      <td>大手町１丁目１番２号りそな銀行内</td>\n",
              "      <td>NaN</td>\n",
              "      <td>13</td>\n",
              "      <td>101</td>\n",
              "      <td>1000004</td>\n",
              "      <td>NaN</td>\n",
              "      <td>NaN</td>\n",
              "      <td>2021-03-22</td>\n",
              "      <td>01</td>\n",
              "      <td>NaN</td>\n",
              "      <td>NaN</td>\n",
              "      <td>2020-06-11</td>\n",
              "      <td>1</td>\n",
              "      <td>NaN</td>\n",
              "      <td>NaN</td>\n",
              "      <td>NaN</td>\n",
              "      <td>NaN</td>\n",
              "      <td>アサヒギンリテールファイナンス</td>\n",
              "      <td>0</td>\n",
              "    </tr>\n",
              "  </tbody>\n",
              "</table>\n",
              "</div>"
            ],
            "text/plain": [
              "  0              1   2  3           4   ...   25   26   27               28 29\n",
              "0  1  1010001016019  71  0  2021-04-01  ...  NaN  NaN  NaN  コクサイカンポウケンキュウショ  0\n",
              "1  2  1010001092869  01  1  2021-04-01  ...  NaN  NaN  NaN  アサヒギンリテールファイナンス  0\n",
              "2  3  1010001092869  21  0  2021-04-01  ...  NaN  NaN  NaN  アサヒギンリテールファイナンス  0\n",
              "\n",
              "[3 rows x 30 columns]"
            ]
          },
          "metadata": {},
          "execution_count": 36
        }
      ]
    },
    {
      "cell_type": "code",
      "metadata": {
        "id": "9l-ZzTWnaHLR",
        "colab": {
          "base_uri": "https://localhost:8080/",
          "height": 424
        },
        "outputId": "8009eb32-7593-4a47-c72a-646d3fdb796e"
      },
      "source": [
        "# 9列目の都道府県データを静岡県で絞り込む\n",
        "# データの中身と件数を確認\n",
        "diff.columns = columns\n",
        "# pandasの属性なので()ではなく[ ]なので注意\n",
        "diff = diff.loc[diff['prefectureName'] == '静岡県']\n",
        "print(len(diff))\n",
        "diff.head(3)"
      ],
      "execution_count": 37,
      "outputs": [
        {
          "output_type": "stream",
          "name": "stdout",
          "text": [
            "43\n"
          ]
        },
        {
          "output_type": "execute_result",
          "data": {
            "text/html": [
              "<div>\n",
              "<style scoped>\n",
              "    .dataframe tbody tr th:only-of-type {\n",
              "        vertical-align: middle;\n",
              "    }\n",
              "\n",
              "    .dataframe tbody tr th {\n",
              "        vertical-align: top;\n",
              "    }\n",
              "\n",
              "    .dataframe thead th {\n",
              "        text-align: right;\n",
              "    }\n",
              "</style>\n",
              "<table border=\"1\" class=\"dataframe\">\n",
              "  <thead>\n",
              "    <tr style=\"text-align: right;\">\n",
              "      <th></th>\n",
              "      <th>sequenceNumber</th>\n",
              "      <th>corporateNumber</th>\n",
              "      <th>process</th>\n",
              "      <th>correct</th>\n",
              "      <th>updateDate</th>\n",
              "      <th>changeDate</th>\n",
              "      <th>name</th>\n",
              "      <th>nameImageId</th>\n",
              "      <th>kind</th>\n",
              "      <th>prefectureName</th>\n",
              "      <th>cityName</th>\n",
              "      <th>streetNumber</th>\n",
              "      <th>addressImageId</th>\n",
              "      <th>prefectureCode</th>\n",
              "      <th>cityCode</th>\n",
              "      <th>postCode</th>\n",
              "      <th>addressOutside</th>\n",
              "      <th>addressOutsideImageId</th>\n",
              "      <th>closeDate</th>\n",
              "      <th>closeCause</th>\n",
              "      <th>successorCorporateNumber</th>\n",
              "      <th>changeCause</th>\n",
              "      <th>assignmentDate</th>\n",
              "      <th>latest</th>\n",
              "      <th>enName</th>\n",
              "      <th>enPrefectureName</th>\n",
              "      <th>enCityName</th>\n",
              "      <th>enAddressOutside</th>\n",
              "      <th>furigana</th>\n",
              "      <th>hihyoji</th>\n",
              "    </tr>\n",
              "  </thead>\n",
              "  <tbody>\n",
              "    <tr>\n",
              "      <th>107</th>\n",
              "      <td>108</td>\n",
              "      <td>1080001015906</td>\n",
              "      <td>01</td>\n",
              "      <td>1</td>\n",
              "      <td>2021-04-01</td>\n",
              "      <td>2015-10-05</td>\n",
              "      <td>株式会社エムケイテック</td>\n",
              "      <td>NaN</td>\n",
              "      <td>301</td>\n",
              "      <td>静岡県</td>\n",
              "      <td>焼津市</td>\n",
              "      <td>策牛９８番地の２</td>\n",
              "      <td>NaN</td>\n",
              "      <td>22</td>\n",
              "      <td>212</td>\n",
              "      <td>4250007</td>\n",
              "      <td>NaN</td>\n",
              "      <td>NaN</td>\n",
              "      <td>NaN</td>\n",
              "      <td>NaN</td>\n",
              "      <td>NaN</td>\n",
              "      <td>NaN</td>\n",
              "      <td>2015-10-05</td>\n",
              "      <td>0</td>\n",
              "      <td>NaN</td>\n",
              "      <td>NaN</td>\n",
              "      <td>NaN</td>\n",
              "      <td>NaN</td>\n",
              "      <td>エムケイテック</td>\n",
              "      <td>0</td>\n",
              "    </tr>\n",
              "    <tr>\n",
              "      <th>108</th>\n",
              "      <td>109</td>\n",
              "      <td>1080001015906</td>\n",
              "      <td>12</td>\n",
              "      <td>1</td>\n",
              "      <td>2021-04-01</td>\n",
              "      <td>2021-03-30</td>\n",
              "      <td>株式会社エムケイテック</td>\n",
              "      <td>NaN</td>\n",
              "      <td>301</td>\n",
              "      <td>静岡県</td>\n",
              "      <td>藤枝市</td>\n",
              "      <td>岡部桂島９８５番地の５</td>\n",
              "      <td>NaN</td>\n",
              "      <td>22</td>\n",
              "      <td>214</td>\n",
              "      <td>4260000</td>\n",
              "      <td>NaN</td>\n",
              "      <td>NaN</td>\n",
              "      <td>NaN</td>\n",
              "      <td>NaN</td>\n",
              "      <td>NaN</td>\n",
              "      <td>NaN</td>\n",
              "      <td>2015-10-05</td>\n",
              "      <td>1</td>\n",
              "      <td>NaN</td>\n",
              "      <td>NaN</td>\n",
              "      <td>NaN</td>\n",
              "      <td>NaN</td>\n",
              "      <td>エムケイテック</td>\n",
              "      <td>0</td>\n",
              "    </tr>\n",
              "    <tr>\n",
              "      <th>109</th>\n",
              "      <td>110</td>\n",
              "      <td>1080002015434</td>\n",
              "      <td>01</td>\n",
              "      <td>1</td>\n",
              "      <td>2021-04-01</td>\n",
              "      <td>2015-10-05</td>\n",
              "      <td>有限会社ハイナンＤＣ</td>\n",
              "      <td>NaN</td>\n",
              "      <td>302</td>\n",
              "      <td>静岡県</td>\n",
              "      <td>牧之原市</td>\n",
              "      <td>大沢１４４番地９</td>\n",
              "      <td>NaN</td>\n",
              "      <td>22</td>\n",
              "      <td>226</td>\n",
              "      <td>4210526</td>\n",
              "      <td>NaN</td>\n",
              "      <td>NaN</td>\n",
              "      <td>NaN</td>\n",
              "      <td>NaN</td>\n",
              "      <td>NaN</td>\n",
              "      <td>NaN</td>\n",
              "      <td>2015-10-05</td>\n",
              "      <td>1</td>\n",
              "      <td>NaN</td>\n",
              "      <td>NaN</td>\n",
              "      <td>NaN</td>\n",
              "      <td>NaN</td>\n",
              "      <td>ハイナンディーシー</td>\n",
              "      <td>0</td>\n",
              "    </tr>\n",
              "  </tbody>\n",
              "</table>\n",
              "</div>"
            ],
            "text/plain": [
              "    sequenceNumber corporateNumber process  ... enAddressOutside   furigana hihyoji\n",
              "107            108   1080001015906      01  ...              NaN    エムケイテック       0\n",
              "108            109   1080001015906      12  ...              NaN    エムケイテック       0\n",
              "109            110   1080002015434      01  ...              NaN  ハイナンディーシー       0\n",
              "\n",
              "[3 rows x 30 columns]"
            ]
          },
          "metadata": {},
          "execution_count": 37
        }
      ]
    },
    {
      "cell_type": "code",
      "metadata": {
        "id": "QmO-WGYfatBA",
        "colab": {
          "base_uri": "https://localhost:8080/"
        },
        "outputId": "d755df75-c09e-4ae3-d3bc-92fe23a4b180"
      },
      "source": [
        "data_test = data                    # テスト用の変数にdataの中身をコピー\n",
        "print(len(data_test))               # 既存の件数を確認"
      ],
      "execution_count": 46,
      "outputs": [
        {
          "output_type": "stream",
          "name": "stdout",
          "text": [
            "114613\n"
          ]
        }
      ]
    },
    {
      "cell_type": "code",
      "metadata": {
        "colab": {
          "base_uri": "https://localhost:8080/"
        },
        "id": "uvTh7jFEKx39",
        "outputId": "bbecfcdf-958d-4492-aba8-5ca7e56e7fad"
      },
      "source": [
        "print(len(data_test) == len(data))  # 既存の件数が正しいことを確認"
      ],
      "execution_count": 47,
      "outputs": [
        {
          "output_type": "stream",
          "name": "stdout",
          "text": [
            "True\n"
          ]
        }
      ]
    },
    {
      "cell_type": "code",
      "metadata": {
        "colab": {
          "base_uri": "https://localhost:8080/"
        },
        "id": "tD-aM_ulKydr",
        "outputId": "6cfd5baa-0dfc-4c18-ec75-604a5a9357c7"
      },
      "source": [
        "print(len(diff))                    # 差分の件数を確認（上記の静岡で絞り込んだ差分データ自体の件数）"
      ],
      "execution_count": 48,
      "outputs": [
        {
          "output_type": "stream",
          "name": "stdout",
          "text": [
            "43\n"
          ]
        }
      ]
    },
    {
      "cell_type": "code",
      "metadata": {
        "colab": {
          "base_uri": "https://localhost:8080/",
          "height": 389
        },
        "id": "th7JdY7_MsNH",
        "outputId": "33458f12-7042-413c-b7c9-809ffffad1f4"
      },
      "source": [
        "data_test.tail(3)                   # 追加後のデータの末尾3件を確認"
      ],
      "execution_count": 49,
      "outputs": [
        {
          "output_type": "execute_result",
          "data": {
            "text/html": [
              "<div>\n",
              "<style scoped>\n",
              "    .dataframe tbody tr th:only-of-type {\n",
              "        vertical-align: middle;\n",
              "    }\n",
              "\n",
              "    .dataframe tbody tr th {\n",
              "        vertical-align: top;\n",
              "    }\n",
              "\n",
              "    .dataframe thead th {\n",
              "        text-align: right;\n",
              "    }\n",
              "</style>\n",
              "<table border=\"1\" class=\"dataframe\">\n",
              "  <thead>\n",
              "    <tr style=\"text-align: right;\">\n",
              "      <th></th>\n",
              "      <th>sequenceNumber</th>\n",
              "      <th>corporateNumber</th>\n",
              "      <th>process</th>\n",
              "      <th>correct</th>\n",
              "      <th>updateDate</th>\n",
              "      <th>changeDate</th>\n",
              "      <th>name</th>\n",
              "      <th>nameImageId</th>\n",
              "      <th>kind</th>\n",
              "      <th>prefectureName</th>\n",
              "      <th>cityName</th>\n",
              "      <th>streetNumber</th>\n",
              "      <th>addressImageId</th>\n",
              "      <th>prefectureCode</th>\n",
              "      <th>cityCode</th>\n",
              "      <th>postCode</th>\n",
              "      <th>addressOutside</th>\n",
              "      <th>addressOutsideImageId</th>\n",
              "      <th>closeDate</th>\n",
              "      <th>closeCause</th>\n",
              "      <th>successorCorporateNumber</th>\n",
              "      <th>changeCause</th>\n",
              "      <th>assignmentDate</th>\n",
              "      <th>latest</th>\n",
              "      <th>enName</th>\n",
              "      <th>enPrefectureName</th>\n",
              "      <th>enCityName</th>\n",
              "      <th>enAddressOutside</th>\n",
              "      <th>furigana</th>\n",
              "      <th>hihyoji</th>\n",
              "    </tr>\n",
              "  </thead>\n",
              "  <tbody>\n",
              "    <tr>\n",
              "      <th>114610</th>\n",
              "      <td>114611</td>\n",
              "      <td>9700150099530</td>\n",
              "      <td>01</td>\n",
              "      <td>0</td>\n",
              "      <td>2020-07-13</td>\n",
              "      <td>2020-06-23</td>\n",
              "      <td>北方領土返還要求静岡県民会議</td>\n",
              "      <td>NaN</td>\n",
              "      <td>499</td>\n",
              "      <td>静岡県</td>\n",
              "      <td>静岡市葵区</td>\n",
              "      <td>追手町９−１８静岡中央ビル６Ｆ</td>\n",
              "      <td>NaN</td>\n",
              "      <td>22</td>\n",
              "      <td>101</td>\n",
              "      <td>4200853</td>\n",
              "      <td>NaN</td>\n",
              "      <td>NaN</td>\n",
              "      <td>NaN</td>\n",
              "      <td>NaN</td>\n",
              "      <td>NaN</td>\n",
              "      <td>NaN</td>\n",
              "      <td>2020-06-23</td>\n",
              "      <td>1</td>\n",
              "      <td>NaN</td>\n",
              "      <td>NaN</td>\n",
              "      <td>NaN</td>\n",
              "      <td>NaN</td>\n",
              "      <td>ホツポウリヨウドヘンカンヨウキユウシズオカケンミンカイギ</td>\n",
              "      <td>0</td>\n",
              "    </tr>\n",
              "    <tr>\n",
              "      <th>114611</th>\n",
              "      <td>114612</td>\n",
              "      <td>9700150099852</td>\n",
              "      <td>01</td>\n",
              "      <td>0</td>\n",
              "      <td>2020-08-20</td>\n",
              "      <td>2020-07-22</td>\n",
              "      <td>両河内児童クラブ</td>\n",
              "      <td>NaN</td>\n",
              "      <td>499</td>\n",
              "      <td>静岡県</td>\n",
              "      <td>静岡市清水区</td>\n",
              "      <td>和田島６１１</td>\n",
              "      <td>NaN</td>\n",
              "      <td>22</td>\n",
              "      <td>103</td>\n",
              "      <td>4240403</td>\n",
              "      <td>NaN</td>\n",
              "      <td>NaN</td>\n",
              "      <td>NaN</td>\n",
              "      <td>NaN</td>\n",
              "      <td>NaN</td>\n",
              "      <td>NaN</td>\n",
              "      <td>2020-07-22</td>\n",
              "      <td>1</td>\n",
              "      <td>NaN</td>\n",
              "      <td>NaN</td>\n",
              "      <td>NaN</td>\n",
              "      <td>NaN</td>\n",
              "      <td>リヨウゴウチジドウクラブ</td>\n",
              "      <td>0</td>\n",
              "    </tr>\n",
              "    <tr>\n",
              "      <th>114612</th>\n",
              "      <td>114613</td>\n",
              "      <td>9700150101659</td>\n",
              "      <td>01</td>\n",
              "      <td>0</td>\n",
              "      <td>2021-01-26</td>\n",
              "      <td>2021-01-14</td>\n",
              "      <td>静岡市茶業振興協議会</td>\n",
              "      <td>NaN</td>\n",
              "      <td>499</td>\n",
              "      <td>静岡県</td>\n",
              "      <td>静岡市清水区</td>\n",
              "      <td>旭町６−８</td>\n",
              "      <td>NaN</td>\n",
              "      <td>22</td>\n",
              "      <td>103</td>\n",
              "      <td>4240822</td>\n",
              "      <td>NaN</td>\n",
              "      <td>NaN</td>\n",
              "      <td>NaN</td>\n",
              "      <td>NaN</td>\n",
              "      <td>NaN</td>\n",
              "      <td>NaN</td>\n",
              "      <td>2021-01-14</td>\n",
              "      <td>1</td>\n",
              "      <td>NaN</td>\n",
              "      <td>NaN</td>\n",
              "      <td>NaN</td>\n",
              "      <td>NaN</td>\n",
              "      <td>シズオカシチヤギヨウシンコウキヨウギカイ</td>\n",
              "      <td>0</td>\n",
              "    </tr>\n",
              "  </tbody>\n",
              "</table>\n",
              "</div>"
            ],
            "text/plain": [
              "       sequenceNumber corporateNumber  ...                      furigana hihyoji\n",
              "114610         114611   9700150099530  ...  ホツポウリヨウドヘンカンヨウキユウシズオカケンミンカイギ       0\n",
              "114611         114612   9700150099852  ...                  リヨウゴウチジドウクラブ       0\n",
              "114612         114613   9700150101659  ...          シズオカシチヤギヨウシンコウキヨウギカイ       0\n",
              "\n",
              "[3 rows x 30 columns]"
            ]
          },
          "metadata": {},
          "execution_count": 49
        }
      ]
    },
    {
      "cell_type": "code",
      "metadata": {
        "colab": {
          "base_uri": "https://localhost:8080/"
        },
        "id": "EXX21ZzpK8hG",
        "outputId": "98861cbd-a36a-4d05-f42d-2b557930d9dc"
      },
      "source": [
        "data_test = data_test.append(diff)  # テスト用の変数に差分データを追加\n",
        "print(len(data_test))               # 追加後の件数を確認"
      ],
      "execution_count": 50,
      "outputs": [
        {
          "output_type": "stream",
          "name": "stdout",
          "text": [
            "114656\n"
          ]
        }
      ]
    },
    {
      "cell_type": "code",
      "metadata": {
        "colab": {
          "base_uri": "https://localhost:8080/",
          "height": 320
        },
        "id": "2f5k2MPZLB25",
        "outputId": "dcc5b76a-adc6-4291-978d-29da4c3f00ab"
      },
      "source": [
        "data_test.tail(3)                   # 追加後のデータの末尾3件を確認"
      ],
      "execution_count": 51,
      "outputs": [
        {
          "output_type": "execute_result",
          "data": {
            "text/html": [
              "<div>\n",
              "<style scoped>\n",
              "    .dataframe tbody tr th:only-of-type {\n",
              "        vertical-align: middle;\n",
              "    }\n",
              "\n",
              "    .dataframe tbody tr th {\n",
              "        vertical-align: top;\n",
              "    }\n",
              "\n",
              "    .dataframe thead th {\n",
              "        text-align: right;\n",
              "    }\n",
              "</style>\n",
              "<table border=\"1\" class=\"dataframe\">\n",
              "  <thead>\n",
              "    <tr style=\"text-align: right;\">\n",
              "      <th></th>\n",
              "      <th>sequenceNumber</th>\n",
              "      <th>corporateNumber</th>\n",
              "      <th>process</th>\n",
              "      <th>correct</th>\n",
              "      <th>updateDate</th>\n",
              "      <th>changeDate</th>\n",
              "      <th>name</th>\n",
              "      <th>nameImageId</th>\n",
              "      <th>kind</th>\n",
              "      <th>prefectureName</th>\n",
              "      <th>cityName</th>\n",
              "      <th>streetNumber</th>\n",
              "      <th>addressImageId</th>\n",
              "      <th>prefectureCode</th>\n",
              "      <th>cityCode</th>\n",
              "      <th>postCode</th>\n",
              "      <th>addressOutside</th>\n",
              "      <th>addressOutsideImageId</th>\n",
              "      <th>closeDate</th>\n",
              "      <th>closeCause</th>\n",
              "      <th>successorCorporateNumber</th>\n",
              "      <th>changeCause</th>\n",
              "      <th>assignmentDate</th>\n",
              "      <th>latest</th>\n",
              "      <th>enName</th>\n",
              "      <th>enPrefectureName</th>\n",
              "      <th>enCityName</th>\n",
              "      <th>enAddressOutside</th>\n",
              "      <th>furigana</th>\n",
              "      <th>hihyoji</th>\n",
              "    </tr>\n",
              "  </thead>\n",
              "  <tbody>\n",
              "    <tr>\n",
              "      <th>2159</th>\n",
              "      <td>2160</td>\n",
              "      <td>9080401024929</td>\n",
              "      <td>01</td>\n",
              "      <td>0</td>\n",
              "      <td>2021-04-01</td>\n",
              "      <td>2021-04-01</td>\n",
              "      <td>株式会社リガーレ</td>\n",
              "      <td>NaN</td>\n",
              "      <td>301</td>\n",
              "      <td>静岡県</td>\n",
              "      <td>浜松市中区</td>\n",
              "      <td>鍛冶町３１９番地の２４</td>\n",
              "      <td>NaN</td>\n",
              "      <td>22</td>\n",
              "      <td>131</td>\n",
              "      <td>4300933</td>\n",
              "      <td>NaN</td>\n",
              "      <td>NaN</td>\n",
              "      <td>NaN</td>\n",
              "      <td>NaN</td>\n",
              "      <td>NaN</td>\n",
              "      <td>NaN</td>\n",
              "      <td>2021-04-01</td>\n",
              "      <td>1</td>\n",
              "      <td>NaN</td>\n",
              "      <td>NaN</td>\n",
              "      <td>NaN</td>\n",
              "      <td>NaN</td>\n",
              "      <td>リガーレ</td>\n",
              "      <td>0</td>\n",
              "    </tr>\n",
              "    <tr>\n",
              "      <th>2160</th>\n",
              "      <td>2161</td>\n",
              "      <td>9080402007726</td>\n",
              "      <td>01</td>\n",
              "      <td>1</td>\n",
              "      <td>2021-04-01</td>\n",
              "      <td>2015-10-05</td>\n",
              "      <td>有限会社丸信商店</td>\n",
              "      <td>NaN</td>\n",
              "      <td>302</td>\n",
              "      <td>静岡県</td>\n",
              "      <td>浜松市中区</td>\n",
              "      <td>天神町４番８号</td>\n",
              "      <td>NaN</td>\n",
              "      <td>22</td>\n",
              "      <td>131</td>\n",
              "      <td>4300808</td>\n",
              "      <td>NaN</td>\n",
              "      <td>NaN</td>\n",
              "      <td>NaN</td>\n",
              "      <td>NaN</td>\n",
              "      <td>NaN</td>\n",
              "      <td>NaN</td>\n",
              "      <td>2015-10-05</td>\n",
              "      <td>1</td>\n",
              "      <td>NaN</td>\n",
              "      <td>NaN</td>\n",
              "      <td>NaN</td>\n",
              "      <td>NaN</td>\n",
              "      <td>マルシンショウテン</td>\n",
              "      <td>0</td>\n",
              "    </tr>\n",
              "    <tr>\n",
              "      <th>2161</th>\n",
              "      <td>2162</td>\n",
              "      <td>9080402021917</td>\n",
              "      <td>21</td>\n",
              "      <td>0</td>\n",
              "      <td>2021-04-01</td>\n",
              "      <td>2021-03-30</td>\n",
              "      <td>有限会社岡本商会</td>\n",
              "      <td>NaN</td>\n",
              "      <td>302</td>\n",
              "      <td>静岡県</td>\n",
              "      <td>袋井市</td>\n",
              "      <td>梅山３６１番地の１</td>\n",
              "      <td>NaN</td>\n",
              "      <td>22</td>\n",
              "      <td>216</td>\n",
              "      <td>4371105</td>\n",
              "      <td>NaN</td>\n",
              "      <td>NaN</td>\n",
              "      <td>2021-03-30</td>\n",
              "      <td>01</td>\n",
              "      <td>NaN</td>\n",
              "      <td>NaN</td>\n",
              "      <td>2015-10-05</td>\n",
              "      <td>1</td>\n",
              "      <td>NaN</td>\n",
              "      <td>NaN</td>\n",
              "      <td>NaN</td>\n",
              "      <td>NaN</td>\n",
              "      <td>オカモトショウカイ</td>\n",
              "      <td>0</td>\n",
              "    </tr>\n",
              "  </tbody>\n",
              "</table>\n",
              "</div>"
            ],
            "text/plain": [
              "     sequenceNumber corporateNumber process  ... enAddressOutside   furigana hihyoji\n",
              "2159           2160   9080401024929      01  ...              NaN       リガーレ       0\n",
              "2160           2161   9080402007726      01  ...              NaN  マルシンショウテン       0\n",
              "2161           2162   9080402021917      21  ...              NaN  オカモトショウカイ       0\n",
              "\n",
              "[3 rows x 30 columns]"
            ]
          },
          "metadata": {},
          "execution_count": 51
        }
      ]
    },
    {
      "cell_type": "code",
      "metadata": {
        "id": "wPWpDu4_NVnj"
      },
      "source": [
        "# 既存のデータに差分データを追加するがテストなのでdataは更新したくない。したがって初めの段階でtestデータを作りそこに代入した。結合方法はappendでできる\n",
        "# うまくいくことが分かったので繰り返しを行い複数のデータを追加する\n",
        "\n",
        "# diff_filesを繰り返し読み込み追加する"
      ],
      "execution_count": 53,
      "outputs": []
    },
    {
      "cell_type": "code",
      "metadata": {
        "colab": {
          "base_uri": "https://localhost:8080/",
          "height": 1000
        },
        "id": "pFSBpsV6ND7l",
        "outputId": "13553b5e-701b-499d-cf2b-833fd8515a9d"
      },
      "source": [
        "for f in diff_files:\n",
        "  diff = pd.read_csv(f, encoding='shift-jis', header=None, dtype=object)\n",
        "  diff.columns = columns\n",
        "  diff = diff.loc[diff['prefectureName'] == '静岡県']\n",
        "  data = data.append(diff)\n",
        "data"
      ],
      "execution_count": 54,
      "outputs": [
        {
          "output_type": "execute_result",
          "data": {
            "text/html": [
              "<div>\n",
              "<style scoped>\n",
              "    .dataframe tbody tr th:only-of-type {\n",
              "        vertical-align: middle;\n",
              "    }\n",
              "\n",
              "    .dataframe tbody tr th {\n",
              "        vertical-align: top;\n",
              "    }\n",
              "\n",
              "    .dataframe thead th {\n",
              "        text-align: right;\n",
              "    }\n",
              "</style>\n",
              "<table border=\"1\" class=\"dataframe\">\n",
              "  <thead>\n",
              "    <tr style=\"text-align: right;\">\n",
              "      <th></th>\n",
              "      <th>sequenceNumber</th>\n",
              "      <th>corporateNumber</th>\n",
              "      <th>process</th>\n",
              "      <th>correct</th>\n",
              "      <th>updateDate</th>\n",
              "      <th>changeDate</th>\n",
              "      <th>name</th>\n",
              "      <th>nameImageId</th>\n",
              "      <th>kind</th>\n",
              "      <th>prefectureName</th>\n",
              "      <th>cityName</th>\n",
              "      <th>streetNumber</th>\n",
              "      <th>addressImageId</th>\n",
              "      <th>prefectureCode</th>\n",
              "      <th>cityCode</th>\n",
              "      <th>postCode</th>\n",
              "      <th>addressOutside</th>\n",
              "      <th>addressOutsideImageId</th>\n",
              "      <th>closeDate</th>\n",
              "      <th>closeCause</th>\n",
              "      <th>successorCorporateNumber</th>\n",
              "      <th>changeCause</th>\n",
              "      <th>assignmentDate</th>\n",
              "      <th>latest</th>\n",
              "      <th>enName</th>\n",
              "      <th>enPrefectureName</th>\n",
              "      <th>enCityName</th>\n",
              "      <th>enAddressOutside</th>\n",
              "      <th>furigana</th>\n",
              "      <th>hihyoji</th>\n",
              "    </tr>\n",
              "  </thead>\n",
              "  <tbody>\n",
              "    <tr>\n",
              "      <th>0</th>\n",
              "      <td>1</td>\n",
              "      <td>1000013040008</td>\n",
              "      <td>01</td>\n",
              "      <td>1</td>\n",
              "      <td>2018-04-02</td>\n",
              "      <td>2015-10-05</td>\n",
              "      <td>静岡家庭裁判所</td>\n",
              "      <td>NaN</td>\n",
              "      <td>101</td>\n",
              "      <td>静岡県</td>\n",
              "      <td>静岡市葵区</td>\n",
              "      <td>城内町１−２０</td>\n",
              "      <td>NaN</td>\n",
              "      <td>22</td>\n",
              "      <td>101</td>\n",
              "      <td>4200854</td>\n",
              "      <td>NaN</td>\n",
              "      <td>NaN</td>\n",
              "      <td>NaN</td>\n",
              "      <td>NaN</td>\n",
              "      <td>NaN</td>\n",
              "      <td>NaN</td>\n",
              "      <td>2015-10-05</td>\n",
              "      <td>1</td>\n",
              "      <td>Shizuoka Family Court</td>\n",
              "      <td>Shizuoka</td>\n",
              "      <td>1-20, Jonaicho, Aoi ku, Shizuoka shi</td>\n",
              "      <td>NaN</td>\n",
              "      <td>シズオカカテイサイバンショ</td>\n",
              "      <td>0</td>\n",
              "    </tr>\n",
              "    <tr>\n",
              "      <th>1</th>\n",
              "      <td>2</td>\n",
              "      <td>1000013050072</td>\n",
              "      <td>01</td>\n",
              "      <td>1</td>\n",
              "      <td>2018-04-02</td>\n",
              "      <td>2015-10-05</td>\n",
              "      <td>清水簡易裁判所</td>\n",
              "      <td>NaN</td>\n",
              "      <td>101</td>\n",
              "      <td>静岡県</td>\n",
              "      <td>静岡市清水区</td>\n",
              "      <td>天神１丁目６−１５</td>\n",
              "      <td>NaN</td>\n",
              "      <td>22</td>\n",
              "      <td>103</td>\n",
              "      <td>4240809</td>\n",
              "      <td>NaN</td>\n",
              "      <td>NaN</td>\n",
              "      <td>NaN</td>\n",
              "      <td>NaN</td>\n",
              "      <td>NaN</td>\n",
              "      <td>NaN</td>\n",
              "      <td>2015-10-05</td>\n",
              "      <td>1</td>\n",
              "      <td>Shimizu Summary Court</td>\n",
              "      <td>Shizuoka</td>\n",
              "      <td>1-6-15, Tenjin, Shimizu ku, Shizuoka shi</td>\n",
              "      <td>NaN</td>\n",
              "      <td>シミズカンイサイバンショ</td>\n",
              "      <td>0</td>\n",
              "    </tr>\n",
              "    <tr>\n",
              "      <th>2</th>\n",
              "      <td>3</td>\n",
              "      <td>1000013050080</td>\n",
              "      <td>01</td>\n",
              "      <td>1</td>\n",
              "      <td>2018-04-02</td>\n",
              "      <td>2015-10-05</td>\n",
              "      <td>浜松簡易裁判所</td>\n",
              "      <td>NaN</td>\n",
              "      <td>101</td>\n",
              "      <td>静岡県</td>\n",
              "      <td>浜松市中区</td>\n",
              "      <td>中央１丁目１２−５</td>\n",
              "      <td>NaN</td>\n",
              "      <td>22</td>\n",
              "      <td>131</td>\n",
              "      <td>4300929</td>\n",
              "      <td>NaN</td>\n",
              "      <td>NaN</td>\n",
              "      <td>NaN</td>\n",
              "      <td>NaN</td>\n",
              "      <td>NaN</td>\n",
              "      <td>NaN</td>\n",
              "      <td>2015-10-05</td>\n",
              "      <td>1</td>\n",
              "      <td>Hamamatsu Summary Court</td>\n",
              "      <td>Shizuoka</td>\n",
              "      <td>1-12-5, Chuo, Naka ku, Hamamatsu shi</td>\n",
              "      <td>NaN</td>\n",
              "      <td>ハママツカンイサイバンショ</td>\n",
              "      <td>0</td>\n",
              "    </tr>\n",
              "    <tr>\n",
              "      <th>3</th>\n",
              "      <td>4</td>\n",
              "      <td>1000020222119</td>\n",
              "      <td>01</td>\n",
              "      <td>1</td>\n",
              "      <td>2018-04-05</td>\n",
              "      <td>2015-10-05</td>\n",
              "      <td>磐田市</td>\n",
              "      <td>NaN</td>\n",
              "      <td>201</td>\n",
              "      <td>静岡県</td>\n",
              "      <td>磐田市</td>\n",
              "      <td>国府台３−１</td>\n",
              "      <td>NaN</td>\n",
              "      <td>22</td>\n",
              "      <td>211</td>\n",
              "      <td>4380077</td>\n",
              "      <td>NaN</td>\n",
              "      <td>NaN</td>\n",
              "      <td>NaN</td>\n",
              "      <td>NaN</td>\n",
              "      <td>NaN</td>\n",
              "      <td>NaN</td>\n",
              "      <td>2015-10-05</td>\n",
              "      <td>1</td>\n",
              "      <td>Iwata City</td>\n",
              "      <td>Shizuoka</td>\n",
              "      <td>3-1,Kounodai, Iwata shi</td>\n",
              "      <td>NaN</td>\n",
              "      <td>イワタシ</td>\n",
              "      <td>0</td>\n",
              "    </tr>\n",
              "    <tr>\n",
              "      <th>4</th>\n",
              "      <td>5</td>\n",
              "      <td>1000020222127</td>\n",
              "      <td>01</td>\n",
              "      <td>1</td>\n",
              "      <td>2018-04-05</td>\n",
              "      <td>2015-10-05</td>\n",
              "      <td>焼津市</td>\n",
              "      <td>NaN</td>\n",
              "      <td>201</td>\n",
              "      <td>静岡県</td>\n",
              "      <td>焼津市</td>\n",
              "      <td>本町２丁目１６−３２</td>\n",
              "      <td>NaN</td>\n",
              "      <td>22</td>\n",
              "      <td>212</td>\n",
              "      <td>4250022</td>\n",
              "      <td>NaN</td>\n",
              "      <td>NaN</td>\n",
              "      <td>NaN</td>\n",
              "      <td>NaN</td>\n",
              "      <td>NaN</td>\n",
              "      <td>NaN</td>\n",
              "      <td>2015-10-05</td>\n",
              "      <td>1</td>\n",
              "      <td>Yaizu city</td>\n",
              "      <td>Shizuoka</td>\n",
              "      <td>2-16-32 Honmachi, Yaizu shi</td>\n",
              "      <td>NaN</td>\n",
              "      <td>ヤイヅシ</td>\n",
              "      <td>0</td>\n",
              "    </tr>\n",
              "    <tr>\n",
              "      <th>...</th>\n",
              "      <td>...</td>\n",
              "      <td>...</td>\n",
              "      <td>...</td>\n",
              "      <td>...</td>\n",
              "      <td>...</td>\n",
              "      <td>...</td>\n",
              "      <td>...</td>\n",
              "      <td>...</td>\n",
              "      <td>...</td>\n",
              "      <td>...</td>\n",
              "      <td>...</td>\n",
              "      <td>...</td>\n",
              "      <td>...</td>\n",
              "      <td>...</td>\n",
              "      <td>...</td>\n",
              "      <td>...</td>\n",
              "      <td>...</td>\n",
              "      <td>...</td>\n",
              "      <td>...</td>\n",
              "      <td>...</td>\n",
              "      <td>...</td>\n",
              "      <td>...</td>\n",
              "      <td>...</td>\n",
              "      <td>...</td>\n",
              "      <td>...</td>\n",
              "      <td>...</td>\n",
              "      <td>...</td>\n",
              "      <td>...</td>\n",
              "      <td>...</td>\n",
              "      <td>...</td>\n",
              "    </tr>\n",
              "    <tr>\n",
              "      <th>3194</th>\n",
              "      <td>3195</td>\n",
              "      <td>9080001021673</td>\n",
              "      <td>01</td>\n",
              "      <td>1</td>\n",
              "      <td>2021-04-09</td>\n",
              "      <td>2017-07-07</td>\n",
              "      <td>株式会社ＡＣＴ</td>\n",
              "      <td>NaN</td>\n",
              "      <td>301</td>\n",
              "      <td>静岡県</td>\n",
              "      <td>静岡市葵区</td>\n",
              "      <td>太田町１４番地の４</td>\n",
              "      <td>NaN</td>\n",
              "      <td>22</td>\n",
              "      <td>101</td>\n",
              "      <td>4200845</td>\n",
              "      <td>NaN</td>\n",
              "      <td>NaN</td>\n",
              "      <td>NaN</td>\n",
              "      <td>NaN</td>\n",
              "      <td>NaN</td>\n",
              "      <td>NaN</td>\n",
              "      <td>2017-07-07</td>\n",
              "      <td>1</td>\n",
              "      <td>NaN</td>\n",
              "      <td>NaN</td>\n",
              "      <td>NaN</td>\n",
              "      <td>NaN</td>\n",
              "      <td>アクト</td>\n",
              "      <td>0</td>\n",
              "    </tr>\n",
              "    <tr>\n",
              "      <th>3195</th>\n",
              "      <td>3196</td>\n",
              "      <td>9080101022431</td>\n",
              "      <td>01</td>\n",
              "      <td>0</td>\n",
              "      <td>2021-04-09</td>\n",
              "      <td>2021-04-09</td>\n",
              "      <td>株式会社ＬＥＳＱＵＡ</td>\n",
              "      <td>NaN</td>\n",
              "      <td>301</td>\n",
              "      <td>静岡県</td>\n",
              "      <td>沼津市</td>\n",
              "      <td>大岡２５５番地の１５</td>\n",
              "      <td>NaN</td>\n",
              "      <td>22</td>\n",
              "      <td>203</td>\n",
              "      <td>4100022</td>\n",
              "      <td>NaN</td>\n",
              "      <td>NaN</td>\n",
              "      <td>NaN</td>\n",
              "      <td>NaN</td>\n",
              "      <td>NaN</td>\n",
              "      <td>NaN</td>\n",
              "      <td>2021-04-09</td>\n",
              "      <td>1</td>\n",
              "      <td>NaN</td>\n",
              "      <td>NaN</td>\n",
              "      <td>NaN</td>\n",
              "      <td>NaN</td>\n",
              "      <td>レスカ</td>\n",
              "      <td>0</td>\n",
              "    </tr>\n",
              "    <tr>\n",
              "      <th>3196</th>\n",
              "      <td>3197</td>\n",
              "      <td>9080102008933</td>\n",
              "      <td>01</td>\n",
              "      <td>1</td>\n",
              "      <td>2021-04-09</td>\n",
              "      <td>2015-10-05</td>\n",
              "      <td>有限会社サクラ急送</td>\n",
              "      <td>NaN</td>\n",
              "      <td>302</td>\n",
              "      <td>静岡県</td>\n",
              "      <td>伊豆の国市</td>\n",
              "      <td>奈古谷６６３番地の２</td>\n",
              "      <td>NaN</td>\n",
              "      <td>22</td>\n",
              "      <td>225</td>\n",
              "      <td>4102132</td>\n",
              "      <td>NaN</td>\n",
              "      <td>NaN</td>\n",
              "      <td>NaN</td>\n",
              "      <td>NaN</td>\n",
              "      <td>NaN</td>\n",
              "      <td>NaN</td>\n",
              "      <td>2015-10-05</td>\n",
              "      <td>1</td>\n",
              "      <td>NaN</td>\n",
              "      <td>NaN</td>\n",
              "      <td>NaN</td>\n",
              "      <td>NaN</td>\n",
              "      <td>サクラキュウソウ</td>\n",
              "      <td>0</td>\n",
              "    </tr>\n",
              "    <tr>\n",
              "      <th>3197</th>\n",
              "      <td>3198</td>\n",
              "      <td>9080402002859</td>\n",
              "      <td>21</td>\n",
              "      <td>0</td>\n",
              "      <td>2021-04-09</td>\n",
              "      <td>2021-04-01</td>\n",
              "      <td>有限会社弘法</td>\n",
              "      <td>NaN</td>\n",
              "      <td>302</td>\n",
              "      <td>静岡県</td>\n",
              "      <td>浜松市南区</td>\n",
              "      <td>下江町４５６番地の１</td>\n",
              "      <td>NaN</td>\n",
              "      <td>22</td>\n",
              "      <td>134</td>\n",
              "      <td>4300825</td>\n",
              "      <td>NaN</td>\n",
              "      <td>NaN</td>\n",
              "      <td>2021-04-01</td>\n",
              "      <td>11</td>\n",
              "      <td>8080401016019</td>\n",
              "      <td>令和３年４月１日静岡県磐田市安久路二丁目２番地の２まごころ株式会社（808040101601...</td>\n",
              "      <td>2015-10-05</td>\n",
              "      <td>1</td>\n",
              "      <td>NaN</td>\n",
              "      <td>NaN</td>\n",
              "      <td>NaN</td>\n",
              "      <td>NaN</td>\n",
              "      <td>コウボウ</td>\n",
              "      <td>0</td>\n",
              "    </tr>\n",
              "    <tr>\n",
              "      <th>3198</th>\n",
              "      <td>3199</td>\n",
              "      <td>9080402015836</td>\n",
              "      <td>12</td>\n",
              "      <td>0</td>\n",
              "      <td>2021-04-09</td>\n",
              "      <td>2021-04-01</td>\n",
              "      <td>有限会社エコワークス</td>\n",
              "      <td>NaN</td>\n",
              "      <td>302</td>\n",
              "      <td>静岡県</td>\n",
              "      <td>浜松市西区</td>\n",
              "      <td>大人見町３３７４番地の１</td>\n",
              "      <td>NaN</td>\n",
              "      <td>22</td>\n",
              "      <td>133</td>\n",
              "      <td>4311112</td>\n",
              "      <td>NaN</td>\n",
              "      <td>NaN</td>\n",
              "      <td>NaN</td>\n",
              "      <td>NaN</td>\n",
              "      <td>NaN</td>\n",
              "      <td>NaN</td>\n",
              "      <td>2015-10-05</td>\n",
              "      <td>1</td>\n",
              "      <td>NaN</td>\n",
              "      <td>NaN</td>\n",
              "      <td>NaN</td>\n",
              "      <td>NaN</td>\n",
              "      <td>エコワークス</td>\n",
              "      <td>0</td>\n",
              "    </tr>\n",
              "  </tbody>\n",
              "</table>\n",
              "<p>115020 rows × 30 columns</p>\n",
              "</div>"
            ],
            "text/plain": [
              "     sequenceNumber corporateNumber  ...       furigana hihyoji\n",
              "0                 1   1000013040008  ...  シズオカカテイサイバンショ       0\n",
              "1                 2   1000013050072  ...   シミズカンイサイバンショ       0\n",
              "2                 3   1000013050080  ...  ハママツカンイサイバンショ       0\n",
              "3                 4   1000020222119  ...           イワタシ       0\n",
              "4                 5   1000020222127  ...           ヤイヅシ       0\n",
              "...             ...             ...  ...            ...     ...\n",
              "3194           3195   9080001021673  ...            アクト       0\n",
              "3195           3196   9080101022431  ...            レスカ       0\n",
              "3196           3197   9080102008933  ...       サクラキュウソウ       0\n",
              "3197           3198   9080402002859  ...           コウボウ       0\n",
              "3198           3199   9080402015836  ...         エコワークス       0\n",
              "\n",
              "[115020 rows x 30 columns]"
            ]
          },
          "metadata": {},
          "execution_count": 54
        }
      ]
    },
    {
      "cell_type": "code",
      "metadata": {
        "id": "1wsUlE5wPpfY",
        "colab": {
          "base_uri": "https://localhost:8080/",
          "height": 299
        },
        "outputId": "75ca91ae-ede9-43fc-b4e0-498bf638f8a1"
      },
      "source": [
        "# 上記で値が一緒だったcorporateNumberのcountとuniqueの値が一致しなくなった。\n",
        "# ここではcorporateNumberは、法人番号で数は変わらないものとしている。その場合重複があるということがわかる\n",
        "data.describe()"
      ],
      "execution_count": 56,
      "outputs": [
        {
          "output_type": "execute_result",
          "data": {
            "text/html": [
              "<div>\n",
              "<style scoped>\n",
              "    .dataframe tbody tr th:only-of-type {\n",
              "        vertical-align: middle;\n",
              "    }\n",
              "\n",
              "    .dataframe tbody tr th {\n",
              "        vertical-align: top;\n",
              "    }\n",
              "\n",
              "    .dataframe thead th {\n",
              "        text-align: right;\n",
              "    }\n",
              "</style>\n",
              "<table border=\"1\" class=\"dataframe\">\n",
              "  <thead>\n",
              "    <tr style=\"text-align: right;\">\n",
              "      <th></th>\n",
              "      <th>sequenceNumber</th>\n",
              "      <th>corporateNumber</th>\n",
              "      <th>process</th>\n",
              "      <th>correct</th>\n",
              "      <th>updateDate</th>\n",
              "      <th>changeDate</th>\n",
              "      <th>name</th>\n",
              "      <th>nameImageId</th>\n",
              "      <th>kind</th>\n",
              "      <th>prefectureName</th>\n",
              "      <th>cityName</th>\n",
              "      <th>streetNumber</th>\n",
              "      <th>addressImageId</th>\n",
              "      <th>prefectureCode</th>\n",
              "      <th>cityCode</th>\n",
              "      <th>postCode</th>\n",
              "      <th>addressOutside</th>\n",
              "      <th>addressOutsideImageId</th>\n",
              "      <th>closeDate</th>\n",
              "      <th>closeCause</th>\n",
              "      <th>successorCorporateNumber</th>\n",
              "      <th>changeCause</th>\n",
              "      <th>assignmentDate</th>\n",
              "      <th>latest</th>\n",
              "      <th>enName</th>\n",
              "      <th>enPrefectureName</th>\n",
              "      <th>enCityName</th>\n",
              "      <th>enAddressOutside</th>\n",
              "      <th>furigana</th>\n",
              "      <th>hihyoji</th>\n",
              "    </tr>\n",
              "  </thead>\n",
              "  <tbody>\n",
              "    <tr>\n",
              "      <th>count</th>\n",
              "      <td>115020</td>\n",
              "      <td>115020</td>\n",
              "      <td>115020</td>\n",
              "      <td>115020</td>\n",
              "      <td>115020</td>\n",
              "      <td>115020</td>\n",
              "      <td>115020</td>\n",
              "      <td>1246</td>\n",
              "      <td>115020</td>\n",
              "      <td>115020</td>\n",
              "      <td>115020</td>\n",
              "      <td>115003</td>\n",
              "      <td>1198</td>\n",
              "      <td>115020</td>\n",
              "      <td>115020</td>\n",
              "      <td>114847</td>\n",
              "      <td>0</td>\n",
              "      <td>0</td>\n",
              "      <td>10108</td>\n",
              "      <td>10108</td>\n",
              "      <td>678</td>\n",
              "      <td>1130</td>\n",
              "      <td>115020</td>\n",
              "      <td>115020</td>\n",
              "      <td>233</td>\n",
              "      <td>231</td>\n",
              "      <td>231</td>\n",
              "      <td>0</td>\n",
              "      <td>47018</td>\n",
              "      <td>115020</td>\n",
              "    </tr>\n",
              "    <tr>\n",
              "      <th>unique</th>\n",
              "      <td>114613</td>\n",
              "      <td>114758</td>\n",
              "      <td>6</td>\n",
              "      <td>2</td>\n",
              "      <td>1322</td>\n",
              "      <td>1351</td>\n",
              "      <td>106019</td>\n",
              "      <td>1245</td>\n",
              "      <td>9</td>\n",
              "      <td>1</td>\n",
              "      <td>46</td>\n",
              "      <td>99862</td>\n",
              "      <td>1195</td>\n",
              "      <td>1</td>\n",
              "      <td>48</td>\n",
              "      <td>2772</td>\n",
              "      <td>0</td>\n",
              "      <td>0</td>\n",
              "      <td>1334</td>\n",
              "      <td>4</td>\n",
              "      <td>581</td>\n",
              "      <td>1067</td>\n",
              "      <td>1334</td>\n",
              "      <td>2</td>\n",
              "      <td>232</td>\n",
              "      <td>1</td>\n",
              "      <td>130</td>\n",
              "      <td>0</td>\n",
              "      <td>41577</td>\n",
              "      <td>2</td>\n",
              "    </tr>\n",
              "    <tr>\n",
              "      <th>top</th>\n",
              "      <td>3032</td>\n",
              "      <td>7080402010509</td>\n",
              "      <td>01</td>\n",
              "      <td>0</td>\n",
              "      <td>2015-11-13</td>\n",
              "      <td>2015-10-05</td>\n",
              "      <td>八幡神社</td>\n",
              "      <td>00067824</td>\n",
              "      <td>301</td>\n",
              "      <td>静岡県</td>\n",
              "      <td>浜松市中区</td>\n",
              "      <td>新貝町２３９番地の１</td>\n",
              "      <td>00080159</td>\n",
              "      <td>22</td>\n",
              "      <td>131</td>\n",
              "      <td>4100022</td>\n",
              "      <td>NaN</td>\n",
              "      <td>NaN</td>\n",
              "      <td>2016-02-08</td>\n",
              "      <td>01</td>\n",
              "      <td>8080001004480</td>\n",
              "      <td>平成２９年１２月１日静岡市駿河区富士見台一丁目２１番２２号富士見工業株式会社（8080001...</td>\n",
              "      <td>2015-10-05</td>\n",
              "      <td>1</td>\n",
              "      <td>Kamiide financial ward</td>\n",
              "      <td>Shizuoka</td>\n",
              "      <td>1-1-1 Nagaya, Kakegawa shi</td>\n",
              "      <td>NaN</td>\n",
              "      <td>ハチマングウ</td>\n",
              "      <td>0</td>\n",
              "    </tr>\n",
              "    <tr>\n",
              "      <th>freq</th>\n",
              "      <td>4</td>\n",
              "      <td>5</td>\n",
              "      <td>94398</td>\n",
              "      <td>80949</td>\n",
              "      <td>55969</td>\n",
              "      <td>83411</td>\n",
              "      <td>171</td>\n",
              "      <td>2</td>\n",
              "      <td>51474</td>\n",
              "      <td>115020</td>\n",
              "      <td>10020</td>\n",
              "      <td>51</td>\n",
              "      <td>2</td>\n",
              "      <td>115020</td>\n",
              "      <td>10020</td>\n",
              "      <td>735</td>\n",
              "      <td>NaN</td>\n",
              "      <td>NaN</td>\n",
              "      <td>509</td>\n",
              "      <td>7661</td>\n",
              "      <td>12</td>\n",
              "      <td>12</td>\n",
              "      <td>101546</td>\n",
              "      <td>114985</td>\n",
              "      <td>2</td>\n",
              "      <td>231</td>\n",
              "      <td>10</td>\n",
              "      <td>NaN</td>\n",
              "      <td>30</td>\n",
              "      <td>114795</td>\n",
              "    </tr>\n",
              "  </tbody>\n",
              "</table>\n",
              "</div>"
            ],
            "text/plain": [
              "       sequenceNumber corporateNumber process  ... enAddressOutside furigana hihyoji\n",
              "count          115020          115020  115020  ...                0    47018  115020\n",
              "unique         114613          114758       6  ...                0    41577       2\n",
              "top              3032   7080402010509      01  ...              NaN   ハチマングウ       0\n",
              "freq                4               5   94398  ...              NaN       30  114795\n",
              "\n",
              "[4 rows x 30 columns]"
            ]
          },
          "metadata": {},
          "execution_count": 56
        }
      ]
    },
    {
      "cell_type": "code",
      "metadata": {
        "id": "4Yxyb8yYOVN5",
        "colab": {
          "base_uri": "https://localhost:8080/"
        },
        "outputId": "2066c939-c92f-414d-e41f-151493e614e6"
      },
      "source": [
        "#重複を確認する\n",
        "# duplicated()で重複データを表示\n",
        "print(data[data[\"corporateNumber\"].duplicated()])"
      ],
      "execution_count": 57,
      "outputs": [
        {
          "output_type": "stream",
          "name": "stdout",
          "text": [
            "     sequenceNumber corporateNumber  ...     furigana hihyoji\n",
            "107             108   1080001015906  ...      エムケイテック       0\n",
            "108             109   1080001015906  ...      エムケイテック       0\n",
            "109             110   1080002015434  ...    ハイナンディーシー       0\n",
            "110             111   1080105005588  ...     レアーレワールド       0\n",
            "113             114   1080403003401  ...  ポップスターインポート       0\n",
            "...             ...             ...  ...          ...     ...\n",
            "3193           3194   9080001004208  ...          ハギリ       0\n",
            "3194           3195   9080001021673  ...          アクト       0\n",
            "3196           3197   9080102008933  ...     サクラキュウソウ       0\n",
            "3197           3198   9080402002859  ...         コウボウ       0\n",
            "3198           3199   9080402015836  ...       エコワークス       0\n",
            "\n",
            "[262 rows x 30 columns]\n"
          ]
        }
      ]
    },
    {
      "cell_type": "code",
      "metadata": {
        "id": "UyaZcj3WY59P"
      },
      "source": [
        "# 重複データ削除。今回は既存データを削除して差分データを残す\n",
        "#drop_duplicates()関数で重複したデータを削除\n",
        "# subsetは、重複確認対象名\n",
        "# keep='last'は、重複した最終行を残し、inplace=Trueでdataの中身を直接置き換えている\n",
        "data.drop_duplicates(subset='corporateNumber', keep='last', inplace=True)"
      ],
      "execution_count": 59,
      "outputs": []
    },
    {
      "cell_type": "code",
      "metadata": {
        "id": "FB0jcpNbh7L7",
        "colab": {
          "base_uri": "https://localhost:8080/",
          "height": 299
        },
        "outputId": "d8cf56e2-5ee2-4c11-ddef-9db7e9f9564b"
      },
      "source": [
        "# corporateNumberのcountとunique\tの値が一致して重複がなくなったことが確認できた\n",
        "data.describe()"
      ],
      "execution_count": 61,
      "outputs": [
        {
          "output_type": "execute_result",
          "data": {
            "text/html": [
              "<div>\n",
              "<style scoped>\n",
              "    .dataframe tbody tr th:only-of-type {\n",
              "        vertical-align: middle;\n",
              "    }\n",
              "\n",
              "    .dataframe tbody tr th {\n",
              "        vertical-align: top;\n",
              "    }\n",
              "\n",
              "    .dataframe thead th {\n",
              "        text-align: right;\n",
              "    }\n",
              "</style>\n",
              "<table border=\"1\" class=\"dataframe\">\n",
              "  <thead>\n",
              "    <tr style=\"text-align: right;\">\n",
              "      <th></th>\n",
              "      <th>sequenceNumber</th>\n",
              "      <th>corporateNumber</th>\n",
              "      <th>process</th>\n",
              "      <th>correct</th>\n",
              "      <th>updateDate</th>\n",
              "      <th>changeDate</th>\n",
              "      <th>name</th>\n",
              "      <th>nameImageId</th>\n",
              "      <th>kind</th>\n",
              "      <th>prefectureName</th>\n",
              "      <th>cityName</th>\n",
              "      <th>streetNumber</th>\n",
              "      <th>addressImageId</th>\n",
              "      <th>prefectureCode</th>\n",
              "      <th>cityCode</th>\n",
              "      <th>postCode</th>\n",
              "      <th>addressOutside</th>\n",
              "      <th>addressOutsideImageId</th>\n",
              "      <th>closeDate</th>\n",
              "      <th>closeCause</th>\n",
              "      <th>successorCorporateNumber</th>\n",
              "      <th>changeCause</th>\n",
              "      <th>assignmentDate</th>\n",
              "      <th>latest</th>\n",
              "      <th>enName</th>\n",
              "      <th>enPrefectureName</th>\n",
              "      <th>enCityName</th>\n",
              "      <th>enAddressOutside</th>\n",
              "      <th>furigana</th>\n",
              "      <th>hihyoji</th>\n",
              "    </tr>\n",
              "  </thead>\n",
              "  <tbody>\n",
              "    <tr>\n",
              "      <th>count</th>\n",
              "      <td>114758</td>\n",
              "      <td>114758</td>\n",
              "      <td>114758</td>\n",
              "      <td>114758</td>\n",
              "      <td>114758</td>\n",
              "      <td>114758</td>\n",
              "      <td>114758</td>\n",
              "      <td>1245</td>\n",
              "      <td>114758</td>\n",
              "      <td>114758</td>\n",
              "      <td>114758</td>\n",
              "      <td>114741</td>\n",
              "      <td>1195</td>\n",
              "      <td>114758</td>\n",
              "      <td>114758</td>\n",
              "      <td>114585</td>\n",
              "      <td>0</td>\n",
              "      <td>0</td>\n",
              "      <td>10108</td>\n",
              "      <td>10108</td>\n",
              "      <td>678</td>\n",
              "      <td>1129</td>\n",
              "      <td>114758</td>\n",
              "      <td>114758</td>\n",
              "      <td>233</td>\n",
              "      <td>231</td>\n",
              "      <td>231</td>\n",
              "      <td>0</td>\n",
              "      <td>46900</td>\n",
              "      <td>114758</td>\n",
              "    </tr>\n",
              "    <tr>\n",
              "      <th>unique</th>\n",
              "      <td>114388</td>\n",
              "      <td>114758</td>\n",
              "      <td>6</td>\n",
              "      <td>2</td>\n",
              "      <td>1322</td>\n",
              "      <td>1351</td>\n",
              "      <td>105992</td>\n",
              "      <td>1245</td>\n",
              "      <td>9</td>\n",
              "      <td>1</td>\n",
              "      <td>46</td>\n",
              "      <td>99823</td>\n",
              "      <td>1195</td>\n",
              "      <td>1</td>\n",
              "      <td>48</td>\n",
              "      <td>2772</td>\n",
              "      <td>0</td>\n",
              "      <td>0</td>\n",
              "      <td>1334</td>\n",
              "      <td>4</td>\n",
              "      <td>581</td>\n",
              "      <td>1066</td>\n",
              "      <td>1334</td>\n",
              "      <td>2</td>\n",
              "      <td>232</td>\n",
              "      <td>1</td>\n",
              "      <td>130</td>\n",
              "      <td>0</td>\n",
              "      <td>41559</td>\n",
              "      <td>2</td>\n",
              "    </tr>\n",
              "    <tr>\n",
              "      <th>top</th>\n",
              "      <td>3032</td>\n",
              "      <td>4080402005321</td>\n",
              "      <td>01</td>\n",
              "      <td>0</td>\n",
              "      <td>2015-11-13</td>\n",
              "      <td>2015-10-05</td>\n",
              "      <td>八幡神社</td>\n",
              "      <td>00067749</td>\n",
              "      <td>301</td>\n",
              "      <td>静岡県</td>\n",
              "      <td>浜松市中区</td>\n",
              "      <td>新貝町２３９番地の１</td>\n",
              "      <td>00079687</td>\n",
              "      <td>22</td>\n",
              "      <td>131</td>\n",
              "      <td>4100022</td>\n",
              "      <td>NaN</td>\n",
              "      <td>NaN</td>\n",
              "      <td>2016-02-08</td>\n",
              "      <td>01</td>\n",
              "      <td>8080001004480</td>\n",
              "      <td>平成２９年１２月１日静岡市駿河区富士見台一丁目２１番２２号富士見工業株式会社（8080001...</td>\n",
              "      <td>2015-10-05</td>\n",
              "      <td>1</td>\n",
              "      <td>Kamiide financial ward</td>\n",
              "      <td>Shizuoka</td>\n",
              "      <td>1-1-1 Nagaya, Kakegawa shi</td>\n",
              "      <td>NaN</td>\n",
              "      <td>ハチマングウ</td>\n",
              "      <td>0</td>\n",
              "    </tr>\n",
              "    <tr>\n",
              "      <th>freq</th>\n",
              "      <td>4</td>\n",
              "      <td>1</td>\n",
              "      <td>94176</td>\n",
              "      <td>80781</td>\n",
              "      <td>55849</td>\n",
              "      <td>83217</td>\n",
              "      <td>171</td>\n",
              "      <td>1</td>\n",
              "      <td>51331</td>\n",
              "      <td>114758</td>\n",
              "      <td>9994</td>\n",
              "      <td>51</td>\n",
              "      <td>1</td>\n",
              "      <td>114758</td>\n",
              "      <td>9994</td>\n",
              "      <td>734</td>\n",
              "      <td>NaN</td>\n",
              "      <td>NaN</td>\n",
              "      <td>509</td>\n",
              "      <td>7661</td>\n",
              "      <td>12</td>\n",
              "      <td>12</td>\n",
              "      <td>101319</td>\n",
              "      <td>114757</td>\n",
              "      <td>2</td>\n",
              "      <td>231</td>\n",
              "      <td>10</td>\n",
              "      <td>NaN</td>\n",
              "      <td>30</td>\n",
              "      <td>114533</td>\n",
              "    </tr>\n",
              "  </tbody>\n",
              "</table>\n",
              "</div>"
            ],
            "text/plain": [
              "       sequenceNumber corporateNumber process  ... enAddressOutside furigana hihyoji\n",
              "count          114758          114758  114758  ...                0    46900  114758\n",
              "unique         114388          114758       6  ...                0    41559       2\n",
              "top              3032   4080402005321      01  ...              NaN   ハチマングウ       0\n",
              "freq                4               1   94176  ...              NaN       30  114533\n",
              "\n",
              "[4 rows x 30 columns]"
            ]
          },
          "metadata": {},
          "execution_count": 61
        }
      ]
    },
    {
      "cell_type": "code",
      "metadata": {
        "id": "NR6s7J-lPr4L",
        "colab": {
          "base_uri": "https://localhost:8080/"
        },
        "outputId": "7921f916-2337-4796-816d-6f585669cab9"
      },
      "source": [
        "#　欠損値を確認。欠損値はまだあるが今回のデータには問題なしとする\n",
        "data.isna().sum()"
      ],
      "execution_count": 63,
      "outputs": [
        {
          "output_type": "execute_result",
          "data": {
            "text/plain": [
              "sequenceNumber                   0\n",
              "corporateNumber                  0\n",
              "process                          0\n",
              "correct                          0\n",
              "updateDate                       0\n",
              "changeDate                       0\n",
              "name                             0\n",
              "nameImageId                 113513\n",
              "kind                             0\n",
              "prefectureName                   0\n",
              "cityName                         0\n",
              "streetNumber                    17\n",
              "addressImageId              113563\n",
              "prefectureCode                   0\n",
              "cityCode                         0\n",
              "postCode                       173\n",
              "addressOutside              114758\n",
              "addressOutsideImageId       114758\n",
              "closeDate                   104650\n",
              "closeCause                  104650\n",
              "successorCorporateNumber    114080\n",
              "changeCause                 113629\n",
              "assignmentDate                   0\n",
              "latest                           0\n",
              "enName                      114525\n",
              "enPrefectureName            114527\n",
              "enCityName                  114527\n",
              "enAddressOutside            114758\n",
              "furigana                     67858\n",
              "hihyoji                          0\n",
              "dtype: int64"
            ]
          },
          "metadata": {},
          "execution_count": 63
        }
      ]
    },
    {
      "cell_type": "markdown",
      "metadata": {
        "id": "EmMEqFfNwdYB"
      },
      "source": [
        "## ノック７：マスタを読み込んで項目を横に繋げよう"
      ]
    },
    {
      "cell_type": "code",
      "metadata": {
        "id": "D8lyUCQ6QtY-"
      },
      "source": [
        "os.listdir('data')"
      ],
      "execution_count": null,
      "outputs": []
    },
    {
      "cell_type": "code",
      "metadata": {
        "id": "x77F4mLe7i2e"
      },
      "source": [
        "mst_process_kbn = pd.read_csv('data/mst_process_kbn.csv', dtype=object)\n",
        "mst_process_kbn"
      ],
      "execution_count": null,
      "outputs": []
    },
    {
      "cell_type": "code",
      "metadata": {
        "id": "WxiLuvtM7jB5"
      },
      "source": [
        "data = data.merge(mst_process_kbn, on='process', how='left')"
      ],
      "execution_count": null,
      "outputs": []
    },
    {
      "cell_type": "code",
      "metadata": {
        "id": "PpAJDJwc7sBy"
      },
      "source": [
        "print(len(data.columns))\n",
        "data.head(3)"
      ],
      "execution_count": null,
      "outputs": []
    },
    {
      "cell_type": "code",
      "metadata": {
        "id": "ETz0LwEkiLaN"
      },
      "source": [
        "mst_correct_kbn = pd.read_csv('data/mst_correct_kbn.csv', encoding='shift-jis', dtype=object)\n",
        "mst_correct_kbn"
      ],
      "execution_count": null,
      "outputs": []
    },
    {
      "cell_type": "code",
      "metadata": {
        "id": "pb30UGboVvLj"
      },
      "source": [
        "data = data.merge(mst_correct_kbn, on='correct', how='left')\n",
        "print(len(data.columns))\n",
        "data.head(3)"
      ],
      "execution_count": null,
      "outputs": []
    },
    {
      "cell_type": "code",
      "metadata": {
        "id": "CjgQzboxiLWz"
      },
      "source": [
        "mst_corp_kind = pd.read_csv('data/mst_corp_kind.csv', dtype=object)\n",
        "mst_corp_kind"
      ],
      "execution_count": null,
      "outputs": []
    },
    {
      "cell_type": "code",
      "metadata": {
        "id": "HqfXFSaoWGTx"
      },
      "source": [
        "data = data.merge(mst_corp_kind, on='kind', how='left')\n",
        "print(len(data.columns))\n",
        "data.head(3)"
      ],
      "execution_count": null,
      "outputs": []
    },
    {
      "cell_type": "code",
      "metadata": {
        "id": "6CJqDq2iQtf2"
      },
      "source": [
        "mst_close_cause = pd.read_csv('data/mst_closeCause.csv', dtype=object)\n",
        "mst_close_cause"
      ],
      "execution_count": null,
      "outputs": []
    },
    {
      "cell_type": "code",
      "metadata": {
        "id": "gQC3_PosiLTD"
      },
      "source": [
        "data = data.merge(mst_close_cause, on='closeCause', how='left')\n",
        "print(len(data.columns))\n",
        "data.head(3)"
      ],
      "execution_count": null,
      "outputs": []
    },
    {
      "cell_type": "code",
      "metadata": {
        "id": "5fqJ4wDIi6Oe"
      },
      "source": [
        "mst_latest = pd.read_csv('data/mst_latest.csv', dtype=object)\n",
        "mst_latest"
      ],
      "execution_count": null,
      "outputs": []
    },
    {
      "cell_type": "code",
      "metadata": {
        "id": "dmW_80f__Uqa"
      },
      "source": [
        "data = data.merge(mst_latest, on='latest', how='left')\n",
        "print(len(data.columns))\n",
        "data.head(3)"
      ],
      "execution_count": null,
      "outputs": []
    },
    {
      "cell_type": "code",
      "metadata": {
        "id": "rqEjlChui6L6"
      },
      "source": [
        "mst_hihyoji = pd.read_csv('data/mst_hihyoji.csv', dtype=object)\n",
        "mst_hihyoji"
      ],
      "execution_count": null,
      "outputs": []
    },
    {
      "cell_type": "code",
      "metadata": {
        "id": "KzDF_WOH-3iH"
      },
      "source": [
        "data = data.merge(mst_hihyoji, on='hihyoji', how='left')\n",
        "print(len(data.columns))\n",
        "data.head(3)"
      ],
      "execution_count": null,
      "outputs": []
    },
    {
      "cell_type": "markdown",
      "metadata": {
        "id": "9K0jraNW615H"
      },
      "source": [
        "## ノック８：テキストの連結や分割をしよう"
      ]
    },
    {
      "cell_type": "code",
      "metadata": {
        "id": "tAY0PgnG7Two"
      },
      "source": [
        "data[['prefectureName', 'cityName', 'streetNumber']].isna().sum()"
      ],
      "execution_count": null,
      "outputs": []
    },
    {
      "cell_type": "code",
      "metadata": {
        "id": "L5X2wDCPws7j"
      },
      "source": [
        "data['address'] = data['prefectureName'] + data['cityName'] + data['streetNumber']\n",
        "print(len(data.columns))\n",
        "data.head(3)"
      ],
      "execution_count": null,
      "outputs": []
    },
    {
      "cell_type": "code",
      "metadata": {
        "id": "ExieiuWXxrAX"
      },
      "source": [
        "data.loc[data['streetNumber'].isna()].head(3)"
      ],
      "execution_count": null,
      "outputs": []
    },
    {
      "cell_type": "code",
      "metadata": {
        "id": "Rssx-kkDxrEl"
      },
      "source": [
        "data['address'].loc[data['streetNumber'].isna()] = data['prefectureName'] + data['cityName']"
      ],
      "execution_count": null,
      "outputs": []
    },
    {
      "cell_type": "code",
      "metadata": {
        "id": "V9JeCiW0yaKx"
      },
      "source": [
        "print(data['address'].isna().sum())\n",
        "data.loc[data['streetNumber'].isna()].head(3)"
      ],
      "execution_count": null,
      "outputs": []
    },
    {
      "cell_type": "code",
      "metadata": {
        "id": "czPeOvRpC0q-"
      },
      "source": [
        "data.head(3)"
      ],
      "execution_count": null,
      "outputs": []
    },
    {
      "cell_type": "code",
      "metadata": {
        "id": "KbYfrW_vJ3fi"
      },
      "source": [
        "data['postCode_head'] = data['postCode'].str[:3]\n",
        "print(len(data.columns))\n",
        "data.head(3)"
      ],
      "execution_count": null,
      "outputs": []
    },
    {
      "cell_type": "code",
      "metadata": {
        "id": "B5Hn_XxOJ3ph"
      },
      "source": [
        "data['postCode_tail'] = data['postCode'].str[-4:]\n",
        "print(len(data.columns))\n",
        "data.head(3)"
      ],
      "execution_count": null,
      "outputs": []
    },
    {
      "cell_type": "markdown",
      "metadata": {
        "id": "T6n7m5TJ7AkB"
      },
      "source": [
        "## ノック９：日付を加工しよう"
      ]
    },
    {
      "cell_type": "code",
      "metadata": {
        "id": "Hh4voaK5EWIy"
      },
      "source": [
        "data['closeDate'] - data['assignmentDate']"
      ],
      "execution_count": null,
      "outputs": []
    },
    {
      "cell_type": "code",
      "metadata": {
        "id": "pp4IM35pEWNx"
      },
      "source": [
        "tmp = pd.to_datetime(data['closeDate'])\n",
        "tmp.dtypes"
      ],
      "execution_count": null,
      "outputs": []
    },
    {
      "cell_type": "code",
      "metadata": {
        "id": "PYcrAHBXEWXy"
      },
      "source": [
        "dt_columns = ['updateDate', 'changeDate', 'closeDate', 'assignmentDate']\n",
        "for col in dt_columns:\n",
        "  data[col] = pd.to_datetime(data[col])"
      ],
      "execution_count": null,
      "outputs": []
    },
    {
      "cell_type": "code",
      "metadata": {
        "id": "SQ5WXWwLKe6G"
      },
      "source": [
        "data.dtypes"
      ],
      "execution_count": null,
      "outputs": []
    },
    {
      "cell_type": "code",
      "metadata": {
        "id": "DrSSIdr-EWer"
      },
      "source": [
        "data['corporate_life'] = data['closeDate'] - data['assignmentDate']\n",
        "print(len(data.columns))\n",
        "data.head(3)"
      ],
      "execution_count": null,
      "outputs": []
    },
    {
      "cell_type": "code",
      "metadata": {
        "id": "NmkV16LBKHYz"
      },
      "source": [
        "tmp = data.loc[data['closeDate'].notna()]\n",
        "print(len(tmp))\n",
        "tmp.head(3)"
      ],
      "execution_count": null,
      "outputs": []
    },
    {
      "cell_type": "code",
      "metadata": {
        "id": "HYCFhKdNxE0o"
      },
      "source": [
        "len(data.loc[data['closeCause'].notna()]) == len(data.loc[data['closeDate'].notna()])"
      ],
      "execution_count": null,
      "outputs": []
    },
    {
      "cell_type": "code",
      "metadata": {
        "id": "pxB5wykkKHdL"
      },
      "source": [
        "data['update_YM'] = data['updateDate'].dt.to_period('M')\n",
        "print(len(data.columns))\n",
        "data.head()"
      ],
      "execution_count": null,
      "outputs": []
    },
    {
      "cell_type": "code",
      "metadata": {
        "id": "HkpTWI6VLKzs"
      },
      "source": [
        "dt_prefixes = ['assignment', 'change', 'update', 'close']\n",
        "for pre in dt_prefixes:\n",
        "  data[f'{pre}_YM'] = data[f'{pre}Date'].dt.to_period('M')"
      ],
      "execution_count": null,
      "outputs": []
    },
    {
      "cell_type": "code",
      "metadata": {
        "id": "NhtPdrAmLqf6"
      },
      "source": [
        "print(len(data.columns))\n",
        "data.head(3)"
      ],
      "execution_count": null,
      "outputs": []
    },
    {
      "cell_type": "code",
      "metadata": {
        "id": "_-nKto7YL7Bm"
      },
      "source": [
        "data.dtypes"
      ],
      "execution_count": null,
      "outputs": []
    },
    {
      "cell_type": "markdown",
      "metadata": {
        "id": "XMwFLVzu-CZC"
      },
      "source": [
        "## ノック１０：年度を設定しよう"
      ]
    },
    {
      "cell_type": "code",
      "metadata": {
        "id": "8Qm0lSGh-eXC"
      },
      "source": [
        "data['update_year'] = pd.DatetimeIndex(data['updateDate']).year         # 更新日付から年を取得\n",
        "data['update_month'] = pd.DatetimeIndex(data['updateDate']).month       # 更新日付から月を取得\n",
        "data['update_fiscal_year'] = pd.DatetimeIndex(data['updateDate']).year  # 更新年度に取得した年を設定\n",
        "data.loc[data['update_month'] < 4, 'update_fiscal_year'] -= 1           # 更新月が3月までは更新年度-1"
      ],
      "execution_count": null,
      "outputs": []
    },
    {
      "cell_type": "code",
      "metadata": {
        "id": "yd-2BV8CbXqf"
      },
      "source": [
        "print(len(data.columns))\n",
        "data.head(3)"
      ],
      "execution_count": null,
      "outputs": []
    },
    {
      "cell_type": "code",
      "metadata": {
        "id": "DNZpbuhvX2QD"
      },
      "source": [
        "for i in range(12):\n",
        "  display(data[['update_YM', 'update_fiscal_year']].loc[data['update_month'] == i+1 ][:1])"
      ],
      "execution_count": null,
      "outputs": []
    },
    {
      "cell_type": "markdown",
      "metadata": {
        "id": "QPEBK5A47IFZ"
      },
      "source": [
        "## ノック１１：加工したデータをファイルに出力しよう"
      ]
    },
    {
      "cell_type": "code",
      "metadata": {
        "id": "DmJe35nRzIYT"
      },
      "source": [
        "output_dir = 'data/output'\n",
        "os.makedirs(output_dir, exist_ok=True)"
      ],
      "execution_count": null,
      "outputs": []
    },
    {
      "cell_type": "code",
      "metadata": {
        "id": "oFrIz626NtRx"
      },
      "source": [
        "output_file = 'processed_shizuoka.csv'\n",
        "data.to_csv(os.path.join(output_dir, output_file), index=False)"
      ],
      "execution_count": null,
      "outputs": []
    },
    {
      "cell_type": "code",
      "metadata": {
        "id": "4jBHTfcRNtWK"
      },
      "source": [
        "output_file = output_file.replace('.csv', '.xlsx')\n",
        "data.to_excel(os.path.join(output_dir, output_file), index=False)"
      ],
      "execution_count": null,
      "outputs": []
    },
    {
      "cell_type": "markdown",
      "metadata": {
        "id": "3adikQ_m65BI"
      },
      "source": [
        "## ノック１２：不要な項目の削除と並べ替えをしよう"
      ]
    },
    {
      "cell_type": "code",
      "metadata": {
        "id": "d8kal8_4w0vQ"
      },
      "source": [
        "print(len(data.columns))\n",
        "print(data.columns)\n",
        "data.head(3)"
      ],
      "execution_count": null,
      "outputs": []
    },
    {
      "cell_type": "code",
      "metadata": {
        "id": "WIHn2hG4w0yw"
      },
      "source": [
        "data = data[['cityName', 'corporateNumber', 'name', 'corp_kind_name', 'process', 'process_kbn_name', 'assignmentDate', 'updateDate', 'update_fiscal_year', 'update_YM']]"
      ],
      "execution_count": null,
      "outputs": []
    },
    {
      "cell_type": "code",
      "metadata": {
        "id": "v1sp97Bow041"
      },
      "source": [
        "print(len(data.columns))\n",
        "print(data.columns)\n",
        "data.head(3)"
      ],
      "execution_count": null,
      "outputs": []
    },
    {
      "cell_type": "code",
      "metadata": {
        "id": "aXfxDIbJPYcS"
      },
      "source": [
        "data = data.drop(columns = 'process')\n",
        "print(data.columns)\n",
        "data.head(3)"
      ],
      "execution_count": null,
      "outputs": []
    },
    {
      "cell_type": "markdown",
      "metadata": {
        "id": "m87Vuvjb69bU"
      },
      "source": [
        "## ノック１３：まとまった単位で集計しよう\n"
      ]
    },
    {
      "cell_type": "code",
      "metadata": {
        "id": "3yC1LA6Gosp0"
      },
      "source": [
        "tmp = data.groupby('corp_kind_name').size()\n",
        "tmp"
      ],
      "execution_count": null,
      "outputs": []
    },
    {
      "cell_type": "code",
      "metadata": {
        "id": "LebTq01-hwjW"
      },
      "source": [
        "tmp.sort_values(inplace=True, ascending=False)\n",
        "tmp"
      ],
      "execution_count": null,
      "outputs": []
    },
    {
      "cell_type": "code",
      "metadata": {
        "id": "SB7cpmJflhPW"
      },
      "source": [
        "tmp = data.groupby('update_fiscal_year').size()\n",
        "tmp"
      ],
      "execution_count": null,
      "outputs": []
    },
    {
      "cell_type": "code",
      "metadata": {
        "id": "Zk1k3xaQjyX7"
      },
      "source": [
        "tmp = data.groupby(['update_fiscal_year', 'corp_kind_name']).size()\n",
        "tmp"
      ],
      "execution_count": null,
      "outputs": []
    },
    {
      "cell_type": "code",
      "metadata": {
        "id": "Uc_fFgydqhNj"
      },
      "source": [
        "pt_data = pd.pivot_table(data, index='corp_kind_name', columns='update_fiscal_year', aggfunc='size')\n",
        "pt_data"
      ],
      "execution_count": null,
      "outputs": []
    },
    {
      "cell_type": "markdown",
      "metadata": {
        "id": "ChDnISx2McsC"
      },
      "source": [
        "## ノック１４：市区町村別の法人数を可視化しよう"
      ]
    },
    {
      "cell_type": "code",
      "metadata": {
        "id": "ltr0lIZ7YnVF"
      },
      "source": [
        "%%bash\n",
        "pip install -q japanize-matplotlib"
      ],
      "execution_count": null,
      "outputs": []
    },
    {
      "cell_type": "code",
      "metadata": {
        "id": "EIF1Jx8nHlzu"
      },
      "source": [
        "tmp = data.groupby('cityName').size()\n",
        "tmp.head()"
      ],
      "execution_count": null,
      "outputs": []
    },
    {
      "cell_type": "code",
      "metadata": {
        "id": "otM88RmMYU1t"
      },
      "source": [
        "import matplotlib.pyplot as plt\n",
        "import japanize_matplotlib\n",
        "\n",
        "x = tmp.index\n",
        "y = tmp.values\n",
        "plt.bar(x, y)"
      ],
      "execution_count": null,
      "outputs": []
    },
    {
      "cell_type": "code",
      "metadata": {
        "id": "JLjaeA5SBYzu"
      },
      "source": [
        "plt.figure(figsize=(20, 10))\n",
        "plt.bar(x, y)"
      ],
      "execution_count": null,
      "outputs": []
    },
    {
      "cell_type": "markdown",
      "metadata": {
        "id": "xZUzoupPKyHu"
      },
      "source": [
        "## ノック１５：グラフの縦横と表示順を変えてみよう"
      ]
    },
    {
      "cell_type": "code",
      "metadata": {
        "id": "56cZ_GCFLeC-"
      },
      "source": [
        "tmp.sort_values(inplace=True, ascending=True)\n",
        "tmp"
      ],
      "execution_count": null,
      "outputs": []
    },
    {
      "cell_type": "code",
      "metadata": {
        "id": "1Roi13s5U6Tv"
      },
      "source": [
        "plt.figure(figsize=(10, 15))\n",
        "x = tmp.index\n",
        "y = tmp.values\n",
        "plt.barh(x, y)"
      ],
      "execution_count": null,
      "outputs": []
    },
    {
      "cell_type": "markdown",
      "metadata": {
        "id": "3rjir-OYMuSC"
      },
      "source": [
        "## ノック１６：グラフのタイトルとラベルを設定しよう"
      ]
    },
    {
      "cell_type": "code",
      "metadata": {
        "id": "3Sn0LaQjXs36"
      },
      "source": [
        "tmp.sort_values(inplace=True, ascending=False)\n",
        "plt.figure(figsize=(20, 10))\n",
        "x = tmp[:10].index\n",
        "y = tmp[:10].values\n",
        "plt.bar(x, y)\n"
      ],
      "execution_count": null,
      "outputs": []
    },
    {
      "cell_type": "code",
      "metadata": {
        "id": "SCFxrkPIJ89L"
      },
      "source": [
        "plt.figure(figsize=(20, 10))\n",
        "plt.bar(x, y)\n",
        "plt.title('市区町村別の法人数', fontsize=20)\n",
        "plt.xlabel('市区町村名', fontsize=15)\n",
        "plt.ylabel('法人数')\n"
      ],
      "execution_count": null,
      "outputs": []
    },
    {
      "cell_type": "markdown",
      "metadata": {
        "id": "ZVbB0ORNMuce"
      },
      "source": [
        "## ノック１７：グラフの見た目をもっと変えてみよう"
      ]
    },
    {
      "cell_type": "code",
      "metadata": {
        "id": "Imo1pjuQcDMT"
      },
      "source": [
        "tmp.sort_values(inplace=True, ascending=False)\n",
        "tmp = tmp[:10]\n",
        "x = tmp.index\n",
        "y = tmp.values\n",
        "fig, ax = plt.subplots(figsize=(20, 10))\n",
        "bar_list = ax.bar(x, y, color='lightgray')\n",
        "bar_list[4].set_color('blue')\n",
        "ax.set_title('自治体別法人数における富士市の位置づけ', fontsize=20);\n",
        "ax.set_ylabel('法人数', fontsize=15)\n",
        "ax.text(7.5, 9000, '上位10の自治体を抜粋して表示', fontsize=15)"
      ],
      "execution_count": null,
      "outputs": []
    },
    {
      "cell_type": "markdown",
      "metadata": {
        "id": "MPSnLkD0Mkly"
      },
      "source": [
        "## ノック１８：９０日以内に新規登録された法人数を可視化してみよう"
      ]
    },
    {
      "cell_type": "code",
      "metadata": {
        "id": "Gm9PR3GwM4F8"
      },
      "source": [
        "base_time = pd.Timestamp.now(tz='Asia/Tokyo')\n",
        "base_time"
      ],
      "execution_count": null,
      "outputs": []
    },
    {
      "cell_type": "code",
      "metadata": {
        "id": "79WyMnMEVTK4"
      },
      "source": [
        "print(len(data))\n",
        "data.head()"
      ],
      "execution_count": null,
      "outputs": []
    },
    {
      "cell_type": "code",
      "metadata": {
        "id": "aHPDh73iNATi"
      },
      "source": [
        "data['assignmentDate'] = data['assignmentDate'].dt.tz_localize('Asia/Tokyo')\n",
        "data.head()"
      ],
      "execution_count": null,
      "outputs": []
    },
    {
      "cell_type": "code",
      "metadata": {
        "id": "pWDrnaBIqck0"
      },
      "source": [
        "delta = pd.Timedelta(90, 'days')\n",
        "tmp = data.loc[(data['process_kbn_name'] == '新規') & (base_time - data['assignmentDate'] <= delta)]\n",
        "print(len(tmp))\n",
        "tmp.head()"
      ],
      "execution_count": null,
      "outputs": []
    },
    {
      "cell_type": "code",
      "metadata": {
        "id": "FV_zIHl0EGQb"
      },
      "source": [
        "tmp = tmp.groupby('cityName').size()\n",
        "tmp.sort_values(inplace=True, ascending=False)\n",
        "tmp = tmp[:10]\n",
        "x = tmp.index\n",
        "y = tmp.values\n",
        "plt.figure(figsize=(20, 10))\n",
        "plt.bar(x, y)"
      ],
      "execution_count": null,
      "outputs": []
    },
    {
      "cell_type": "code",
      "metadata": {
        "id": "oIIvA-vHEGTO"
      },
      "source": [
        "base_time = pd.Timestamp('2020-04-16', tz='Asia/Tokyo')\n",
        "tmp = data.loc[(data['process_kbn_name'] == '新規') & (base_time - data['assignmentDate'] <= delta)]\n",
        "print(len(tmp))\n",
        "tmp.head()"
      ],
      "execution_count": null,
      "outputs": []
    },
    {
      "cell_type": "code",
      "metadata": {
        "id": "fZZlKIRpEGV7"
      },
      "source": [
        "tmp = tmp.groupby(by='cityName').size()\n",
        "tmp.sort_values(inplace=True, ascending=False)\n",
        "tmp = tmp[:10]\n",
        "x = tmp.index\n",
        "y = tmp.values\n",
        "plt.figure(figsize=(20, 10))\n",
        "plt.bar(x, y)"
      ],
      "execution_count": null,
      "outputs": []
    },
    {
      "cell_type": "markdown",
      "metadata": {
        "id": "MitoEhNPM5s1"
      },
      "source": [
        "## ノック１９：年度別の推移を可視化しよう"
      ]
    },
    {
      "cell_type": "code",
      "metadata": {
        "id": "NBcoQ9bnLaWW"
      },
      "source": [
        "tmp = data.dropna(subset=['cityName'])\n",
        "tmp = tmp.loc[tmp['cityName'].str.match('^.*区$')]\n",
        "print(len(tmp))\n",
        "tmp.head()"
      ],
      "execution_count": null,
      "outputs": []
    },
    {
      "cell_type": "code",
      "metadata": {
        "id": "YrytswQ5xVhc"
      },
      "source": [
        "tmp = tmp.loc[(tmp['update_fiscal_year'] >= 2016) & (tmp['update_fiscal_year'] < 2021)]\n",
        "print(len(tmp))\n",
        "tmp.head()"
      ],
      "execution_count": null,
      "outputs": []
    },
    {
      "cell_type": "code",
      "metadata": {
        "id": "LTNolgJoGN3q"
      },
      "source": [
        "tmp = tmp.groupby(['cityName', 'update_fiscal_year']).size()\n",
        "tmp.name = 'count'\n",
        "tmp = tmp.reset_index()\n",
        "print(len(tmp))\n",
        "tmp.head(6)"
      ],
      "execution_count": null,
      "outputs": []
    },
    {
      "cell_type": "code",
      "metadata": {
        "id": "NMh07RKdxUWQ"
      },
      "source": [
        "import seaborn as sns\n",
        "from matplotlib.ticker import MaxNLocator\n",
        "\n",
        "plt.figure(figsize=(20, 10))\n",
        "plt.gca().xaxis.set_major_locator(MaxNLocator(integer=True))\n",
        "img = sns.lineplot(x=tmp['update_fiscal_year'], y=tmp['count'], hue=tmp['cityName'])"
      ],
      "execution_count": null,
      "outputs": []
    },
    {
      "cell_type": "markdown",
      "metadata": {
        "id": "20F9WmchGlfL"
      },
      "source": [
        "## ノック２０：データとグラフを出力しよう"
      ]
    },
    {
      "cell_type": "code",
      "metadata": {
        "id": "RKR4X1so6XQW"
      },
      "source": [
        "data_file = 'knock20_graphdata.csv'\n",
        "data.to_csv(os.path.join(output_dir, data_file), index=False)"
      ],
      "execution_count": null,
      "outputs": []
    },
    {
      "cell_type": "code",
      "metadata": {
        "id": "LXQIkSZY2Zys"
      },
      "source": [
        "graph_file = 'knock20_graph.png'\n",
        "fig = img.get_figure()\n",
        "fig.savefig(os.path.join(output_dir, graph_file))"
      ],
      "execution_count": null,
      "outputs": []
    }
  ]
}